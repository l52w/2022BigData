{
 "cells": [
  {
   "cell_type": "markdown",
   "id": "344b4735",
   "metadata": {},
   "source": [
    "# 31203_김예인_0405"
   ]
  },
  {
   "cell_type": "markdown",
   "id": "df7c2e10",
   "metadata": {},
   "source": [
    "### range()에 간격 추가하기\n",
    "```\n",
    "range(시작 숫자, 종료 숫자)에서 숫자가 1이 아니라 2나 3씩 증가하도록 간격을 설정할 수 있습니다. 방법은 간단합니다. range(시작숫자, 종료숫자, 간격)으로 기존 명령어에 간격을 추가하면 됩니다. 간격이 2라면 range(1, 20, 2)라고 작성합니다. 이는 a에 1부터 시작해 20가지 2씩 간격을 주고 값을 넣으라는 의미입니다.\n",
    "```"
   ]
  },
  {
   "cell_type": "code",
   "execution_count": 1,
   "id": "7994185d",
   "metadata": {},
   "outputs": [
    {
     "name": "stdout",
     "output_type": "stream",
     "text": [
      "1\n",
      "3\n",
      "5\n",
      "7\n",
      "9\n",
      "11\n",
      "13\n",
      "15\n",
      "17\n",
      "19\n"
     ]
    }
   ],
   "source": [
    "for a in range(1, 20, 2):\n",
    "    print(a)"
   ]
  },
  {
   "cell_type": "code",
   "execution_count": 2,
   "id": "e21f66a0",
   "metadata": {
    "scrolled": true
   },
   "outputs": [
    {
     "name": "stdout",
     "output_type": "stream",
     "text": [
      "1275\n"
     ]
    }
   ],
   "source": [
    "# 1부터 50까지 숫자의 합을 구하는 프로그램\n",
    "result = 0\n",
    "for i in range(1,51):\n",
    "    result += i\n",
    "print(result)"
   ]
  },
  {
   "cell_type": "markdown",
   "id": "be7c55e3",
   "metadata": {},
   "source": [
    "# 숫자 곱 구하기\n",
    "\n",
    "앞의 프로그램을 참고해 1부터 50가지 곱(1x2x...x49x50)을 구해봅시다."
   ]
  },
  {
   "cell_type": "code",
   "execution_count": 6,
   "id": "0c58640b",
   "metadata": {
    "scrolled": true
   },
   "outputs": [
    {
     "name": "stdout",
     "output_type": "stream",
     "text": [
      "30414093201713378043612608166064768844377641568960512000000000000\n"
     ]
    }
   ],
   "source": [
    "result = 1\n",
    "for i in range(1, 51):\n",
    "    result *= i\n",
    "print(result)"
   ]
  },
  {
   "cell_type": "markdown",
   "id": "54fc4f31",
   "metadata": {},
   "source": [
    "# 구구단 출력하기\n",
    "\n",
    "```\n",
    "곱셈 코드를 배웠으니 숫자 하나를 입력받아 구구단을 출력하는 프로그램을 만들어 봅시다. 예를 들어, 4를 입력받으면 4단을 출려하면 됩니다. 구조를 생각해 봅시다. 일단 숫자를 입력받아야 합니다. 그리고 입력받은 값에 1부터 9가지 곱해서 결과로 '4 x 1 =, 4 x 2 = 8 ... 4 x 9 = 36'을 출력해야 합니다. 반복되는 부분은 어딘가요?  입력받은 숫자를 곱하는 부분으로, 4 x o = o 형태로 표현할 수 있습니다. 반복 구간은 뭘까요? 1부터 9가지 입니다.\n",
    "```"
   ]
  },
  {
   "cell_type": "code",
   "execution_count": 5,
   "id": "7f04a4c8",
   "metadata": {
    "scrolled": true
   },
   "outputs": [
    {
     "name": "stdout",
     "output_type": "stream",
     "text": [
      "몇 단을 외울까요?4\n",
      "4 x 1 = 4\n",
      "4 x 2 = 8\n",
      "4 x 3 = 12\n",
      "4 x 4 = 16\n",
      "4 x 5 = 20\n",
      "4 x 6 = 24\n",
      "4 x 7 = 28\n",
      "4 x 8 = 32\n",
      "4 x 9 = 36\n"
     ]
    }
   ],
   "source": [
    "num = int(input('몇 단을 외울까요?'))\n",
    "for i in range(1, 10):\n",
    "    print(num, 'x', i, '=', num*i)"
   ]
  }
 ],
 "metadata": {
  "kernelspec": {
   "display_name": "Python 3 (ipykernel)",
   "language": "python",
   "name": "python3"
  },
  "language_info": {
   "codemirror_mode": {
    "name": "ipython",
    "version": 3
   },
   "file_extension": ".py",
   "mimetype": "text/x-python",
   "name": "python",
   "nbconvert_exporter": "python",
   "pygments_lexer": "ipython3",
   "version": "3.9.7"
  }
 },
 "nbformat": 4,
 "nbformat_minor": 5
}
