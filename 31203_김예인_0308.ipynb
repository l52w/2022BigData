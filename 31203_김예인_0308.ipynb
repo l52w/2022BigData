{
 "cells": [
  {
   "cell_type": "markdown",
   "id": "8e53208a",
   "metadata": {},
   "source": [
    "# [31203_김예인_0308]\n",
    "## 1.숫자형이란?\n"
   ]
  },
  {
   "cell_type": "code",
   "execution_count": 2,
   "id": "f7b0652e",
   "metadata": {},
   "outputs": [],
   "source": [
    "a = 123\n",
    "b = -178\n",
    "c = 0"
   ]
  },
  {
   "cell_type": "code",
   "execution_count": 3,
   "id": "089e6303",
   "metadata": {},
   "outputs": [
    {
     "name": "stdout",
     "output_type": "stream",
     "text": [
      "123 -178 0\n"
     ]
    }
   ],
   "source": [
    "print(a,b,c)"
   ]
  },
  {
   "cell_type": "markdown",
   "id": "095a9b46",
   "metadata": {},
   "source": [
    "## 2. 8진수와 16진수"
   ]
  },
  {
   "cell_type": "code",
   "execution_count": 5,
   "id": "c945e936",
   "metadata": {},
   "outputs": [
    {
     "name": "stdout",
     "output_type": "stream",
     "text": [
      "127\n"
     ]
    }
   ],
   "source": [
    "d = 0o177\n",
    "print(d)"
   ]
  },
  {
   "cell_type": "code",
   "execution_count": null,
   "id": "a05afd4a",
   "metadata": {},
   "outputs": [],
   "source": []
  }
 ],
 "metadata": {
  "kernelspec": {
   "display_name": "Python 3 (ipykernel)",
   "language": "python",
   "name": "python3"
  },
  "language_info": {
   "codemirror_mode": {
    "name": "ipython",
    "version": 3
   },
   "file_extension": ".py",
   "mimetype": "text/x-python",
   "name": "python",
   "nbconvert_exporter": "python",
   "pygments_lexer": "ipython3",
   "version": "3.9.7"
  }
 },
 "nbformat": 4,
 "nbformat_minor": 5
}
