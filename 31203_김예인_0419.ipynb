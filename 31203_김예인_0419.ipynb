{
 "cells": [
  {
   "cell_type": "markdown",
   "id": "103eda9b",
   "metadata": {},
   "source": [
    "# 31203_김예인_0419"
   ]
  },
  {
   "cell_type": "markdown",
   "id": "a57ce488",
   "metadata": {},
   "source": [
    "### 빈 리스트 만들고 데이터 추가하기\n",
    "\n",
    "> 빈 리스트 => 리스트이름=[]"
   ]
  },
  {
   "cell_type": "code",
   "execution_count": 8,
   "id": "be9f1c82",
   "metadata": {},
   "outputs": [
    {
     "name": "stdout",
     "output_type": "stream",
     "text": [
      "['파이썬 공부']\n"
     ]
    }
   ],
   "source": [
    "# 해야 할 일을 저장하는 리스트 to_do\n",
    "\n",
    "to_do = []\n",
    "\n",
    "to_do.append('파이썬 공부')\n",
    "\n",
    "print(to_do)"
   ]
  },
  {
   "cell_type": "code",
   "execution_count": 9,
   "id": "3356c623",
   "metadata": {},
   "outputs": [
    {
     "name": "stdout",
     "output_type": "stream",
     "text": [
      "해야 할 일을 입력하세요 : work\n",
      "['파이썬 공부', 'work']\n"
     ]
    }
   ],
   "source": [
    "# 입력받은 해야 할 일을 to_do에 저장하기\n",
    "\n",
    "task = input('해야 할 일을 입력하세요 : ')\n",
    "to_do.append(task)\n",
    "print(to_do)\n"
   ]
  },
  {
   "cell_type": "code",
   "execution_count": 11,
   "id": "d8629d24",
   "metadata": {},
   "outputs": [
    {
     "name": "stdout",
     "output_type": "stream",
     "text": [
      "해야 할 일을 입력하세요 : 1\n",
      "해야 할 일을 입력하세요 : 2\n",
      "해야 할 일을 입력하세요 : 3\n",
      "해야 할 일을 입력하세요 : 4\n",
      "해야 할 일을 입력하세요 : 5\n",
      "해야 할 일 ['1', '2', '3', '4', '5']\n"
     ]
    }
   ],
   "source": [
    "# 입력받은 해야 할 일을 to_do에 저장하기\n",
    "# 초기화\n",
    "to_do = []\n",
    "# 해야 할 일을 5개씩 작성하세요\n",
    "\n",
    "for i in range(5) :\n",
    "    task = input('해야 할 일을 입력하세요 : ')\n",
    "    to_do.append(task)\n",
    "print('해야 할 일', to_do)\n"
   ]
  }
 ],
 "metadata": {
  "kernelspec": {
   "display_name": "Python 3 (ipykernel)",
   "language": "python",
   "name": "python3"
  },
  "language_info": {
   "codemirror_mode": {
    "name": "ipython",
    "version": 3
   },
   "file_extension": ".py",
   "mimetype": "text/x-python",
   "name": "python",
   "nbconvert_exporter": "python",
   "pygments_lexer": "ipython3",
   "version": "3.9.7"
  }
 },
 "nbformat": 4,
 "nbformat_minor": 5
}
