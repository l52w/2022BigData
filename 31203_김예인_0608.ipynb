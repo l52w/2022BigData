{
 "cells": [
  {
   "cell_type": "markdown",
   "id": "e5685c42",
   "metadata": {},
   "source": [
    "# 31203_김예인_0608"
   ]
  },
  {
   "cell_type": "markdown",
   "id": "dad8fa56",
   "metadata": {},
   "source": [
    "**[38]**<br>\n",
    "정수 2개를 입력받아 합을 출력하는 프로그램을 작성해보자.\n",
    "1. int\n",
    "2. map"
   ]
  },
  {
   "cell_type": "code",
   "execution_count": 4,
   "id": "a529fcb2",
   "metadata": {},
   "outputs": [
    {
     "name": "stdout",
     "output_type": "stream",
     "text": [
      "입력 : 100 -99\n",
      "출력 : 1\n"
     ]
    }
   ],
   "source": [
    "a,b = map(int,input('입력 : ').split(' '))\n",
    "print('출력 :', a+b)"
   ]
  },
  {
   "cell_type": "markdown",
   "id": "dde76303",
   "metadata": {},
   "source": [
    "**[40]**<br>\n",
    "입력된 정수의 부호를 바꿔 출력해보자."
   ]
  },
  {
   "cell_type": "code",
   "execution_count": 10,
   "id": "fd47d298",
   "metadata": {},
   "outputs": [
    {
     "name": "stdout",
     "output_type": "stream",
     "text": [
      "입력 : -20498\n",
      "출력 : 20498\n"
     ]
    }
   ],
   "source": [
    "c = -int(input('입력 : '))\n",
    "print('출력 :', c)"
   ]
  },
  {
   "cell_type": "markdown",
   "id": "1e2d4dec",
   "metadata": {},
   "source": [
    "**[41]**<br>\n",
    "영문자 1개를 입력받아 그 다음 문자를 출력해보자.<br>\n",
    "영문자 'A'의 다음 문자는 'B'이고, 영문자 '0'의 다음 문자는 '1'이다.\n",
    "<br>\n",
    "**tip::**<br>\n",
    "1. 아스키 코드를 이용하면 된다.\n",
    "2. 'A' == 97(1000001), 'B' == 98(1000010) 이므로 아스키 코드로 변환된 숫자에 1을 더한 뒤 아스키 문자로 재변환해주면 된다.\n",
    "3. ord, chr"
   ]
  },
  {
   "cell_type": "code",
   "execution_count": 20,
   "id": "d0e1344c",
   "metadata": {},
   "outputs": [
    {
     "name": "stdout",
     "output_type": "stream",
     "text": [
      "입력 : A\n",
      "출력 : B\n"
     ]
    }
   ],
   "source": [
    "d = ord(input('입력 : '))\n",
    "e = chr(d+1)\n",
    "print('출력 :', e)"
   ]
  },
  {
   "cell_type": "markdown",
   "id": "7c2c5d0d",
   "metadata": {},
   "source": [
    "**[42]**<br>\n",
    "정수 2개(a,b)를 입력받아 a를 b로 나눈 몫을 출력해보자.<br>\n",
    "**Tip::**\n",
    "1. 산술 연산자 '/'는 정확히 나눈 후의 값을 반환한다. *ex) 1/3 >>> 0.33333*\n",
    "2. 산술 연산자 '//'는 나눈 후의 몫만 반환한다. *ex) 1/3 >>> 0*"
   ]
  },
  {
   "cell_type": "code",
   "execution_count": 28,
   "id": "7a7853f3",
   "metadata": {},
   "outputs": [
    {
     "name": "stdout",
     "output_type": "stream",
     "text": [
      "입력 : 1 3\n",
      "출력 : 0\n"
     ]
    }
   ],
   "source": [
    "f,g = map(int,input('입력 : ').split(' '))\n",
    "h = f//g\n",
    "print('출력 :', h)"
   ]
  }
 ],
 "metadata": {
  "kernelspec": {
   "display_name": "Python 3 (ipykernel)",
   "language": "python",
   "name": "python3"
  },
  "language_info": {
   "codemirror_mode": {
    "name": "ipython",
    "version": 3
   },
   "file_extension": ".py",
   "mimetype": "text/x-python",
   "name": "python",
   "nbconvert_exporter": "python",
   "pygments_lexer": "ipython3",
   "version": "3.9.7"
  }
 },
 "nbformat": 4,
 "nbformat_minor": 5
}
