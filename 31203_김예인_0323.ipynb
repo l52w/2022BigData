{
 "cells": [
  {
   "cell_type": "markdown",
   "id": "3e305cf9",
   "metadata": {},
   "source": [
    "# 31203_김예인_0323"
   ]
  },
  {
   "cell_type": "markdown",
   "id": "7c7ae049",
   "metadata": {},
   "source": [
    "# 2. 조건을 만드는 비교연산자\n",
    "\n",
    "a와 b가 같다면 \n",
    "> if a == b :\n",
    "\n",
    "<br>\n",
    "\n",
    "a와 b가 같지 않다면\n",
    "> if a != b :\n",
    "\n",
    "<br>\n",
    "<br>\n",
    "\n",
    "a가 b보다 크다면\n",
    "> if a > b :\n",
    "\n",
    "a가 b보다 크거나 같다면\n",
    "> if a >= b :\n",
    "\n",
    "a가 b보다 작다면\n",
    "> if a < b :\n",
    "\n",
    "a가 b보다 작거나 같다면\n",
    "> if a <= b :"
   ]
  },
  {
   "cell_type": "markdown",
   "id": "4d826534",
   "metadata": {},
   "source": [
    "출석 혹은 결석 둘중 하나를 입력받고 출석을 입력 받았을때 0을 출력하기"
   ]
  },
  {
   "cell_type": "code",
   "execution_count": 3,
   "id": "5f7cf91f",
   "metadata": {},
   "outputs": [
    {
     "name": "stdout",
     "output_type": "stream",
     "text": [
      "출석 혹은 결석 : 출석\n",
      "0\n"
     ]
    }
   ],
   "source": [
    "check = input('출석 혹은 결석 : ')\n",
    "if check == '출석' :\n",
    "    print('0')"
   ]
  },
  {
   "cell_type": "markdown",
   "id": "d3645689",
   "metadata": {},
   "source": [
    "# 3. if-else 조건문\n",
    "조건을 충족하지 않을 때 실행하는 명령어\n",
    "\n",
    "```\n",
    "만약 조건 A라면 :\n",
    "    B해라\n",
    "그렇지 않으면 :\n",
    "    C해라\n",
    "    \n",
    "if 조건A :\n",
    "    명령어B\n",
    "else :\n",
    "    명령어C\n",
    "```"
   ]
  },
  {
   "cell_type": "code",
   "execution_count": 7,
   "id": "73a08309",
   "metadata": {},
   "outputs": [
    {
     "name": "stdout",
     "output_type": "stream",
     "text": [
      "나이 입력: 20\n",
      "구매 가능합니다.\n"
     ]
    }
   ],
   "source": [
    "# age<20 판매할 수 없습니다.\n",
    "# age>20 구매 가능 합니다.\n",
    "\n",
    "age = int(input('나이 입력: '))\n",
    "if age < 20 :\n",
    "    print('판매할 수 없습니다.')\n",
    "else :\n",
    "    print('구매 가능합니다.')"
   ]
  },
  {
   "cell_type": "markdown",
   "id": "632354c0",
   "metadata": {},
   "source": [
    "자동 출석 시스템\n",
    "```\n",
    "출석 혹은 결석을 입력받아 출석이면 0을 출력, 출석이 아니면 X를 출력하기\n",
    "입력 안내문 : 출석 혹은 결석을 입력하세요\n",
    "```"
   ]
  },
  {
   "cell_type": "code",
   "execution_count": 11,
   "id": "1ad29cab",
   "metadata": {},
   "outputs": [
    {
     "name": "stdout",
     "output_type": "stream",
     "text": [
      "출석 혹은 결석을 입력하세요 : 출석\n",
      "O\n"
     ]
    }
   ],
   "source": [
    "check = input('출석 혹은 결석을 입력하세요 : ')\n",
    "if check == '출석' :\n",
    "    print('O')\n",
    "else :\n",
    "    print('X')"
   ]
  },
  {
   "cell_type": "code",
   "execution_count": null,
   "id": "890bcc68",
   "metadata": {},
   "outputs": [],
   "source": []
  }
 ],
 "metadata": {
  "kernelspec": {
   "display_name": "Python 3 (ipykernel)",
   "language": "python",
   "name": "python3"
  },
  "language_info": {
   "codemirror_mode": {
    "name": "ipython",
    "version": 3
   },
   "file_extension": ".py",
   "mimetype": "text/x-python",
   "name": "python",
   "nbconvert_exporter": "python",
   "pygments_lexer": "ipython3",
   "version": "3.9.7"
  }
 },
 "nbformat": 4,
 "nbformat_minor": 5
}
