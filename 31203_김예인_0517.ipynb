{
 "cells": [
  {
   "cell_type": "markdown",
   "id": "cf817948",
   "metadata": {},
   "source": [
    "# 31203_김예인_0517"
   ]
  },
  {
   "cell_type": "markdown",
   "id": "aee3b18b",
   "metadata": {},
   "source": [
    "**[10]**<br>\n",
    "정수형(int)을 변수를 선언하고, 변수에 정수값을 저장한 후 변수에 저장되어 있는 값을 그대로 출력해보자.<br>\n",
    "-. 입력함수 이용"
   ]
  },
  {
   "cell_type": "code",
   "execution_count": 19,
   "id": "ba3befda",
   "metadata": {},
   "outputs": [
    {
     "name": "stdout",
     "output_type": "stream",
     "text": [
      "값 : 13\n",
      "13\n",
      "<class 'int'>\n"
     ]
    }
   ],
   "source": [
    "a = int(input('값 : '))\n",
    "print(a)\n",
    "print(type(a))"
   ]
  },
  {
   "cell_type": "markdown",
   "id": "ad65abb3",
   "metadata": {},
   "source": [
    "**[11]**<br>\n",
    "문자형(char)으로 변수를 하나 선언하고, 변수에 문자를 저장한 후 변수에 저장되어 있는 문자를 그대로 출력해보자.\n",
    "<br><br>\n",
    "**Tip::**\n",
    "1. input()의 반환값은 기본을 문자열로 정의된다."
   ]
  },
  {
   "cell_type": "code",
   "execution_count": 20,
   "id": "ca537297",
   "metadata": {},
   "outputs": [
    {
     "name": "stdout",
     "output_type": "stream",
     "text": [
      "문자 : Hello\n",
      "Hello\n",
      "<class 'str'>\n"
     ]
    }
   ],
   "source": [
    "b = str(input('문자 : '))\n",
    "print(b)\n",
    "print(type(b))"
   ]
  },
  {
   "cell_type": "markdown",
   "id": "09ceea56",
   "metadata": {},
   "source": [
    "**[12]**<br>\n",
    "실수형(float)로 변수를 선언하고 그 변수에 실수값을 저장한 후 저장되어 있는 실수값을 출력해보자."
   ]
  },
  {
   "cell_type": "code",
   "execution_count": 22,
   "id": "b331b3a5",
   "metadata": {},
   "outputs": [
    {
     "name": "stdout",
     "output_type": "stream",
     "text": [
      "실수 : 4\n",
      "4.0\n",
      "<class 'float'>\n"
     ]
    }
   ],
   "source": [
    "c = float(input('실수 : '))\n",
    "print(c)\n",
    "print(type(c))"
   ]
  },
  {
   "cell_type": "markdown",
   "id": "b7618ee7",
   "metadata": {},
   "source": [
    "**[13]**<br>\n",
    "정수(int) 2개를 입력받아 그대로 출력해보자. (단, 띄어쓰기를 기준으로 입력한다.)<br>\n",
    "입력 : 1 5<br>\n",
    "출력 : 1 5<br>\n",
    "**Tip::**\n",
    "1. "
   ]
  },
  {
   "cell_type": "code",
   "execution_count": 34,
   "id": "0e52a24f",
   "metadata": {},
   "outputs": [
    {
     "name": "stdout",
     "output_type": "stream",
     "text": [
      "입력 : 1\n",
      "입력 : 5\n",
      "출력 : 1 5\n"
     ]
    }
   ],
   "source": [
    "d = int(input('입력 : '))\n",
    "e = int(input('입력 : '))\n",
    "print('출력 :', d, e)"
   ]
  },
  {
   "cell_type": "code",
   "execution_count": null,
   "id": "82875c2a",
   "metadata": {},
   "outputs": [],
   "source": []
  }
 ],
 "metadata": {
  "kernelspec": {
   "display_name": "Python 3 (ipykernel)",
   "language": "python",
   "name": "python3"
  },
  "language_info": {
   "codemirror_mode": {
    "name": "ipython",
    "version": 3
   },
   "file_extension": ".py",
   "mimetype": "text/x-python",
   "name": "python",
   "nbconvert_exporter": "python",
   "pygments_lexer": "ipython3",
   "version": "3.9.7"
  }
 },
 "nbformat": 4,
 "nbformat_minor": 5
}
