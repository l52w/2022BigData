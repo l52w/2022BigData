{
 "cells": [
  {
   "cell_type": "markdown",
   "id": "63e4b580",
   "metadata": {},
   "source": [
    "# 31203_김예인_0419_7"
   ]
  },
  {
   "cell_type": "code",
   "execution_count": 6,
   "id": "7f542527",
   "metadata": {},
   "outputs": [
    {
     "name": "stdout",
     "output_type": "stream",
     "text": [
      "할 일 입력 : 1\n",
      "할 일 입력 : 2\n",
      "할 일 입력 : 3\n",
      "할 일 입력 : 4\n",
      "할 일 입력 : 5\n",
      "할 일 ['1', '2', '3', '4', '5']\n"
     ]
    }
   ],
   "source": [
    "# to_do 리스트 5개 입력하는 프로그램 만들기\n",
    "\n",
    "to_do = []\n",
    "for i in range(5):\n",
    "    task = input('할 일 입력 : ')\n",
    "    to_do.append(task)\n",
    "print('할 일', to_do)"
   ]
  },
  {
   "cell_type": "markdown",
   "id": "8d41833d",
   "metadata": {},
   "source": [
    "### 리스트 슬라이싱\n",
    "\n",
    "> 리스트[시작숫자:종료숫자]\n",
    "\n",
    "종료숫자-1까지 잘라내는 것\n",
    "```\n",
    "abc[2:5]    # abc[2]~abc[4]까지 슬라이싱\n",
    "abc[4:9]    # abc[4]~abc[8]까지 슬라이싱\n",
    "```\n",
    "food = ['피자', '치킨', '떡볶이', '스테이크', '파스타']"
   ]
  },
  {
   "cell_type": "code",
   "execution_count": 8,
   "id": "9f4b188d",
   "metadata": {},
   "outputs": [],
   "source": [
    "food = ['피자', '치킨', '떡볶이', '스테이크', '파스타']"
   ]
  },
  {
   "cell_type": "code",
   "execution_count": 9,
   "id": "9cff0f1c",
   "metadata": {},
   "outputs": [
    {
     "name": "stdout",
     "output_type": "stream",
     "text": [
      "['피자', '치킨', '떡볶이', '스테이크', '파스타']\n"
     ]
    }
   ],
   "source": [
    "print(food)"
   ]
  },
  {
   "cell_type": "code",
   "execution_count": 13,
   "id": "cbb8d599",
   "metadata": {},
   "outputs": [
    {
     "data": {
      "text/plain": [
       "['떡볶이', '스테이크']"
      ]
     },
     "execution_count": 13,
     "metadata": {},
     "output_type": "execute_result"
    }
   ],
   "source": [
    "# 떡볶이, 스테이크만 골라내기\n",
    "food[2:4]"
   ]
  },
  {
   "cell_type": "code",
   "execution_count": 15,
   "id": "12ed5f71",
   "metadata": {},
   "outputs": [
    {
     "data": {
      "text/plain": [
       "['피자', '치킨', '떡볶이', '스테이크']"
      ]
     },
     "execution_count": 15,
     "metadata": {},
     "output_type": "execute_result"
    }
   ],
   "source": [
    "# 처음부터 스테이크까지 골라내기\n",
    "food[0:4]"
   ]
  },
  {
   "cell_type": "code",
   "execution_count": 16,
   "id": "408e8ffe",
   "metadata": {},
   "outputs": [
    {
     "data": {
      "text/plain": [
       "['피자', '치킨', '떡볶이', '스테이크']"
      ]
     },
     "execution_count": 16,
     "metadata": {},
     "output_type": "execute_result"
    }
   ],
   "source": [
    "food[:4]"
   ]
  },
  {
   "cell_type": "code",
   "execution_count": 23,
   "id": "1e4e6b1c",
   "metadata": {},
   "outputs": [
    {
     "data": {
      "text/plain": [
       "['스테이크', '파스타']"
      ]
     },
     "execution_count": 23,
     "metadata": {},
     "output_type": "execute_result"
    }
   ],
   "source": [
    "# 뒤에서 스테이크, 파스타 골라내기\n",
    "food[-2:]"
   ]
  },
  {
   "cell_type": "markdown",
   "id": "63fb55e4",
   "metadata": {},
   "source": [
    "### 문자열 슬라이싱 "
   ]
  },
  {
   "cell_type": "code",
   "execution_count": 24,
   "id": "c3f57262",
   "metadata": {},
   "outputs": [],
   "source": [
    "date = '2022-04-19'"
   ]
  },
  {
   "cell_type": "code",
   "execution_count": 25,
   "id": "4e783d9d",
   "metadata": {},
   "outputs": [
    {
     "data": {
      "text/plain": [
       "'2022'"
      ]
     },
     "execution_count": 25,
     "metadata": {},
     "output_type": "execute_result"
    }
   ],
   "source": [
    "date[:4]"
   ]
  },
  {
   "cell_type": "code",
   "execution_count": 26,
   "id": "b8e2e13c",
   "metadata": {},
   "outputs": [
    {
     "data": {
      "text/plain": [
       "'19'"
      ]
     },
     "execution_count": 26,
     "metadata": {},
     "output_type": "execute_result"
    }
   ],
   "source": [
    "date[-2:]"
   ]
  },
  {
   "cell_type": "code",
   "execution_count": 27,
   "id": "1908c80f",
   "metadata": {},
   "outputs": [
    {
     "data": {
      "text/plain": [
       "'04'"
      ]
     },
     "execution_count": 27,
     "metadata": {},
     "output_type": "execute_result"
    }
   ],
   "source": [
    "date[5:7]"
   ]
  },
  {
   "cell_type": "code",
   "execution_count": null,
   "id": "b048e964",
   "metadata": {},
   "outputs": [],
   "source": []
  }
 ],
 "metadata": {
  "kernelspec": {
   "display_name": "Python 3 (ipykernel)",
   "language": "python",
   "name": "python3"
  },
  "language_info": {
   "codemirror_mode": {
    "name": "ipython",
    "version": 3
   },
   "file_extension": ".py",
   "mimetype": "text/x-python",
   "name": "python",
   "nbconvert_exporter": "python",
   "pygments_lexer": "ipython3",
   "version": "3.9.7"
  }
 },
 "nbformat": 4,
 "nbformat_minor": 5
}
