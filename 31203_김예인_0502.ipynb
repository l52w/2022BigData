{
 "cells": [
  {
   "cell_type": "markdown",
   "id": "215fc8bc",
   "metadata": {},
   "source": [
    "# 31203_김예인_0502"
   ]
  },
  {
   "cell_type": "code",
   "execution_count": 1,
   "id": "c92b51b5",
   "metadata": {},
   "outputs": [
    {
     "name": "stdout",
     "output_type": "stream",
     "text": [
      "['치킨', '김치찌개', '피자', '라면', '돈까스']\n",
      "['김치찌개', '돈까스', '라면', '치킨', '피자']\n"
     ]
    }
   ],
   "source": [
    "# food 리스트를 만들고 먹고 싶은 음식 5개 넣고\n",
    "# sort하여 출력하기\n",
    "\n",
    "food = ['치킨', '김치찌개', '피자', '라면', '돈까스']\n",
    "print(food)\n",
    "food.sort()\n",
    "print(food)"
   ]
  },
  {
   "cell_type": "code",
   "execution_count": 2,
   "id": "4ade82d5",
   "metadata": {},
   "outputs": [
    {
     "name": "stdout",
     "output_type": "stream",
     "text": [
      "찾는 음식 : 치킨\n",
      "1 위 입니다.\n"
     ]
    }
   ],
   "source": [
    "food = ['치킨', '김치찌개', '피자', '라면', '돈까스'] # 리스트 선언 부분\n",
    "a = input('찾는 음식 : ') # 입력받는 부분\n",
    "if a in food : # 존재 여부 판단\n",
    "    print(food.index(a)+1, '위 입니다.') # 인덱스를 찾는 부분\n",
    "else :\n",
    "    print(a, '은/는 순위에 없습니다.') # 그렇지 않으면 부분"
   ]
  },
  {
   "cell_type": "code",
   "execution_count": 3,
   "id": "5ef9f9dc",
   "metadata": {},
   "outputs": [
    {
     "name": "stdout",
     "output_type": "stream",
     "text": [
      "강아지 영상을 좋아하시면 고양이 영상도 추천합니다.\n",
      "댄스 영상을 좋아하시면 음악방송 영상도 추천합니다.\n"
     ]
    }
   ],
   "source": [
    "history = ['먹방', '강아지', '요리', '댄스']\n",
    "if '강아지' in history : # history 리스트 요소에 강아지가 있으면\n",
    "    print('강아지 영상을 좋아하시면 고양이 영상도 추천합니다.')\n",
    "if '댄스' in history : # history 리스트 요소에 댄스가 있으면\n",
    "    print('댄스 영상을 좋아하시면 음악방송 영상도 추천합니다.')"
   ]
  },
  {
   "cell_type": "code",
   "execution_count": 5,
   "id": "c4ba2cf5",
   "metadata": {},
   "outputs": [
    {
     "name": "stdout",
     "output_type": "stream",
     "text": [
      "[[1, 2, 3], [4, 5, 6], [7, 8, 9]]\n"
     ]
    }
   ],
   "source": [
    "abc = [[1,2,3],[4,5,6],[7,8,9]]\n",
    "print(abc)"
   ]
  },
  {
   "cell_type": "code",
   "execution_count": 8,
   "id": "2302d475",
   "metadata": {},
   "outputs": [
    {
     "name": "stdout",
     "output_type": "stream",
     "text": [
      "[1, 2, 3]\n",
      "[4, 5, 6]\n",
      "[7, 8, 9]\n"
     ]
    }
   ],
   "source": [
    "print(abc[0])\n",
    "print(abc[1])\n",
    "print(abc[-1])"
   ]
  },
  {
   "cell_type": "code",
   "execution_count": 10,
   "id": "1e20e603",
   "metadata": {},
   "outputs": [
    {
     "name": "stdout",
     "output_type": "stream",
     "text": [
      "1\n"
     ]
    }
   ],
   "source": [
    "print(abc[0][0])"
   ]
  },
  {
   "cell_type": "code",
   "execution_count": 11,
   "id": "b7da2448",
   "metadata": {},
   "outputs": [
    {
     "name": "stdout",
     "output_type": "stream",
     "text": [
      "6\n"
     ]
    }
   ],
   "source": [
    "print(abc[1][2])"
   ]
  },
  {
   "cell_type": "code",
   "execution_count": 12,
   "id": "c01acfac",
   "metadata": {},
   "outputs": [
    {
     "name": "stdout",
     "output_type": "stream",
     "text": [
      "8\n"
     ]
    }
   ],
   "source": [
    "print(abc[2][1])"
   ]
  },
  {
   "cell_type": "markdown",
   "id": "1f6af51f",
   "metadata": {},
   "source": [
    "### 반복문과 이차원 리스트"
   ]
  },
  {
   "cell_type": "code",
   "execution_count": 13,
   "id": "2689e671",
   "metadata": {},
   "outputs": [
    {
     "name": "stdout",
     "output_type": "stream",
     "text": [
      "[1, 2, 3]\n",
      "[4, 5, 6]\n",
      "[7, 8, 9]\n"
     ]
    }
   ],
   "source": [
    "# for문을 이용한 리스트 출력\n",
    "\n",
    "for i in abc :\n",
    "    print(i)"
   ]
  },
  {
   "cell_type": "code",
   "execution_count": 14,
   "id": "dc2b5909",
   "metadata": {},
   "outputs": [
    {
     "name": "stdout",
     "output_type": "stream",
     "text": [
      "[1, 2, 3]\n",
      "[4, 5, 6]\n",
      "[7, 8, 9]\n"
     ]
    }
   ],
   "source": [
    "for i in [[1,2,3],[4,5,6],[7,8,9]] : \n",
    "    print(i)"
   ]
  },
  {
   "cell_type": "code",
   "execution_count": 15,
   "id": "43711e4e",
   "metadata": {},
   "outputs": [
    {
     "name": "stdout",
     "output_type": "stream",
     "text": [
      "1\n",
      "4\n",
      "7\n"
     ]
    }
   ],
   "source": [
    "# 모든 줄의 첫번째  데이터만 출력\n",
    "for i in abc :\n",
    "    print(i[0])"
   ]
  },
  {
   "cell_type": "code",
   "execution_count": 17,
   "id": "c14b125b",
   "metadata": {},
   "outputs": [
    {
     "name": "stdout",
     "output_type": "stream",
     "text": [
      "3\n",
      "6\n",
      "9\n"
     ]
    }
   ],
   "source": [
    "# 모든 줄의 마지막 데이터만 출력\n",
    "for i in abc :\n",
    "    print(i[-1])"
   ]
  },
  {
   "cell_type": "markdown",
   "id": "a721301a",
   "metadata": {},
   "source": [
    "### 5. 올림픽 데이터"
   ]
  },
  {
   "cell_type": "code",
   "execution_count": 18,
   "id": "f810585c",
   "metadata": {},
   "outputs": [],
   "source": [
    "data = [\n",
    "    [1, '미국', 46,37,38,121],\n",
    "    [2, '영국', 27,23,17,67],\n",
    "    [3, '중국', 26,18,26,70],\n",
    "    [4, '러시아', 19,18,19,56],\n",
    "    [5, '독일', 17,10,15,42],\n",
    "    [6, '일본', 12,8,21,41],\n",
    "    [7, '프랑스', 10,18,14,42],\n",
    "    [8, '대한민국', 9,3,9,21],\n",
    "]"
   ]
  },
  {
   "cell_type": "code",
   "execution_count": 19,
   "id": "f95d879e",
   "metadata": {},
   "outputs": [
    {
     "name": "stdout",
     "output_type": "stream",
     "text": [
      "미국\n",
      "영국\n",
      "중국\n",
      "러시아\n",
      "독일\n",
      "일본\n",
      "프랑스\n",
      "대한민국\n"
     ]
    }
   ],
   "source": [
    "# 순위권에 든 모든 국가 이름을 출력하시오\n",
    "\n",
    "for i in data :\n",
    "    print(i[1])"
   ]
  },
  {
   "cell_type": "code",
   "execution_count": 23,
   "id": "ed6aef79",
   "metadata": {},
   "outputs": [
    {
     "name": "stdout",
     "output_type": "stream",
     "text": [
      "프랑스 금메달- 10 은메달- 18\n"
     ]
    }
   ],
   "source": [
    "# 금메달보다 은메달 갯수가 많은 나라를 출력하시오\n",
    "\n",
    "for i in data :\n",
    "    if i[2] < i[3]:\n",
    "        print(i[1], '금메달-', i[2], '은메달-', i[3])"
   ]
  },
  {
   "cell_type": "code",
   "execution_count": 25,
   "id": "704c0d36",
   "metadata": {},
   "outputs": [
    {
     "name": "stdout",
     "output_type": "stream",
     "text": [
      "일본 금메달- 12 동메달- 21\n",
      "프랑스 금메달- 10 동메달- 14\n"
     ]
    }
   ],
   "source": [
    "# 금메달보다 동메달 갯수가 많은 나라를 출력하시오\n",
    "\n",
    "for i in data :\n",
    "    if i[2] < i[4]:\n",
    "        print(i[1], '금메달-', i[2], '동메달-', i[4])"
   ]
  },
  {
   "cell_type": "code",
   "execution_count": 28,
   "id": "7ff3c0c6",
   "metadata": {},
   "outputs": [
    {
     "name": "stdout",
     "output_type": "stream",
     "text": [
      "총 금메달 개수는 166\n"
     ]
    }
   ],
   "source": [
    "# 모든 나라의 금메달 합을 구하시오\n",
    "\n",
    "gold = 0\n",
    "\n",
    "for i in data : \n",
    "    gold += i[2]\n",
    "print('총 금메달 개수는', gold)"
   ]
  }
 ],
 "metadata": {
  "kernelspec": {
   "display_name": "Python 3 (ipykernel)",
   "language": "python",
   "name": "python3"
  },
  "language_info": {
   "codemirror_mode": {
    "name": "ipython",
    "version": 3
   },
   "file_extension": ".py",
   "mimetype": "text/x-python",
   "name": "python",
   "nbconvert_exporter": "python",
   "pygments_lexer": "ipython3",
   "version": "3.9.7"
  }
 },
 "nbformat": 4,
 "nbformat_minor": 5
}
