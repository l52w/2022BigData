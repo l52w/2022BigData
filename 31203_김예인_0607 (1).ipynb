{
 "cells": [
  {
   "cell_type": "markdown",
   "id": "e79395f2",
   "metadata": {},
   "source": [
    "**[36]**<br>\n",
    "영문자 1개를 입력받아 아스키 코드표의 10진수 값으로 출력해보자.<br>\n",
    "**아스키 코드란?**<br>\n",
    "- 문자를 이진수의 7비트로 표현한 것\n",
    "1. 문자열에 대응되는 아스키 코드를 반환해주는 함수 ord()를 이용하면 된다."
   ]
  },
  {
   "cell_type": "code",
   "execution_count": 2,
   "id": "dbf86c70",
   "metadata": {},
   "outputs": [
    {
     "name": "stdout",
     "output_type": "stream",
     "text": [
      "입력 : A\n",
      "출력 : 65\n"
     ]
    }
   ],
   "source": [
    "a = ord(input('입력 : '))\n",
    "print('출력 :', a)"
   ]
  },
  {
   "cell_type": "markdown",
   "id": "de214505",
   "metadata": {},
   "source": [
    "**[37]**<br>\n",
    "10진 정수 1개를 입력받아 아스키 문자로 출력해보자.\n",
    "1. 아스키코드를 문자열로 반환해주는 함수 chr()를 이용하면 된다."
   ]
  },
  {
   "cell_type": "code",
   "execution_count": 51,
   "id": "50aa820e",
   "metadata": {},
   "outputs": [
    {
     "name": "stdout",
     "output_type": "stream",
     "text": [
      "입력 : 65\n",
      "출력 : A\n"
     ]
    }
   ],
   "source": [
    "b = chr(int(input('입력 : ')))\n",
    "print('출력 :', b)"
   ]
  },
  {
   "cell_type": "markdown",
   "id": "1f316be5",
   "metadata": {},
   "source": [
    "**[38]**<br>\n",
    "정수 2개를 입력받아 합을 출력하는 프로그램을 작성해보자."
   ]
  },
  {
   "cell_type": "code",
   "execution_count": 61,
   "id": "185ac45c",
   "metadata": {},
   "outputs": [
    {
     "name": "stdout",
     "output_type": "stream",
     "text": [
      "입력 : 100 -101\n",
      "출력 : -1\n"
     ]
    }
   ],
   "source": [
    "c,d = map(int,input('입력 : ').split(' '))    # 정수 2개 입력, 공백으로 구분\n",
    "print('출력 :', c+d)"
   ]
  },
  {
   "cell_type": "markdown",
   "id": "2179bf7e",
   "metadata": {},
   "source": [
    "**[39]**<br>\n",
    "정수 2개를 입력받아 합을 출력하는 프로그램을 작성해보자.\n",
    "```\n",
    "실제 문제에서는 굉장히 넓은 정수 범위의 데이터형을 요구하는 문제이나, 파이썬에서는 int()로 처리가 가능하다.\n",
    "예를 들어 C에서 unsinged int보다도 크며 unsinged long과 같은 범위를 지니고 있다고 한다.\n",
    "```\n",
    "**실제 범위**<br>\n",
    "범위 : -9223372036854775808 ~ 9223372036854775807\n",
    "```\n",
    "이보다 큰 범위를 지정하고 할 때는 long 데이터 형을 이용하면 된다.\n",
    "파이썬에서는 4가지의 데이터형을 제공한다.\n",
    "```\n",
    "**파이썬에서 제공하는 데이터형**<br>\n",
    "int (plain integers) : 정수<br>\n",
    "long (long integers) : int보다 범위가 큰 정수 <br>\n",
    "float (floating point numbers) : 실수 <br>\n",
    "complex (complex numbers) : 복소수"
   ]
  },
  {
   "cell_type": "code",
   "execution_count": 62,
   "id": "201ee7ed",
   "metadata": {},
   "outputs": [
    {
     "name": "stdout",
     "output_type": "stream",
     "text": [
      "입력 : -394792 -394792\n",
      "출력 : -789584\n"
     ]
    }
   ],
   "source": [
    "e,f = map(int, input('입력 : ').split(' '))\n",
    "print('출력 :', e+f)"
   ]
  }
 ],
 "metadata": {
  "kernelspec": {
   "display_name": "Python 3 (ipykernel)",
   "language": "python",
   "name": "python3"
  },
  "language_info": {
   "codemirror_mode": {
    "name": "ipython",
    "version": 3
   },
   "file_extension": ".py",
   "mimetype": "text/x-python",
   "name": "python",
   "nbconvert_exporter": "python",
   "pygments_lexer": "ipython3",
   "version": "3.9.7"
  }
 },
 "nbformat": 4,
 "nbformat_minor": 5
}
