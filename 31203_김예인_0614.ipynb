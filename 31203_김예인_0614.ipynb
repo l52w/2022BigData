{
 "cells": [
  {
   "cell_type": "markdown",
   "id": "751a323f",
   "metadata": {},
   "source": [
    "**[45]**<br>\n",
    "정수 2개를 입력받아 합, 차, 곱, 목, 나머지, 나눈 값을 자동으로 계산해보자. (인덱스 이용)\n",
    "```\n",
    "첫 줄에 합\n",
    "둘째 줄에 차,\n",
    "셋째 줄에 곱,\n",
    "넷째 줄에 몫,\n",
    "다섯째 줄에 나머지,\n",
    "여섯째 줄에 나눈 값을 순서대로 출력한다.\n",
    "실수, 소수점 이하 셋째 자리에서 반올림해 둘째 자리까지 출력\n",
    "```"
   ]
  },
  {
   "cell_type": "code",
   "execution_count": 3,
   "id": "4ae2c44e",
   "metadata": {},
   "outputs": [
    {
     "name": "stdout",
     "output_type": "stream",
     "text": [
      "입력 : 11 7\n",
      "합 : 18\n",
      "차 : 4\n",
      "곱 : 77\n",
      "몫 : 1\n",
      "나머지 : 4\n",
      "나눈 값 : 1.57\n"
     ]
    }
   ],
   "source": [
    "a = list(map(int,input('입력 : ').split(' ')))\n",
    "print('합 :', a[0]+a[1])\n",
    "print('차 :', a[0]-a[1])\n",
    "print('곱 :', a[0]*a[1])\n",
    "print('몫 :', a[0]//a[1])\n",
    "print('나머지 :', a[0]%a[1])\n",
    "print('나눈 값 :', round(a[0]/a[1],2))"
   ]
  },
  {
   "cell_type": "code",
   "execution_count": 11,
   "id": "481e3f64",
   "metadata": {},
   "outputs": [
    {
     "name": "stdout",
     "output_type": "stream",
     "text": [
      "입력 : 10 7\n",
      "합 17\n",
      "차 3\n",
      "곱 70\n",
      "몫 1\n",
      "나머지 3\n",
      "나눈 값 1.43\n"
     ]
    }
   ],
   "source": [
    "a = list(map(int, input('입력 : ').split()))\n",
    "print('합', a[0]+a[1])\n",
    "print('차', a[0]-a[1])\n",
    "print('곱', a[0]*a[1])\n",
    "print('몫', a[0]//a[1])\n",
    "print('나머지', a[0]%a[1])\n",
    "print('나눈 값', round(a[0]/a[1],2))"
   ]
  },
  {
   "cell_type": "markdown",
   "id": "0a2ad2f3",
   "metadata": {},
   "source": [
    "**[46]**<br>\n",
    "정수 3개를 입력받아 합과 평균을 출력해보자.\n",
    "```\n",
    "합과 평균을 줄을 바꿔 출력한다.\n",
    "평균은 소수점 이하 둘째 자리에서 반올림해서 소수점 이하 첫째 자리까지 출력한다.\n",
    "```"
   ]
  },
  {
   "cell_type": "code",
   "execution_count": 8,
   "id": "a2aadb84",
   "metadata": {},
   "outputs": [
    {
     "name": "stdout",
     "output_type": "stream",
     "text": [
      "입력 : 10 15 25\n",
      "합 : 50\n",
      "평균 : 16.7\n"
     ]
    }
   ],
   "source": [
    "b = list(map(int,input('입력 : ').split()))\n",
    "c = b[0]+b[1]+b[2]\n",
    "print('합 :', c)\n",
    "print('평균 :', round(c/3, 1))"
   ]
  },
  {
   "cell_type": "markdown",
   "id": "c24d40fd",
   "metadata": {},
   "source": []
  }
 ],
 "metadata": {
  "kernelspec": {
   "display_name": "Python 3 (ipykernel)",
   "language": "python",
   "name": "python3"
  },
  "language_info": {
   "codemirror_mode": {
    "name": "ipython",
    "version": 3
   },
   "file_extension": ".py",
   "mimetype": "text/x-python",
   "name": "python",
   "nbconvert_exporter": "python",
   "pygments_lexer": "ipython3",
   "version": "3.9.7"
  }
 },
 "nbformat": 4,
 "nbformat_minor": 5
}
