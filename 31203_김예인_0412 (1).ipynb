{
 "cells": [
  {
   "cell_type": "markdown",
   "id": "52d17d99",
   "metadata": {},
   "source": [
    "# 31203_김예인_0412"
   ]
  },
  {
   "cell_type": "markdown",
   "id": "a8fa8039",
   "metadata": {},
   "source": [
    "문제1) 사용자로부터 하나의 숫자를 받고 짝수/홀수를 판단하는 프로그램을 짜세요."
   ]
  },
  {
   "cell_type": "code",
   "execution_count": 11,
   "id": "1c248843",
   "metadata": {},
   "outputs": [
    {
     "name": "stdout",
     "output_type": "stream",
     "text": [
      "숫자 입력: 3\n",
      "홀수\n"
     ]
    }
   ],
   "source": [
    "number = int(input('숫자 입력: '))\n",
    "             \n",
    "if number % 2 == 1 :\n",
    "    print('홀수')\n",
    "else :\n",
    "    print('짝수')"
   ]
  },
  {
   "cell_type": "code",
   "execution_count": 15,
   "id": "21746e95",
   "metadata": {},
   "outputs": [
    {
     "name": "stdout",
     "output_type": "stream",
     "text": [
      "숫자를 입력하세요 : 2\n",
      "2 는/은 짝수\n"
     ]
    }
   ],
   "source": [
    "num = input('숫자를 입력하세요 : ')\n",
    "\n",
    "if int(num) % 2 == 0 :\n",
    "    print(num, \"는/은 짝수\")\n",
    "else :\n",
    "    print(num, \"는/은 홀수\")"
   ]
  },
  {
   "cell_type": "markdown",
   "id": "1083af5c",
   "metadata": {},
   "source": [
    "문제2) 하나의 숫자를 입력받고 입력받은 숫자에 10을 더해 출력하는 프로그램을 짜세요."
   ]
  },
  {
   "cell_type": "code",
   "execution_count": 12,
   "id": "89c9f23c",
   "metadata": {},
   "outputs": [
    {
     "name": "stdout",
     "output_type": "stream",
     "text": [
      "숫자 입력: 1\n",
      "11\n"
     ]
    }
   ],
   "source": [
    "number = int(input('숫자 입력: '))\n",
    "\n",
    "print(number + 10)"
   ]
  },
  {
   "cell_type": "code",
   "execution_count": 17,
   "id": "b5826a88",
   "metadata": {},
   "outputs": [
    {
     "name": "stdout",
     "output_type": "stream",
     "text": [
      "숫자를 입력하세요 : 10\n",
      "10을 더한 결과는 20\n"
     ]
    }
   ],
   "source": [
    "num = input('숫자를 입력하세요 : ')\n",
    "\n",
    "print('10을 더한 결과는', int(num) + 10)"
   ]
  }
 ],
 "metadata": {
  "kernelspec": {
   "display_name": "Python 3 (ipykernel)",
   "language": "python",
   "name": "python3"
  },
  "language_info": {
   "codemirror_mode": {
    "name": "ipython",
    "version": 3
   },
   "file_extension": ".py",
   "mimetype": "text/x-python",
   "name": "python",
   "nbconvert_exporter": "python",
   "pygments_lexer": "ipython3",
   "version": "3.9.7"
  }
 },
 "nbformat": 4,
 "nbformat_minor": 5
}
