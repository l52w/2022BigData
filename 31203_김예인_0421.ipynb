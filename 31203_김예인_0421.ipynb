{
 "cells": [
  {
   "cell_type": "markdown",
   "id": "0710bb6d",
   "metadata": {},
   "source": [
    "# 31203_김예인_0421"
   ]
  },
  {
   "cell_type": "code",
   "execution_count": null,
   "id": "d6dcbee3",
   "metadata": {},
   "outputs": [],
   "source": [
    "# 문제 date = '2022-04-21'\n",
    "# 출력문 2022년 04월 21일로 출력하는 프로그램을 작성\n",
    "\n",
    "date = '2022-04-21'\n",
    "print(date[:4]+'년',date[5:7]+'월',date[-2:]+'일')"
   ]
  },
  {
   "cell_type": "markdown",
   "id": "43e2fe6d",
   "metadata": {},
   "source": [
    "### split()으로 문자열 슬라이싱 -> 자료 형태가 리스트로 변환\n",
    "\n",
    "split은 어떤 기준을 이용하여 나누는 함수"
   ]
  },
  {
   "cell_type": "code",
   "execution_count": 6,
   "id": "ef426e4a",
   "metadata": {},
   "outputs": [
    {
     "name": "stdout",
     "output_type": "stream",
     "text": [
      "['2022', '04', '21']\n"
     ]
    }
   ],
   "source": [
    "date = '2022-04-21'\n",
    "\n",
    "a = date.split('-')\n",
    "print(a)"
   ]
  },
  {
   "cell_type": "code",
   "execution_count": 7,
   "id": "b5a2dec6",
   "metadata": {},
   "outputs": [
    {
     "name": "stdout",
     "output_type": "stream",
     "text": [
      "<class 'str'>\n",
      "<class 'list'>\n"
     ]
    }
   ],
   "source": [
    "print(type(date))\n",
    "print(type(a))"
   ]
  },
  {
   "cell_type": "markdown",
   "id": "7e5eec47",
   "metadata": {},
   "source": [
    "### split() 기준\n",
    "1. 공백\n",
    "2. 하이픈\n",
    "3. 원하는 모든 것을 사용 가능함."
   ]
  },
  {
   "cell_type": "code",
   "execution_count": 8,
   "id": "ec546dab",
   "metadata": {},
   "outputs": [
    {
     "name": "stdout",
     "output_type": "stream",
     "text": [
      "['2', '22-', '4-21']\n"
     ]
    }
   ],
   "source": [
    "date = '2022-04-21'\n",
    "\n",
    "a = date.split('0')\n",
    "\n",
    "print(a)"
   ]
  },
  {
   "cell_type": "code",
   "execution_count": 11,
   "id": "2873861d",
   "metadata": {},
   "outputs": [
    {
     "name": "stdout",
     "output_type": "stream",
     "text": [
      "22-\n"
     ]
    }
   ],
   "source": [
    "print(a[1])"
   ]
  },
  {
   "cell_type": "code",
   "execution_count": 14,
   "id": "9b99f400",
   "metadata": {},
   "outputs": [
    {
     "name": "stdout",
     "output_type": "stream",
     "text": [
      "2022년 04월 21일\n",
      "2022년 04월 21일\n"
     ]
    }
   ],
   "source": [
    "# 문제 date = '2022-04-21'\n",
    "# 출력문 2022년 04월 21일로 출력하는 프로그램을 작성\n",
    "# split()을 이용하고 인덱싱을 이용하여 출력\n",
    "\n",
    "date = '2022-04-21'\n",
    "a = date.split('-')\n",
    "print(a[0]+'년', a[1]+'월',a[2]+'일')\n",
    "print(date.split('-')[0]+'년', date.split('-')[1]+'월',date.split('-')[2]+'일')"
   ]
  },
  {
   "cell_type": "code",
   "execution_count": null,
   "id": "662e90ca",
   "metadata": {},
   "outputs": [],
   "source": []
  },
  {
   "cell_type": "code",
   "execution_count": null,
   "id": "8f6b6e76",
   "metadata": {},
   "outputs": [],
   "source": []
  },
  {
   "cell_type": "code",
   "execution_count": null,
   "id": "ac75bea7",
   "metadata": {},
   "outputs": [],
   "source": []
  },
  {
   "cell_type": "code",
   "execution_count": null,
   "id": "381d176e",
   "metadata": {},
   "outputs": [],
   "source": []
  }
 ],
 "metadata": {
  "kernelspec": {
   "display_name": "Python 3 (ipykernel)",
   "language": "python",
   "name": "python3"
  },
  "language_info": {
   "codemirror_mode": {
    "name": "ipython",
    "version": 3
   },
   "file_extension": ".py",
   "mimetype": "text/x-python",
   "name": "python",
   "nbconvert_exporter": "python",
   "pygments_lexer": "ipython3",
   "version": "3.9.7"
  }
 },
 "nbformat": 4,
 "nbformat_minor": 5
}
