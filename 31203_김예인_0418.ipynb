{
 "cells": [
  {
   "cell_type": "markdown",
   "id": "f36b24c0",
   "metadata": {},
   "source": [
    "# 31203_김예인_0418"
   ]
  },
  {
   "cell_type": "markdown",
   "id": "e41e1ed7",
   "metadata": {},
   "source": [
    "# 1. 리스트\n",
    "\n",
    "```\n",
    "리스트 여러 데이터를 한 번에 묶어서 표현\n",
    "리스트 이름 = [데이터1, 데이터2, ..., 데이터n]\n",
    "```\n",
    "\n",
    "> 실생활의 리스트\n",
    "</br>\n",
    "> 파이썬의 리스트"
   ]
  },
  {
   "cell_type": "code",
   "execution_count": 4,
   "id": "5d2c32a4",
   "metadata": {},
   "outputs": [],
   "source": [
    "# 1월 지출부터 6월 지출까지 리스트 만들기\n",
    "\n",
    "spending = [25,36,8,53,24,56]"
   ]
  },
  {
   "cell_type": "code",
   "execution_count": 6,
   "id": "1626c293",
   "metadata": {},
   "outputs": [
    {
     "name": "stdout",
     "output_type": "stream",
     "text": [
      "[25, 36, 8, 53, 24, 56]\n"
     ]
    }
   ],
   "source": [
    "print(spending)"
   ]
  },
  {
   "cell_type": "code",
   "execution_count": 7,
   "id": "f382d3ed",
   "metadata": {},
   "outputs": [
    {
     "data": {
      "text/plain": [
       "list"
      ]
     },
     "execution_count": 7,
     "metadata": {},
     "output_type": "execute_result"
    }
   ],
   "source": [
    "type(spending)"
   ]
  },
  {
   "cell_type": "code",
   "execution_count": 8,
   "id": "11ae4ae2",
   "metadata": {},
   "outputs": [
    {
     "name": "stdout",
     "output_type": "stream",
     "text": [
      "25\n"
     ]
    }
   ],
   "source": [
    "# 1월 지출은?\n",
    "\n",
    "print(spending[0])"
   ]
  },
  {
   "cell_type": "code",
   "execution_count": 9,
   "id": "b86c63f3",
   "metadata": {},
   "outputs": [
    {
     "name": "stdout",
     "output_type": "stream",
     "text": [
      "56\n"
     ]
    }
   ],
   "source": [
    "# 6월 지출은?\n",
    "\n",
    "print(spending[5])"
   ]
  },
  {
   "cell_type": "code",
   "execution_count": 10,
   "id": "53a66e0c",
   "metadata": {},
   "outputs": [
    {
     "name": "stdout",
     "output_type": "stream",
     "text": [
      "8\n"
     ]
    }
   ],
   "source": [
    "# 3월 지출은?\n",
    "\n",
    "print(spending[2])"
   ]
  },
  {
   "cell_type": "markdown",
   "id": "25f822b5",
   "metadata": {},
   "source": [
    "### 리스트 변경하기\n",
    "\n",
    "> 변경 전\n",
    "</br>\n",
    "> 변경 후"
   ]
  },
  {
   "cell_type": "code",
   "execution_count": 12,
   "id": "5238dd53",
   "metadata": {},
   "outputs": [
    {
     "name": "stdout",
     "output_type": "stream",
     "text": [
      "변경 전 :  [25, 36, 8, 53, 24, 56]\n",
      "변경 후 :  [25, 36, 8, 63, 24, 56]\n"
     ]
    }
   ],
   "source": [
    "# 4월 지출이 10 낮게 기록되었다. 4월 지출에 10을 더하시오.\n",
    "\n",
    "print('변경 전 : ', spending)\n",
    "\n",
    "spending[3] += 10\n",
    "\n",
    "print('변경 후 : ', spending)"
   ]
  },
  {
   "cell_type": "code",
   "execution_count": 14,
   "id": "15ae14dc",
   "metadata": {},
   "outputs": [
    {
     "name": "stdout",
     "output_type": "stream",
     "text": [
      "변경 전 :  [25, 36, 8, 63, 24, 56]\n",
      "변경 후 :  [25, 36, 8, 63, 12.0, 56]\n"
     ]
    }
   ],
   "source": [
    "# 5월 지출을 2로 나누시오. \n",
    "print('변경 전 : ', spending)\n",
    "\n",
    "spending[4] /= 2\n",
    "\n",
    "print('변경 후 : ', spending)"
   ]
  },
  {
   "cell_type": "markdown",
   "id": "c24f410e",
   "metadata": {},
   "source": [
    "### 마이너스 인덱스 "
   ]
  },
  {
   "cell_type": "code",
   "execution_count": 16,
   "id": "8d5cb96c",
   "metadata": {},
   "outputs": [
    {
     "name": "stdout",
     "output_type": "stream",
     "text": [
      "56\n"
     ]
    }
   ],
   "source": [
    "# 마이너스 인덱스 6월 지출은?\n",
    "print(spending[-1])"
   ]
  },
  {
   "cell_type": "code",
   "execution_count": 17,
   "id": "666998e0",
   "metadata": {},
   "outputs": [
    {
     "name": "stdout",
     "output_type": "stream",
     "text": [
      "12.0\n"
     ]
    }
   ],
   "source": [
    "# 마이너스 인덱스 5월 지출은?\n",
    "print(spending[-2])"
   ]
  },
  {
   "cell_type": "markdown",
   "id": "115e9be1",
   "metadata": {},
   "source": [
    "# 2. 리스트의 다양한 기능\n",
    "\n",
    "### 리스트의 길이\n",
    ">len(리스트이름)"
   ]
  },
  {
   "cell_type": "code",
   "execution_count": 19,
   "id": "ff90ab92",
   "metadata": {},
   "outputs": [
    {
     "data": {
      "text/plain": [
       "6"
      ]
     },
     "execution_count": 19,
     "metadata": {},
     "output_type": "execute_result"
    }
   ],
   "source": [
    "len(spending)"
   ]
  },
  {
   "cell_type": "code",
   "execution_count": 21,
   "id": "586774e1",
   "metadata": {},
   "outputs": [
    {
     "data": {
      "text/plain": [
       "8"
      ]
     },
     "execution_count": 21,
     "metadata": {},
     "output_type": "execute_result"
    }
   ],
   "source": [
    "name = '성일정보고등학교'\n",
    "len(name)"
   ]
  },
  {
   "cell_type": "markdown",
   "id": "87d44d0d",
   "metadata": {},
   "source": [
    "### 리스트에 데이터 추가하기\n",
    "> 리스트이름.append(데이터)\n",
    "\n",
    "```\n",
    "food = ['피자', '치킨', '떡볶이', '스테이크', '파스타']\n",
    "```"
   ]
  },
  {
   "cell_type": "code",
   "execution_count": 22,
   "id": "dec1b17c",
   "metadata": {},
   "outputs": [],
   "source": [
    "food = ['피자', '치킨', '떡볶이', '스테이크', '파스타']"
   ]
  },
  {
   "cell_type": "code",
   "execution_count": 23,
   "id": "5a7aa401",
   "metadata": {},
   "outputs": [
    {
     "name": "stdout",
     "output_type": "stream",
     "text": [
      "['피자', '치킨', '떡볶이', '스테이크', '파스타']\n"
     ]
    }
   ],
   "source": [
    "print(food)"
   ]
  },
  {
   "cell_type": "code",
   "execution_count": 24,
   "id": "6fa67eec",
   "metadata": {},
   "outputs": [
    {
     "name": "stdout",
     "output_type": "stream",
     "text": [
      "['피자', '치킨', '떡볶이', '스테이크', '파스타', '감자칩']\n"
     ]
    }
   ],
   "source": [
    "food.append('감자칩')\n",
    "\n",
    "print(food)"
   ]
  },
  {
   "cell_type": "code",
   "execution_count": 25,
   "id": "32dc0215",
   "metadata": {},
   "outputs": [
    {
     "name": "stdout",
     "output_type": "stream",
     "text": [
      "['피자', '치킨', '떡볶이', '스테이크', '파스타', '감자칩', '돈까스']\n"
     ]
    }
   ],
   "source": [
    "# 돈까스 추가해 봅시다.\n",
    "\n",
    "food.append('돈까스')\n",
    "print(food)"
   ]
  },
  {
   "cell_type": "markdown",
   "id": "054bdaf6",
   "metadata": {},
   "source": [
    "### 빈 리스트를 만들고 데이터를 추가해 봅시다.\n",
    "> 리스트이름 = []"
   ]
  },
  {
   "cell_type": "code",
   "execution_count": 26,
   "id": "b68b0077",
   "metadata": {},
   "outputs": [
    {
     "name": "stdout",
     "output_type": "stream",
     "text": [
      "['여행']\n"
     ]
    }
   ],
   "source": [
    "# 버킷리스트 to_do\n",
    "\n",
    "# 빈 리스트\n",
    "to_do = []\n",
    "\n",
    "to_do.append('여행')\n",
    "print(to_do)"
   ]
  },
  {
   "cell_type": "code",
   "execution_count": null,
   "id": "85c5e904",
   "metadata": {},
   "outputs": [],
   "source": []
  },
  {
   "cell_type": "code",
   "execution_count": null,
   "id": "08be5111",
   "metadata": {},
   "outputs": [],
   "source": []
  },
  {
   "cell_type": "code",
   "execution_count": null,
   "id": "dda6cbb7",
   "metadata": {},
   "outputs": [],
   "source": []
  }
 ],
 "metadata": {
  "kernelspec": {
   "display_name": "Python 3 (ipykernel)",
   "language": "python",
   "name": "python3"
  },
  "language_info": {
   "codemirror_mode": {
    "name": "ipython",
    "version": 3
   },
   "file_extension": ".py",
   "mimetype": "text/x-python",
   "name": "python",
   "nbconvert_exporter": "python",
   "pygments_lexer": "ipython3",
   "version": "3.9.7"
  }
 },
 "nbformat": 4,
 "nbformat_minor": 5
}
