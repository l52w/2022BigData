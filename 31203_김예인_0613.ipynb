{
 "cells": [
  {
   "cell_type": "markdown",
   "id": "33fedaa6",
   "metadata": {},
   "source": [
    "# 31203_김예인_0613"
   ]
  },
  {
   "cell_type": "markdown",
   "id": "43a80472",
   "metadata": {},
   "source": [
    "**[42]**<br>\n",
    "정수 2개(a,b)를 입력받아 a를 b로 나눈 몫을 출력해보자.<br>\n",
    "**Tip::**\n",
    "1. 산술 연산자 '/'는 정확히 나눈 후의 값을 반환한다. *ex) 1/3 >> 0.33333*\n",
    "2. 산술 연산자 '//'는 나눈 후의 몫만 반환한다. *ex) 1/3 >> 0*"
   ]
  },
  {
   "cell_type": "code",
   "execution_count": 8,
   "id": "340644ad",
   "metadata": {},
   "outputs": [
    {
     "name": "stdout",
     "output_type": "stream",
     "text": [
      "입력 : 1,3\n",
      "출력 : 0\n"
     ]
    }
   ],
   "source": [
    "a,b = map(int,input('입력 : ').split(','))\n",
    "c = a//b\n",
    "print('출력 :', c)"
   ]
  },
  {
   "cell_type": "code",
   "execution_count": 15,
   "id": "e312175f",
   "metadata": {},
   "outputs": [
    {
     "name": "stdout",
     "output_type": "stream",
     "text": [
      "입력 : 1 3\n",
      "출력 : 0\n"
     ]
    }
   ],
   "source": [
    "a,b = map(int, input('입력 : ').split(' '))\n",
    "print('출력 :', a//b)"
   ]
  },
  {
   "cell_type": "markdown",
   "id": "d551bd47",
   "metadata": {},
   "source": [
    "**[43]**<br>\n",
    "정수 2개(a,b)를 입력받아 a를 b로 나눈 나머지를 출력해보자\n",
    "1. 연산자 %"
   ]
  },
  {
   "cell_type": "code",
   "execution_count": 23,
   "id": "7ff27c5f",
   "metadata": {},
   "outputs": [
    {
     "name": "stdout",
     "output_type": "stream",
     "text": [
      "입력 : 7 3\n",
      "출력 : 1\n"
     ]
    }
   ],
   "source": [
    "d,e = map(int,input('입력 : ').split(' '))\n",
    "f = d%e\n",
    "print('출력 :', f)"
   ]
  },
  {
   "cell_type": "markdown",
   "id": "a6fe573d",
   "metadata": {},
   "source": [
    "**[44]**<br>\n",
    "정수 1개 입력받아 10만큼 더해 출력해보자."
   ]
  },
  {
   "cell_type": "code",
   "execution_count": 30,
   "id": "0c05f9b8",
   "metadata": {},
   "outputs": [
    {
     "name": "stdout",
     "output_type": "stream",
     "text": [
      "입력 : 10\n",
      "출력 : 20\n"
     ]
    }
   ],
   "source": [
    "g = int(input('입력 : '))\n",
    "h = g + 10\n",
    "print('출력 :', h)"
   ]
  },
  {
   "cell_type": "markdown",
   "id": "ada08922",
   "metadata": {},
   "source": [
    "**[45]**<br>\n",
    "정수 2개(a,b)를 입력받아 합, 차, 곱, 몫, 나머지, 나눈 값을 자동으로 계산해보자.\n",
    "```\n",
    "첫 줄에 합, \n",
    "둘째 줄에 차, \n",
    "셋째 줄에 곱,\n",
    "넷째 줄에 몫, \n",
    "다섯째 줄에 나머지,\n",
    "여섯째 줄에 나눈 값을 순서대로 출력한다.\n",
    "(실수, 소수점 이하 셋째 자리에서 반올림해 둘재 자리까지 출력)\n",
    "```"
   ]
  },
  {
   "cell_type": "code",
   "execution_count": 42,
   "id": "e859d32c",
   "metadata": {},
   "outputs": [
    {
     "name": "stdout",
     "output_type": "stream",
     "text": [
      "입력 : 11 7\n",
      "합 : 18\n",
      "차 : 4\n",
      "곱 : 77\n",
      "몫 : 1\n",
      "나머지 : 4\n",
      "나눈 값 : 1.57\n"
     ]
    }
   ],
   "source": [
    "i,j = map(int,input('입력 : ').split(' '))\n",
    "print('합 :', i+j)    # 합 연산자 +\n",
    "print('차 :', i-j)    # 차 연산자 -\n",
    "print('곱 :', i*j)    # 곱 연산자 *\n",
    "print('몫 :', i//j)    # 몫 연산자 //\n",
    "print('나머지 :', i%j)    # 나머지 연산자 %\n",
    "print('나눈 값 :', round(i/j,2))    # 나눈 값 연산자 /, round(연산, 자릿수)"
   ]
  },
  {
   "cell_type": "code",
   "execution_count": 41,
   "id": "46005a67",
   "metadata": {},
   "outputs": [
    {
     "name": "stdout",
     "output_type": "stream",
     "text": [
      "입력 : 1 3\n",
      "합 :  4\n"
     ]
    }
   ],
   "source": [
    "a = list(map(int, input('입력 : ').split()))\n",
    "print('합 : ', a[0]+a[1])"
   ]
  }
 ],
 "metadata": {
  "kernelspec": {
   "display_name": "Python 3 (ipykernel)",
   "language": "python",
   "name": "python3"
  },
  "language_info": {
   "codemirror_mode": {
    "name": "ipython",
    "version": 3
   },
   "file_extension": ".py",
   "mimetype": "text/x-python",
   "name": "python",
   "nbconvert_exporter": "python",
   "pygments_lexer": "ipython3",
   "version": "3.9.7"
  }
 },
 "nbformat": 4,
 "nbformat_minor": 5
}
