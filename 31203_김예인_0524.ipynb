{
 "cells": [
  {
   "cell_type": "markdown",
   "id": "9af5484b",
   "metadata": {},
   "source": [
    "**[18]**<br>\n",
    "년, 월, 일을 입력받아 지정된 형식으로 출력하는 연습을 해보자.<br>\n",
    "**입력**<br>\n",
    "연, 월, 일이 \".\"으로 구분되어 입력된다.<br>\n",
    "**출력**<br>\n",
    "입력받은 연, 월, 일을 yyyy.mm.dd 형식으로 출력한다.<br><br>\n",
    "입력 : 2020.2.9<br>\n",
    "출력 : 2020.02.09<br>\n",
    "(단, m 혹은 d가 한 자리 수인 경우 앞에 0을 붙여 출력한다.)"
   ]
  },
  {
   "cell_type": "code",
   "execution_count": 10,
   "id": "7198cf41",
   "metadata": {},
   "outputs": [
    {
     "name": "stdout",
     "output_type": "stream",
     "text": [
      "입력 : 2020.2.9\n",
      "출력 : 2020.02.09\n"
     ]
    }
   ],
   "source": [
    "y,m,d = input('입력 : ').split('.')\n",
    "if len(m) == 1:\n",
    "    m = '0'+m\n",
    "if len(d) == 1:\n",
    "    d = '0'+d\n",
    "print('출력 : {}.{}.{}'.format(y,m,d))"
   ]
  },
  {
   "cell_type": "markdown",
   "id": "a501ab40",
   "metadata": {},
   "source": [
    "**[19]**<br>\n",
    "주민번호는 다음과 같이 구성된다.<br>\n",
    "XXXXXX-XXXXXX<br>\n",
    "앞의 6자리는 생년월일(yymmdd)이고 뒤 7자리는 성별, 지역, 오류검출코드이다.<br>\n",
    "주민번호를 입력받아 형태를 바꿔 출력해보자.<br><br>\n",
    "**입력**<br>\n",
    "주민번호 앞 6자리와 뒷 7자리가 '-'로 구분되어 입력된다. (입력값은 가상의 주민번호이다.)<br>\n",
    "ex) 110011-0000000<br>\n",
    "**출력**<br>\n",
    "'-'를 제외한 주민번호 13자리를 모두 붙여 출력한다.<br>\n",
    "입력 : 000907-1121112<br>\n",
    "출력 : 0009071121112"
   ]
  },
  {
   "cell_type": "code",
   "execution_count": 13,
   "id": "03ee93cb",
   "metadata": {},
   "outputs": [
    {
     "name": "stdout",
     "output_type": "stream",
     "text": [
      "입력 : 00907-1121112\n",
      "출력 : 009071121112\n"
     ]
    }
   ],
   "source": [
    "a,b = input('입력 : ').split('-')\n",
    "print('출력 : {}{}'.format(a,b))"
   ]
  },
  {
   "cell_type": "markdown",
   "id": "c46e7c6f",
   "metadata": {},
   "source": [
    "**[20]**<br>\n",
    "- 1개의 문자열을 입력받아 그대로 출력해보자.\n",
    "- 성일정보고 최고에요"
   ]
  },
  {
   "cell_type": "code",
   "execution_count": 14,
   "id": "235b5e0c",
   "metadata": {},
   "outputs": [
    {
     "name": "stdout",
     "output_type": "stream",
     "text": [
      "입력 : 성일정보고 최고에요.\n",
      "출력 : 성일정보고 최고에요.\n"
     ]
    }
   ],
   "source": [
    "c = input('입력 : ')\n",
    "print('출력 :', c)"
   ]
  },
  {
   "cell_type": "code",
   "execution_count": null,
   "id": "5483fe9b",
   "metadata": {},
   "outputs": [],
   "source": []
  }
 ],
 "metadata": {
  "kernelspec": {
   "display_name": "Python 3 (ipykernel)",
   "language": "python",
   "name": "python3"
  },
  "language_info": {
   "codemirror_mode": {
    "name": "ipython",
    "version": 3
   },
   "file_extension": ".py",
   "mimetype": "text/x-python",
   "name": "python",
   "nbconvert_exporter": "python",
   "pygments_lexer": "ipython3",
   "version": "3.9.7"
  }
 },
 "nbformat": 4,
 "nbformat_minor": 5
}
