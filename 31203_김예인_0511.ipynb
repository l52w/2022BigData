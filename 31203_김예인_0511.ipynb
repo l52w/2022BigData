{
 "cells": [
  {
   "cell_type": "markdown",
   "id": "3f259bdf",
   "metadata": {},
   "source": [
    "# 31203_김예인_0511"
   ]
  },
  {
   "cell_type": "code",
   "execution_count": 1,
   "id": "667a2211",
   "metadata": {},
   "outputs": [],
   "source": [
    "menu = {'김밥':2500, '참치김밥':3500, '라면':3000, '치즈라면':4000}"
   ]
  },
  {
   "cell_type": "code",
   "execution_count": 2,
   "id": "9493ecbe",
   "metadata": {},
   "outputs": [
    {
     "data": {
      "text/plain": [
       "{'김밥': 2500, '참치김밥': 3500, '라면': 3000, '치즈라면': 4000}"
      ]
     },
     "execution_count": 2,
     "metadata": {},
     "output_type": "execute_result"
    }
   ],
   "source": [
    "menu"
   ]
  },
  {
   "cell_type": "code",
   "execution_count": 3,
   "id": "703d2a89",
   "metadata": {},
   "outputs": [
    {
     "data": {
      "text/plain": [
       "3500"
      ]
     },
     "execution_count": 3,
     "metadata": {},
     "output_type": "execute_result"
    }
   ],
   "source": [
    "menu['참치김밥']"
   ]
  },
  {
   "cell_type": "code",
   "execution_count": 4,
   "id": "1e209cf8",
   "metadata": {},
   "outputs": [],
   "source": [
    "menu['참치김밥'] = 3000"
   ]
  },
  {
   "cell_type": "code",
   "execution_count": 6,
   "id": "d3e83eac",
   "metadata": {},
   "outputs": [
    {
     "data": {
      "text/plain": [
       "3000"
      ]
     },
     "execution_count": 6,
     "metadata": {},
     "output_type": "execute_result"
    }
   ],
   "source": [
    "menu['참치김밥']"
   ]
  },
  {
   "cell_type": "code",
   "execution_count": 7,
   "id": "3de31622",
   "metadata": {},
   "outputs": [],
   "source": [
    "menu['돈가스'] = 6000"
   ]
  },
  {
   "cell_type": "code",
   "execution_count": 9,
   "id": "ef50c5b6",
   "metadata": {},
   "outputs": [],
   "source": [
    "menu['돈가스'] = 7000"
   ]
  },
  {
   "cell_type": "code",
   "execution_count": 10,
   "id": "78c6bd41",
   "metadata": {},
   "outputs": [
    {
     "data": {
      "text/plain": [
       "dict_keys(['김밥', '참치김밥', '라면', '치즈라면', '돈가스'])"
      ]
     },
     "execution_count": 10,
     "metadata": {},
     "output_type": "execute_result"
    }
   ],
   "source": [
    "menu.keys()"
   ]
  },
  {
   "cell_type": "code",
   "execution_count": 11,
   "id": "a2f5606e",
   "metadata": {},
   "outputs": [
    {
     "data": {
      "text/plain": [
       "dict_values([2500, 3000, 3000, 4000, 7000])"
      ]
     },
     "execution_count": 11,
     "metadata": {},
     "output_type": "execute_result"
    }
   ],
   "source": [
    "menu.values()"
   ]
  },
  {
   "cell_type": "code",
   "execution_count": 14,
   "id": "383eb8d2",
   "metadata": {},
   "outputs": [],
   "source": [
    "a = list(menu.keys())"
   ]
  },
  {
   "cell_type": "code",
   "execution_count": 15,
   "id": "e66a4f60",
   "metadata": {},
   "outputs": [
    {
     "data": {
      "text/plain": [
       "['김밥', '참치김밥', '라면', '치즈라면', '돈가스']"
      ]
     },
     "execution_count": 15,
     "metadata": {},
     "output_type": "execute_result"
    }
   ],
   "source": [
    "a"
   ]
  },
  {
   "cell_type": "code",
   "execution_count": 16,
   "id": "631ec735",
   "metadata": {},
   "outputs": [
    {
     "data": {
      "text/plain": [
       "['김밥', '돈가스', '라면', '참치김밥', '치즈라면']"
      ]
     },
     "execution_count": 16,
     "metadata": {},
     "output_type": "execute_result"
    }
   ],
   "source": [
    "sorted(a)"
   ]
  },
  {
   "cell_type": "code",
   "execution_count": 17,
   "id": "ea088857",
   "metadata": {},
   "outputs": [
    {
     "data": {
      "text/plain": [
       "['김밥', '돈가스', '라면', '참치김밥', '치즈라면']"
      ]
     },
     "execution_count": 17,
     "metadata": {},
     "output_type": "execute_result"
    }
   ],
   "source": [
    "sorted(menu.keys())"
   ]
  },
  {
   "cell_type": "code",
   "execution_count": 19,
   "id": "42412e0f",
   "metadata": {},
   "outputs": [],
   "source": [
    "mart = {'과자':1500, '아이스크림':1700, '휴지':4800, '고기':10500, '우유':2600}"
   ]
  },
  {
   "cell_type": "code",
   "execution_count": 20,
   "id": "7dcf6a6d",
   "metadata": {},
   "outputs": [
    {
     "data": {
      "text/plain": [
       "['고기', '과자', '아이스크림', '우유', '휴지']"
      ]
     },
     "execution_count": 20,
     "metadata": {},
     "output_type": "execute_result"
    }
   ],
   "source": [
    "sorted(mart.keys())"
   ]
  },
  {
   "cell_type": "code",
   "execution_count": 21,
   "id": "9061ff8b",
   "metadata": {},
   "outputs": [
    {
     "data": {
      "text/plain": [
       "['휴지', '우유', '아이스크림', '과자', '고기']"
      ]
     },
     "execution_count": 21,
     "metadata": {},
     "output_type": "execute_result"
    }
   ],
   "source": [
    "sorted(mart.keys(),reverse=True)"
   ]
  },
  {
   "cell_type": "code",
   "execution_count": 22,
   "id": "cd2596a7",
   "metadata": {},
   "outputs": [
    {
     "data": {
      "text/plain": [
       "['과자', '아이스크림']"
      ]
     },
     "execution_count": 22,
     "metadata": {},
     "output_type": "execute_result"
    }
   ],
   "source": [
    "sorted(mart.keys())[1:3]"
   ]
  },
  {
   "cell_type": "markdown",
   "id": "32131da1",
   "metadata": {},
   "source": [
    "딕셔너리의 키-값 쌍을 정렬하기"
   ]
  },
  {
   "cell_type": "code",
   "execution_count": 24,
   "id": "72b5c2a0",
   "metadata": {},
   "outputs": [
    {
     "data": {
      "text/plain": [
       "[('고기', 10500), ('과자', 1500), ('아이스크림', 1700), ('우유', 2600), ('휴지', 4800)]"
      ]
     },
     "execution_count": 24,
     "metadata": {},
     "output_type": "execute_result"
    }
   ],
   "source": [
    "# 딕셔너리.items\n",
    "\n",
    "sorted(mart.items())"
   ]
  },
  {
   "cell_type": "markdown",
   "id": "b87c710a",
   "metadata": {},
   "source": [
    "딕셔너리 (키-값)쌍은 자동으로 키를 기준으로 정렬됨\n",
    "\n",
    "> 값을 기준으로 (키-값)쌍 정렬하기\n",
    "```\n",
    "import operator\n",
    "sorted(딕셔너리.items(), key = operator.itemgetter(1))\n",
    "itemgetter(0) : 키를 기준으로 정렬\n",
    "itemgetter(1) : 값을 기준으로 정렬\n",
    "```"
   ]
  },
  {
   "cell_type": "code",
   "execution_count": 25,
   "id": "28209e11",
   "metadata": {},
   "outputs": [
    {
     "data": {
      "text/plain": [
       "[('과자', 1500), ('아이스크림', 1700), ('우유', 2600), ('휴지', 4800), ('고기', 10500)]"
      ]
     },
     "execution_count": 25,
     "metadata": {},
     "output_type": "execute_result"
    }
   ],
   "source": [
    "import operator\n",
    "\n",
    "sorted(mart.items(), key = operator.itemgetter(1))"
   ]
  },
  {
   "cell_type": "code",
   "execution_count": 27,
   "id": "60ec1366",
   "metadata": {},
   "outputs": [
    {
     "data": {
      "text/plain": [
       "[('고기', 10500), ('휴지', 4800), ('우유', 2600), ('아이스크림', 1700), ('과자', 1500)]"
      ]
     },
     "execution_count": 27,
     "metadata": {},
     "output_type": "execute_result"
    }
   ],
   "source": [
    "# 거꾸로 reverse = True \n",
    "\n",
    "sorted(mart.items(), key = operator.itemgetter(1), reverse=True)"
   ]
  },
  {
   "cell_type": "code",
   "execution_count": 28,
   "id": "1e550cc7",
   "metadata": {},
   "outputs": [
    {
     "data": {
      "text/plain": [
       "('고기', 10500)"
      ]
     },
     "execution_count": 28,
     "metadata": {},
     "output_type": "execute_result"
    }
   ],
   "source": [
    "# 문제. 마트에서 가장 비싼 상풍과 가격을 출력\n",
    "\n",
    "sorted(mart.items(), key = operator.itemgetter(1), reverse=True)[0]"
   ]
  },
  {
   "cell_type": "code",
   "execution_count": 29,
   "id": "41a2aba3",
   "metadata": {},
   "outputs": [
    {
     "data": {
      "text/plain": [
       "[('고기', 10500), ('휴지', 4800)]"
      ]
     },
     "execution_count": 29,
     "metadata": {},
     "output_type": "execute_result"
    }
   ],
   "source": [
    "# 문제. 마트에서 가장 비싼 상품과 가격 2개를 출력\n",
    "\n",
    "sorted(mart.items(), key = operator.itemgetter(1), reverse=True)[:2]"
   ]
  },
  {
   "cell_type": "markdown",
   "id": "c46f5f1f",
   "metadata": {},
   "source": [
    "# 4. 딕셔너리와 제어구조\n",
    "\n",
    "```\n",
    "# 다섯 명의 중간고사 점수를 저장한 딕셔너리\n",
    "midterm = {'도윤':43, '하윤':82, '시우':76, '지유':61, '주원':94}\n",
    "```"
   ]
  },
  {
   "cell_type": "code",
   "execution_count": 38,
   "id": "95bec09c",
   "metadata": {},
   "outputs": [
    {
     "name": "stdout",
     "output_type": "stream",
     "text": [
      "어떤 학생의 점수가 궁금한가요? : 도운\n",
      "해당 학생이 없습니다.\n"
     ]
    }
   ],
   "source": [
    "midterm = {'도윤':43, '하윤':82, '시우':76, '지유':61, '주원':94}\n",
    "\n",
    "student = input('어떤 학생의 점수가 궁금한가요? : ')\n",
    "if student in midterm.keys() :\n",
    "    print(midterm[student], '점 입니다.')\n",
    "else :\n",
    "    print('해당 학생이 없습니다.')"
   ]
  },
  {
   "cell_type": "code",
   "execution_count": 39,
   "id": "40f6a9c4",
   "metadata": {},
   "outputs": [
    {
     "name": "stdout",
     "output_type": "stream",
     "text": [
      "도윤\n",
      "하윤\n",
      "시우\n",
      "지유\n",
      "주원\n"
     ]
    }
   ],
   "source": [
    "# 딕셔너리에 저장된 모든 학생의 이름 출력하기\n",
    "\n",
    "for k in midterm.keys() :\n",
    "    print(k)"
   ]
  },
  {
   "cell_type": "code",
   "execution_count": 40,
   "id": "764fa70a",
   "metadata": {},
   "outputs": [
    {
     "name": "stdout",
     "output_type": "stream",
     "text": [
      "43\n",
      "82\n",
      "76\n",
      "61\n",
      "94\n"
     ]
    }
   ],
   "source": [
    "# 딕셔너리에 저장된 모든 학생의 점수를 출력하기\n",
    "\n",
    "for i in midterm.values() :\n",
    "    print(i)"
   ]
  },
  {
   "cell_type": "code",
   "execution_count": 41,
   "id": "da93e412",
   "metadata": {},
   "outputs": [
    {
     "name": "stdout",
     "output_type": "stream",
     "text": [
      "('도윤', 43)\n",
      "('하윤', 82)\n",
      "('시우', 76)\n",
      "('지유', 61)\n",
      "('주원', 94)\n"
     ]
    }
   ],
   "source": [
    "# 문제. 학생과 점수를 같이 출력\n",
    "\n",
    "for i in midterm.items() :\n",
    "    print(i)"
   ]
  },
  {
   "cell_type": "code",
   "execution_count": 42,
   "id": "a850a093",
   "metadata": {},
   "outputs": [
    {
     "name": "stdout",
     "output_type": "stream",
     "text": [
      "도윤 의 점수는 43\n",
      "하윤 의 점수는 82\n",
      "시우 의 점수는 76\n",
      "지유 의 점수는 61\n",
      "주원 의 점수는 94\n"
     ]
    }
   ],
   "source": [
    "# 문제. 학생의 점수는\n",
    "\n",
    "for i,j in midterm.items() :\n",
    "    print(i, '의 점수는', j)"
   ]
  },
  {
   "cell_type": "code",
   "execution_count": null,
   "id": "c63e69c6",
   "metadata": {},
   "outputs": [],
   "source": []
  }
 ],
 "metadata": {
  "kernelspec": {
   "display_name": "Python 3 (ipykernel)",
   "language": "python",
   "name": "python3"
  },
  "language_info": {
   "codemirror_mode": {
    "name": "ipython",
    "version": 3
   },
   "file_extension": ".py",
   "mimetype": "text/x-python",
   "name": "python",
   "nbconvert_exporter": "python",
   "pygments_lexer": "ipython3",
   "version": "3.9.7"
  }
 },
 "nbformat": 4,
 "nbformat_minor": 5
}
