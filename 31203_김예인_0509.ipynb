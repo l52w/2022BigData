{
 "cells": [
  {
   "cell_type": "markdown",
   "id": "a3d5f947",
   "metadata": {},
   "source": [
    "# 31203_김예인_0509"
   ]
  },
  {
   "cell_type": "markdown",
   "id": "bab0e833",
   "metadata": {},
   "source": [
    "# 1. 딕셔너리\n",
    "Key (키) - Value (값) 대응\n",
    "```\n",
    "딕셔너리이름 = {키1 : 값1, 키2 : 값2, ... 키n : 값n}\n",
    "```"
   ]
  },
  {
   "cell_type": "code",
   "execution_count": 1,
   "id": "03102024",
   "metadata": {},
   "outputs": [],
   "source": [
    "menu = {'김밥':2500, '참치김밥':3500, '라면':3000, '치즈라면':4000}"
   ]
  },
  {
   "cell_type": "code",
   "execution_count": 2,
   "id": "659f36f8",
   "metadata": {},
   "outputs": [
    {
     "name": "stdout",
     "output_type": "stream",
     "text": [
      "{'김밥': 2500, '참치김밥': 3500, '라면': 3000, '치즈라면': 4000}\n"
     ]
    }
   ],
   "source": [
    "print(menu)"
   ]
  },
  {
   "cell_type": "code",
   "execution_count": 3,
   "id": "2138fda4",
   "metadata": {},
   "outputs": [
    {
     "data": {
      "text/plain": [
       "{'김밥': 2500, '참치김밥': 3500, '라면': 3000, '치즈라면': 4000}"
      ]
     },
     "execution_count": 3,
     "metadata": {},
     "output_type": "execute_result"
    }
   ],
   "source": [
    "menu"
   ]
  },
  {
   "cell_type": "code",
   "execution_count": 4,
   "id": "30ceb9ba",
   "metadata": {},
   "outputs": [
    {
     "data": {
      "text/plain": [
       "3500"
      ]
     },
     "execution_count": 4,
     "metadata": {},
     "output_type": "execute_result"
    }
   ],
   "source": [
    "menu['참치김밥']"
   ]
  },
  {
   "cell_type": "code",
   "execution_count": 5,
   "id": "e267a26f",
   "metadata": {},
   "outputs": [
    {
     "data": {
      "text/plain": [
       "4000"
      ]
     },
     "execution_count": 5,
     "metadata": {},
     "output_type": "execute_result"
    }
   ],
   "source": [
    "menu['치즈라면']"
   ]
  },
  {
   "cell_type": "code",
   "execution_count": 6,
   "id": "8aa7a5ca",
   "metadata": {},
   "outputs": [
    {
     "name": "stdout",
     "output_type": "stream",
     "text": [
      "{'김밥': 2500, '참치김밥': 3500, '라면': 3000, '치즈라면': 4000}\n",
      "{'김밥': 2500, '참치김밥': 3000, '라면': 3000, '치즈라면': 4000}\n"
     ]
    }
   ],
   "source": [
    "# 값을 변경하는 방법 : 키의 값을 그냥 넣어주면 된다.\n",
    "print(menu)\n",
    "\n",
    "# 참치김밥 인하 3000원\n",
    "menu['참치김밥'] = 3000\n",
    "\n",
    "print(menu)"
   ]
  },
  {
   "cell_type": "code",
   "execution_count": 13,
   "id": "15906388",
   "metadata": {},
   "outputs": [
    {
     "name": "stdout",
     "output_type": "stream",
     "text": [
      "3000\n",
      "3500\n"
     ]
    }
   ],
   "source": [
    "print(menu['라면'])\n",
    "\n",
    "# 라면 가격 인상 3500\n",
    "menu['라면'] = 3500\n",
    "\n",
    "print(menu['라면'])"
   ]
  },
  {
   "cell_type": "code",
   "execution_count": 8,
   "id": "e8814797",
   "metadata": {},
   "outputs": [],
   "source": [
    "# 메뉴에 돈가스 추가\n",
    "# 돈가스 키가 있는지 없는지 판단\n",
    "# 없으면 추가\n",
    "# 있으면 변경 (값을 변경)\n",
    "\n",
    "menu['돈가스']=6000"
   ]
  },
  {
   "cell_type": "code",
   "execution_count": 9,
   "id": "22f90d8f",
   "metadata": {},
   "outputs": [
    {
     "name": "stdout",
     "output_type": "stream",
     "text": [
      "{'김밥': 2500, '참치김밥': 3000, '라면': 3500, '치즈라면': 4000, '돈가스': 6000}\n"
     ]
    }
   ],
   "source": [
    "print(menu)"
   ]
  },
  {
   "cell_type": "markdown",
   "id": "d60bdf97",
   "metadata": {},
   "source": [
    "# 2. 딕셔너리의 키와 값\n",
    "딕셔너리의 키만 꺼내기\n",
    "> 딕셔너리이름.keys()\n",
    "\n",
    "<br>\n",
    "\n",
    "딕셔너리의 값(value)만 꺼내기\n",
    "> 딕셔너리이름.values()\n",
    "\n",
    "<br>\n",
    "\n",
    "딕셔너리의 키-값 모두 꺼내기\n",
    "> 딕셔너리이름.items()"
   ]
  },
  {
   "cell_type": "code",
   "execution_count": 14,
   "id": "9a999a7e",
   "metadata": {},
   "outputs": [
    {
     "data": {
      "text/plain": [
       "{'김밥': 2500, '참치김밥': 3000, '라면': 3500, '치즈라면': 4000, '돈가스': 6000}"
      ]
     },
     "execution_count": 14,
     "metadata": {},
     "output_type": "execute_result"
    }
   ],
   "source": [
    "menu"
   ]
  },
  {
   "cell_type": "code",
   "execution_count": 15,
   "id": "07a40b61",
   "metadata": {},
   "outputs": [
    {
     "data": {
      "text/plain": [
       "dict_keys(['김밥', '참치김밥', '라면', '치즈라면', '돈가스'])"
      ]
     },
     "execution_count": 15,
     "metadata": {},
     "output_type": "execute_result"
    }
   ],
   "source": [
    "menu.keys()"
   ]
  },
  {
   "cell_type": "code",
   "execution_count": 16,
   "id": "46a400aa",
   "metadata": {},
   "outputs": [
    {
     "data": {
      "text/plain": [
       "dict_values([2500, 3000, 3500, 4000, 6000])"
      ]
     },
     "execution_count": 16,
     "metadata": {},
     "output_type": "execute_result"
    }
   ],
   "source": [
    "menu.values()"
   ]
  },
  {
   "cell_type": "code",
   "execution_count": 17,
   "id": "fdf18f78",
   "metadata": {},
   "outputs": [
    {
     "data": {
      "text/plain": [
       "dict_items([('김밥', 2500), ('참치김밥', 3000), ('라면', 3500), ('치즈라면', 4000), ('돈가스', 6000)])"
      ]
     },
     "execution_count": 17,
     "metadata": {},
     "output_type": "execute_result"
    }
   ],
   "source": [
    "menu.items()"
   ]
  },
  {
   "cell_type": "code",
   "execution_count": 19,
   "id": "76fde1a6",
   "metadata": {},
   "outputs": [],
   "source": [
    "# 딕셔너리를 리스트로 변환하는 방법은 앞에 list\n",
    "a = list(menu.keys())"
   ]
  },
  {
   "cell_type": "code",
   "execution_count": 20,
   "id": "4e8ca44e",
   "metadata": {},
   "outputs": [
    {
     "data": {
      "text/plain": [
       "['김밥', '참치김밥', '라면', '치즈라면', '돈가스']"
      ]
     },
     "execution_count": 20,
     "metadata": {},
     "output_type": "execute_result"
    }
   ],
   "source": [
    "a"
   ]
  },
  {
   "cell_type": "code",
   "execution_count": 21,
   "id": "618acc5a",
   "metadata": {},
   "outputs": [
    {
     "name": "stdout",
     "output_type": "stream",
     "text": [
      "['김밥', '참치김밥', '라면', '치즈라면', '돈가스']\n"
     ]
    }
   ],
   "source": [
    "print(a)"
   ]
  },
  {
   "cell_type": "code",
   "execution_count": 23,
   "id": "81dee4ee",
   "metadata": {},
   "outputs": [
    {
     "data": {
      "text/plain": [
       "[2500, 3000, 3500, 4000, 6000]"
      ]
     },
     "execution_count": 23,
     "metadata": {},
     "output_type": "execute_result"
    }
   ],
   "source": [
    "list(menu.values())"
   ]
  },
  {
   "cell_type": "markdown",
   "id": "8a79af70",
   "metadata": {},
   "source": [
    "# 3. 딕셔너리 정렬하기\n",
    "\n",
    "> sorted()\n",
    "\n",
    "```\n",
    "# 딕셔너리 키를 정렬\n",
    "sorted(딕셔너리.keys())\n",
    "\n",
    "# 딕셔너리 값을 정렬\n",
    "sorted(딕셔너리.values())\n",
    "\n",
    "# 딕셔너리 키-값을 정렬\n",
    "sorted(딕셔너리.items())\n",
    "```\n",
    "\n",
    "```\n",
    "mart = {'과자':1500, '아이스크림':1700, '휴지':4800, '고기':10500, '우유':2600}\n",
    "```"
   ]
  },
  {
   "cell_type": "code",
   "execution_count": 24,
   "id": "38ca78bb",
   "metadata": {},
   "outputs": [],
   "source": [
    "mart = {'과자':1500, '아이스크림':1700, '휴지':4800, '고기':10500, '우유':2600}"
   ]
  },
  {
   "cell_type": "code",
   "execution_count": 27,
   "id": "4b7e670d",
   "metadata": {},
   "outputs": [
    {
     "data": {
      "text/plain": [
       "['고기', '과자', '아이스크림', '우유', '휴지']"
      ]
     },
     "execution_count": 27,
     "metadata": {},
     "output_type": "execute_result"
    }
   ],
   "source": [
    "# key값을 정렬하여 가져오기 -> list자료형으로 가져온다.\n",
    "sorted(mart.keys())"
   ]
  },
  {
   "cell_type": "code",
   "execution_count": 28,
   "id": "0a18b380",
   "metadata": {},
   "outputs": [
    {
     "data": {
      "text/plain": [
       "['휴지', '우유', '아이스크림', '과자', '고기']"
      ]
     },
     "execution_count": 28,
     "metadata": {},
     "output_type": "execute_result"
    }
   ],
   "source": [
    "# 정렬    기본정렬 : 오름차순 (작은 것 -> 큰 것)\n",
    "# 정렬    내립차순 : 큰 것 -> 작은 것\n",
    "# reverse 옵션을 True\n",
    "\n",
    "sorted(mart.keys(), reverse=True)"
   ]
  },
  {
   "cell_type": "code",
   "execution_count": 31,
   "id": "b218b017",
   "metadata": {},
   "outputs": [
    {
     "data": {
      "text/plain": [
       "[1500, 1700, 2600, 4800, 10500]"
      ]
     },
     "execution_count": 31,
     "metadata": {},
     "output_type": "execute_result"
    }
   ],
   "source": [
    "# 문제 value값을 정렬하기\n",
    "sorted(mart.values())"
   ]
  },
  {
   "cell_type": "code",
   "execution_count": 33,
   "id": "6452e1b2",
   "metadata": {},
   "outputs": [
    {
     "data": {
      "text/plain": [
       "[10500, 4800, 2600, 1700, 1500]"
      ]
     },
     "execution_count": 33,
     "metadata": {},
     "output_type": "execute_result"
    }
   ],
   "source": [
    "# value값을 내림차순으로 정렬하기\n",
    "sorted(mart.values(), reverse=True)"
   ]
  },
  {
   "cell_type": "code",
   "execution_count": null,
   "id": "99221222",
   "metadata": {},
   "outputs": [],
   "source": []
  }
 ],
 "metadata": {
  "kernelspec": {
   "display_name": "Python 3 (ipykernel)",
   "language": "python",
   "name": "python3"
  },
  "language_info": {
   "codemirror_mode": {
    "name": "ipython",
    "version": 3
   },
   "file_extension": ".py",
   "mimetype": "text/x-python",
   "name": "python",
   "nbconvert_exporter": "python",
   "pygments_lexer": "ipython3",
   "version": "3.9.7"
  }
 },
 "nbformat": 4,
 "nbformat_minor": 5
}
