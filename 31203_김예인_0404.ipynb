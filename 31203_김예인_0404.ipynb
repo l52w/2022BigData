{
 "cells": [
  {
   "cell_type": "markdown",
   "id": "6c6f9a12",
   "metadata": {},
   "source": [
    "# 31203_김예인_0404"
   ]
  },
  {
   "cell_type": "markdown",
   "id": "594024ec",
   "metadata": {},
   "source": [
    "# 4.4.2 여러 조건을 동시에 판단하는 and와 or\n",
    "\n",
    "```\n",
    "지금까지 살펴본 조건문에서는 한 번에 한 가지 조건만 판단했습니다. 그래서 두 가지 조건을 판단해야 할 때는 앞에서처럼 조건문 안에 조건문을 넣어 사용했습니다. 그런데 하나의 if로 여러 조건을 동시에 판단할 수도 있습니다.\n",
    "```\n",
    "\n",
    "### 여러 조건을 동시에 충족하는 and\n",
    "\n",
    "```\n",
    "백화점에서 사은품 행사를 하려고 합니다. 사은품 지급 대상은 구매금액이 10만 원 이상인 고객 중 마케팅 이용약관에 동의한 고객입니다. 고건이 구매급액과 이용약관 두 가지인니다. 두 가지 조건을 동시에 충족해야 하는데 이런 경우는 어떻게 표현할까요?\n",
    " 여러 조건을 동시에 판단할 때는 and를 사용합니다. and는 '그리고'라는 의미죠. 따라서  '조건 A를 충족한다 그리고 조건 B를 충족한다'. 즉 '조건 A와 조건 B를 동시에 충족한다'는 뜻이며, '조건 A and 조건 B' 형식으로 사용합니다.\n",
    "```\n",
    "\n",
    "and 형식에 맞춰 '구매금액이 10만 원 이상인 고객 중 마케팅 이용약관에 동의했는가?'를 조건문으로 작성하면 다음과 같습니다.\n",
    "\n",
    "if 구매금액 >= 100000 and 마케팅 이용약관 == 'Y':\n",
    "\n",
    "앞의 조건문을 반영해 백화점 사은품 행사 프로그램을 코드로 작성해 봅시다. 백화점 사은품 행사는 알람 설정 프로그램과 구조가 비슷하므로 참고해서 작성하면 쉽습니다."
   ]
  },
  {
   "cell_type": "code",
   "execution_count": 4,
   "id": "b4c9b416",
   "metadata": {},
   "outputs": [
    {
     "name": "stdout",
     "output_type": "stream",
     "text": [
      "구매금액은? : 100000\n",
      "마케팅 이용약관에 동의했습니까? (Y/N) : Y\n",
      "사은품 지급 대상입니다.\n"
     ]
    }
   ],
   "source": [
    "consumption = int(input('구매금액은? : '))\n",
    "marketing_yn = input('마케팅 이용약관에 동의했습니까? (Y/N) : ')\n",
    "\n",
    "if consumption >= 100000 and marketing_yn == 'Y':\n",
    "    print('사은품 지급 대상입니다.')\n",
    "else:\n",
    "    print('사은품 지급 대상이 아닙니다.')"
   ]
  },
  {
   "cell_type": "code",
   "execution_count": 6,
   "id": "35b37d59",
   "metadata": {},
   "outputs": [
    {
     "name": "stdout",
     "output_type": "stream",
     "text": [
      "구매금액은? : 100000\n",
      "마케팅 이용약관에 동의했습니까? (Y/N) : Y\n",
      "무료주차 대상입니다.\n"
     ]
    }
   ],
   "source": [
    "# or을 사용한 무료주차 여부 판단 프로그램\n",
    "\n",
    "consumption = int(input('구매금액은? : '))\n",
    "marketing_yn = input('마케팅 이용약관에 동의했습니까? (Y/N) : ')\n",
    "\n",
    "if consumption >= 100000 or marketing_yn == 'Y':\n",
    "    print('무료주차 대상입니다.')\n",
    "else:\n",
    "    print('무료주차 대상이 아닙니다.')"
   ]
  },
  {
   "cell_type": "code",
   "execution_count": 13,
   "id": "a64dcd5a",
   "metadata": {},
   "outputs": [
    {
     "name": "stdout",
     "output_type": "stream",
     "text": [
      "숫자 입력 : 50\n",
      "D\n"
     ]
    }
   ],
   "source": [
    "a = int(input('숫자 입력 : '))\n",
    "if a > 50:\n",
    "    if a % 3 == 0:\n",
    "        print('A')\n",
    "    elif a % 3 == 1:\n",
    "        print('B')\n",
    "    else:\n",
    "        print('C')\n",
    "else:\n",
    "    if a % 2 == 0:\n",
    "        print('D')\n",
    "    else:\n",
    "        print('E')"
   ]
  },
  {
   "cell_type": "markdown",
   "id": "b5b1ed54",
   "metadata": {},
   "source": [
    "a의 값을 입력받아 a가 50보다 큰 경우, 3으로 나누어 떨어지면 A, A가 아니고 3으로 나누었을 때 1로 나누어 떨어지면 B, A와 B가 아니고 나누어 떨어지지 않으면 C이다. <br>\n",
    "a가 50보다 작은 경우, 2로 나누어 떨어지면 D, D가 아니고 나누어 떨어지지 않으면 E로 나온다."
   ]
  },
  {
   "cell_type": "code",
   "execution_count": null,
   "id": "c86c1363",
   "metadata": {},
   "outputs": [],
   "source": []
  }
 ],
 "metadata": {
  "kernelspec": {
   "display_name": "Python 3 (ipykernel)",
   "language": "python",
   "name": "python3"
  },
  "language_info": {
   "codemirror_mode": {
    "name": "ipython",
    "version": 3
   },
   "file_extension": ".py",
   "mimetype": "text/x-python",
   "name": "python",
   "nbconvert_exporter": "python",
   "pygments_lexer": "ipython3",
   "version": "3.9.7"
  }
 },
 "nbformat": 4,
 "nbformat_minor": 5
}
