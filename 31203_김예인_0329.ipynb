{
 "cells": [
  {
   "cell_type": "markdown",
   "id": "a1145c23",
   "metadata": {},
   "source": [
    "# 31203_김예인_0329"
   ]
  },
  {
   "cell_type": "markdown",
   "id": "736493c7",
   "metadata": {},
   "source": [
    "# 1. 반복문"
   ]
  },
  {
   "cell_type": "code",
   "execution_count": 3,
   "id": "f61a137f",
   "metadata": {},
   "outputs": [
    {
     "name": "stdout",
     "output_type": "stream",
     "text": [
      "안녕하세요\n",
      "안녕하세요\n",
      "안녕하세요\n",
      "안녕하세요\n",
      "안녕하세요\n"
     ]
    }
   ],
   "source": [
    "# 안녕하세요\n",
    "\n",
    "print('안녕하세요')\n",
    "print('안녕하세요')\n",
    "print('안녕하세요')\n",
    "print('안녕하세요')\n",
    "print('안녕하세요')"
   ]
  },
  {
   "cell_type": "code",
   "execution_count": 5,
   "id": "822df9aa",
   "metadata": {},
   "outputs": [
    {
     "name": "stdout",
     "output_type": "stream",
     "text": [
      "안녕하세요\n",
      "안녕하세요\n",
      "안녕하세요\n",
      "안녕하세요\n",
      "안녕하세요\n"
     ]
    }
   ],
   "source": [
    "for a in [1,2,3,4,5] :\n",
    "    print('안녕하세요')"
   ]
  },
  {
   "cell_type": "markdown",
   "id": "be245179",
   "metadata": {},
   "source": [
    "# 2. range(시작숫자, 종료숫자)\n",
    "\n",
    "> range()는 종료숫자-1까지 포함한다."
   ]
  },
  {
   "cell_type": "code",
   "execution_count": 12,
   "id": "fe22a2a1",
   "metadata": {},
   "outputs": [
    {
     "name": "stdout",
     "output_type": "stream",
     "text": [
      "1 안녕하세요\n",
      "2 안녕하세요\n",
      "3 안녕하세요\n",
      "4 안녕하세요\n",
      "5 안녕하세요\n",
      "6 안녕하세요\n",
      "7 안녕하세요\n",
      "8 안녕하세요\n",
      "9 안녕하세요\n",
      "10 안녕하세요\n"
     ]
    }
   ],
   "source": [
    "for a in range(1,11) :\n",
    "    print(a,'안녕하세요')"
   ]
  },
  {
   "cell_type": "markdown",
   "id": "1eaed82a",
   "metadata": {},
   "source": [
    "# 3.  for in data :\n",
    "일반적으로 반복문에서는 i라는 변수를 사용한다.\n",
    "\n",
    "문제 : 1부터 50까지 숫자의 합을 구해보자."
   ]
  },
  {
   "cell_type": "code",
   "execution_count": 16,
   "id": "49861f44",
   "metadata": {},
   "outputs": [
    {
     "name": "stdout",
     "output_type": "stream",
     "text": [
      "1275\n"
     ]
    }
   ],
   "source": [
    "result = 0\n",
    "\n",
    "for i in range(1,51) :\n",
    "    result = result + i\n",
    "    \n",
    "print(result)"
   ]
  },
  {
   "cell_type": "markdown",
   "id": "a00af7f9",
   "metadata": {},
   "source": [
    "숫자 하나를 입력받고, 1부터 입력받은 숫자까지의 곱을 구해보세요.\n",
    "ex) 5를 입력받은 경우, 1 * 2 * 3 * 4 * 5 결과 출력하기"
   ]
  },
  {
   "cell_type": "code",
   "execution_count": 23,
   "id": "0f64b528",
   "metadata": {},
   "outputs": [
    {
     "name": "stdout",
     "output_type": "stream",
     "text": [
      "숫자 입력 : 5\n",
      "1\n",
      "2\n",
      "6\n",
      "24\n",
      "120\n",
      "120\n"
     ]
    }
   ],
   "source": [
    "num = int(input('숫자 입력 : '))\n",
    "result = 1\n",
    "\n",
    "for i in range(1, num+1) :\n",
    "    result = result*i\n",
    "    print(result)\n",
    "print(result)"
   ]
  },
  {
   "cell_type": "markdown",
   "id": "caec0244",
   "metadata": {},
   "source": [
    "# 4. 구구단 출력 프로그램\n",
    "4단 출력하기 <br/>\n",
    "\n",
    "```\n",
    "4 x 1 = 4\n",
    "4 x 2 = 8\n",
    "...\n",
    "4 x 8 = 32\n",
    "4 x 9 = 36\n",
    "```"
   ]
  },
  {
   "cell_type": "code",
   "execution_count": 29,
   "id": "adfde03c",
   "metadata": {},
   "outputs": [
    {
     "name": "stdout",
     "output_type": "stream",
     "text": [
      "4 x  1 = 4\n",
      "4 x  2 = 8\n",
      "4 x  3 = 12\n",
      "4 x  4 = 16\n",
      "4 x  5 = 20\n",
      "4 x  6 = 24\n",
      "4 x  7 = 28\n",
      "4 x  8 = 32\n",
      "4 x  9 = 36\n"
     ]
    }
   ],
   "source": [
    "for i in range(1, 10) :\n",
    "    print('4 x ',i,'=',4*i)"
   ]
  }
 ],
 "metadata": {
  "kernelspec": {
   "display_name": "Python 3 (ipykernel)",
   "language": "python",
   "name": "python3"
  },
  "language_info": {
   "codemirror_mode": {
    "name": "ipython",
    "version": 3
   },
   "file_extension": ".py",
   "mimetype": "text/x-python",
   "name": "python",
   "nbconvert_exporter": "python",
   "pygments_lexer": "ipython3",
   "version": "3.9.7"
  }
 },
 "nbformat": 4,
 "nbformat_minor": 5
}
