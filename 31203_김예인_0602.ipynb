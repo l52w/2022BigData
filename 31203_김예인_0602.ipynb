{
 "cells": [
  {
   "cell_type": "markdown",
   "id": "426f22b2",
   "metadata": {},
   "source": [
    "**[34]**<br>\n",
    "8진수로 입력된 정수 1개를 10진수로 바꾸어 출력해보자.<br>\n",
    "**Tip::**\n",
    "1. 10진수로 변환하고자 할 때는 int()를 이용하면 된다. 첫번째 파라미터로는 변환하고자 하는 숫자의 문자열('0o12')을, 두번째 파라미터는 첫번째 값이 몇 진수인지를 정수로 입력하면 된다."
   ]
  },
  {
   "cell_type": "code",
   "execution_count": 7,
   "id": "06d04ed9",
   "metadata": {},
   "outputs": [
    {
     "name": "stdout",
     "output_type": "stream",
     "text": [
      "8진수 입력 : 12\n",
      "10진수 출력 : 10\n"
     ]
    }
   ],
   "source": [
    "a = '0o'+input('8진수 입력 : ')\n",
    "print('10진수 출력 :', int(a,8))"
   ]
  },
  {
   "cell_type": "markdown",
   "id": "86f3c158",
   "metadata": {},
   "source": [
    "**[35]**<br>\n",
    "16진수로 입력된 정수 1개를 8**진수**로 바꾸어 출력해보자.<br>\n",
    "**Tip::**\n",
    "1. 16진수 >> 10진수 >> 8진수 순서대로 변환"
   ]
  },
  {
   "cell_type": "code",
   "execution_count": 25,
   "id": "b2c6c7f5",
   "metadata": {},
   "outputs": [
    {
     "name": "stdout",
     "output_type": "stream",
     "text": [
      "16진수 입력 : 9\n",
      "8진수 출력 : 11\n"
     ]
    }
   ],
   "source": [
    "b = '0x'+input('16진수 입력 : ')\n",
    "c = int(b, 16)\n",
    "d = oct(c)[2:]\n",
    "print('8진수 출력 :', d)"
   ]
  },
  {
   "cell_type": "code",
   "execution_count": 27,
   "id": "81edebeb",
   "metadata": {},
   "outputs": [
    {
     "name": "stdout",
     "output_type": "stream",
     "text": [
      "16진수 입력 : 10\n",
      "8진수 출력 : 20\n"
     ]
    }
   ],
   "source": [
    "b = '0x'+input('16진수 입력 : ')\n",
    "c = int(b, 16)\n",
    "print('8진수 출력 :', oct(c)[2:])"
   ]
  }
 ],
 "metadata": {
  "kernelspec": {
   "display_name": "Python 3 (ipykernel)",
   "language": "python",
   "name": "python3"
  },
  "language_info": {
   "codemirror_mode": {
    "name": "ipython",
    "version": 3
   },
   "file_extension": ".py",
   "mimetype": "text/x-python",
   "name": "python",
   "nbconvert_exporter": "python",
   "pygments_lexer": "ipython3",
   "version": "3.9.7"
  }
 },
 "nbformat": 4,
 "nbformat_minor": 5
}
