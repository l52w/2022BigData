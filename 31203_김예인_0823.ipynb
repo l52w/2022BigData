{
 "cells": [
  {
   "cell_type": "markdown",
   "id": "ed994aba",
   "metadata": {},
   "source": [
    "1. 세 정수를 입력받아 최댓값 구하기"
   ]
  },
  {
   "cell_type": "code",
   "execution_count": 4,
   "id": "94312472",
   "metadata": {},
   "outputs": [
    {
     "name": "stdout",
     "output_type": "stream",
     "text": [
      "세 정수의 최댓값을 구합니다.\n",
      "정수 a의 값을 입력하세요. : 10\n",
      "정수 b의 값을 입력하세요. : 20\n",
      "정수 c의 값을 입력하세요. : 30\n",
      "최댓값은 30입니다.\n"
     ]
    }
   ],
   "source": [
    "# 세 정수를 입력받아 최댓값 구하기\n",
    "\n",
    "print('세 정수의 최댓값을 구합니다.')\n",
    "a = int(input('정수 a의 값을 입력하세요. : '))\n",
    "b = int(input('정수 b의 값을 입력하세요. : '))\n",
    "c = int(input('정수 c의 값을 입력하세요. : '))\n",
    "\n",
    "d = a         # a의 값을 d에 저장\n",
    "if b > d :    # 만약 d보다 b가 크면\n",
    "    d = b     # d에 b값을 입력\n",
    "if c > d :    # 만약 d보다 c가 크면\n",
    "    d = c     # d에 c값을 입력\n",
    "\n",
    "print(f'최댓값은 {d}입니다.')"
   ]
  },
  {
   "cell_type": "markdown",
   "id": "be009063",
   "metadata": {},
   "source": [
    "2. 3개로 분기하는 조건문 if"
   ]
  },
  {
   "cell_type": "code",
   "execution_count": 7,
   "id": "0a1348bb",
   "metadata": {},
   "outputs": [
    {
     "name": "stdout",
     "output_type": "stream",
     "text": [
      "정수를 입력하세요.3\n",
      "C\n"
     ]
    }
   ],
   "source": [
    "# 3개로 분기하는 조건문 if\n",
    "\n",
    "n = int(input('정수를 입력하세요.'))\n",
    "\n",
    "if n == 1:        # 만약 n이 1과 같다면\n",
    "    print('A')    # A를 출력\n",
    "elif n == 2:     # 만약 n이 2와 같다면\n",
    "    print('B')    # B를 출력\n",
    "else :           # 그렇지 않으면(1, 2가 아니면)\n",
    "    print('C')   # C를 출력"
   ]
  },
  {
   "cell_type": "markdown",
   "id": "674b121b",
   "metadata": {},
   "source": [
    "3. 4개로 분기하려면 어떻게 조건문을 수정할까요?<br>\n",
    "   1 -> A, 2 -> B. 3 -> C, D"
   ]
  },
  {
   "cell_type": "code",
   "execution_count": 15,
   "id": "4925dd2d",
   "metadata": {},
   "outputs": [
    {
     "name": "stdout",
     "output_type": "stream",
     "text": [
      "정수를 입력하세요.3\n",
      "C\n"
     ]
    }
   ],
   "source": [
    "n = int(input('정수를 입력하세요.'))\n",
    "\n",
    "if n == 1:        # 만약 n이 1과 같다면\n",
    "    print('A')    # A를 출력\n",
    "elif n == 2:     # 만약 n이 2와 같다면\n",
    "    print('B')    # B를 출력\n",
    "elif n == 3:     # 만약 n이 3과 같다면\n",
    "    print('C')    # C를 출력\n",
    "else :           # 그렇지 않으면(1, 2,3이 아니면)\n",
    "    print('pass')   # pass를 출력"
   ]
  },
  {
   "cell_type": "markdown",
   "id": "255e2727",
   "metadata": {},
   "source": [
    "3. 1부터 n까지 정수의 합을 구하라"
   ]
  },
  {
   "cell_type": "code",
   "execution_count": 19,
   "id": "4f943068",
   "metadata": {},
   "outputs": [
    {
     "name": "stdout",
     "output_type": "stream",
     "text": [
      "입력 : 10\n",
      "출력 : 55\n"
     ]
    }
   ],
   "source": [
    "n = int(input('입력 : '))\n",
    "\n",
    "sum = 0\n",
    "for i in range(1, n+1) :\n",
    "    sum += i\n",
    "\n",
    "print('출력 :',sum)"
   ]
  }
 ],
 "metadata": {
  "kernelspec": {
   "display_name": "Python 3 (ipykernel)",
   "language": "python",
   "name": "python3"
  },
  "language_info": {
   "codemirror_mode": {
    "name": "ipython",
    "version": 3
   },
   "file_extension": ".py",
   "mimetype": "text/x-python",
   "name": "python",
   "nbconvert_exporter": "python",
   "pygments_lexer": "ipython3",
   "version": "3.9.7"
  }
 },
 "nbformat": 4,
 "nbformat_minor": 5
}
