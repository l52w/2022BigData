{
 "cells": [
  {
   "cell_type": "markdown",
   "id": "3436235d",
   "metadata": {},
   "source": [
    "**[27]**<br>\n",
    "년월일을 출력하는 방법은 나라마다, 형식마다 조금씩 다르다. <br>\n",
    "년월일(yyyy.mm.dd)를 입력받아, <br>\n",
    "일월년(dd-mm-yyyy)로 출력해보자.<br>\n",
    "(단, 한 자리 일/월은 0을 붙여 두자리로 출력한다."
   ]
  },
  {
   "cell_type": "code",
   "execution_count": 7,
   "id": "c967a44e",
   "metadata": {},
   "outputs": [
    {
     "name": "stdout",
     "output_type": "stream",
     "text": [
      "입력 : 2022.2.2\n",
      "출력 : 02-02-2022\n"
     ]
    }
   ],
   "source": [
    "y,m,d = input('입력 : ').split('.')\n",
    "if len(m) == 1:\n",
    "    m = '0'+m\n",
    "if len(d) == 1:\n",
    "    d = '0'+d\n",
    "print('출력 : {}-{}-{}'.format(d,m,y))"
   ]
  },
  {
   "cell_type": "code",
   "execution_count": 8,
   "id": "5236ef23",
   "metadata": {},
   "outputs": [
    {
     "name": "stdout",
     "output_type": "stream",
     "text": [
      "입력 : 2022.5.5\n",
      "출력 : 05-05-2022\n"
     ]
    }
   ],
   "source": [
    "y,m,d = input('입력 : ').split('.')\n",
    "m = '0'+m if len(m) == 1 else m\n",
    "d = '0'+d if len(d) == 1 else d\n",
    "print('출력 : {}-{}-{}'.format(d,m,y))"
   ]
  },
  {
   "cell_type": "code",
   "execution_count": 9,
   "id": "8a3c28b4",
   "metadata": {},
   "outputs": [
    {
     "name": "stdout",
     "output_type": "stream",
     "text": [
      "입력 : 2022.5.5\n",
      "출력 : 05-05-2022\n"
     ]
    }
   ],
   "source": [
    "a = input('입력 : ').split('.')\n",
    "m = '0'+m if len(m) == 1 else m\n",
    "d = '0'+d if len(d) == 1 else d\n",
    "print('출력 : {}-{}-{}'.format(d,m,y))"
   ]
  },
  {
   "cell_type": "markdown",
   "id": "3f3dd64a",
   "metadata": {},
   "source": [
    "**[26]**<br>\n",
    "입력되는 시:분:초 에서 분만 출력해보자."
   ]
  },
  {
   "cell_type": "code",
   "execution_count": 17,
   "id": "d8d7279c",
   "metadata": {},
   "outputs": [
    {
     "name": "stdout",
     "output_type": "stream",
     "text": [
      "입력 : 10:25:30\n",
      "출력 : 25분\n"
     ]
    }
   ],
   "source": [
    "b = input('입력 : ').split(':')\n",
    "print('출력 : '+b[1]+'분')"
   ]
  },
  {
   "cell_type": "code",
   "execution_count": 19,
   "id": "9161198c",
   "metadata": {},
   "outputs": [
    {
     "name": "stdout",
     "output_type": "stream",
     "text": [
      "입력 : 10:26:45\n",
      "출력 : 26분\n"
     ]
    }
   ],
   "source": [
    "a,b,c = input('입력 : ').split(':')\n",
    "print('출력 : {}분'.format(b))"
   ]
  },
  {
   "cell_type": "code",
   "execution_count": 20,
   "id": "e8df1c2a",
   "metadata": {},
   "outputs": [
    {
     "name": "stdout",
     "output_type": "stream",
     "text": [
      "입력 : 22:05:30\n",
      "출력 : 05분\n"
     ]
    }
   ],
   "source": [
    "a,b,c = input('입력 : ').split(':')\n",
    "print('출력 : {}분'.format(b))"
   ]
  },
  {
   "cell_type": "markdown",
   "id": "f8adaa77",
   "metadata": {},
   "source": [
    "**[25]**<br>\n",
    "다섯 자리의 정수 1개를 입력받아 각 자리별로 나누어 출력한다.<br>\n",
    "입력 : 75254<br>\n",
    "출력 : <br>\n",
    "[70000]<br>\n",
    "[5000]<br>\n",
    "[200]<br>\n",
    "[50]<br>\n",
    "[4]"
   ]
  },
  {
   "cell_type": "code",
   "execution_count": 51,
   "id": "20a8f128",
   "metadata": {},
   "outputs": [
    {
     "name": "stdout",
     "output_type": "stream",
     "text": [
      "입력 : 75254\n",
      "[70000]\n",
      "[5000]\n",
      "[200]\n",
      "[50]\n",
      "[4]\n"
     ]
    }
   ],
   "source": [
    "c = input('입력 : ')\n",
    "d = len(c) - 1\n",
    "for i in range(len(c)) :\n",
    "    print([int(c[i]+ '0'*d)])\n",
    "    d -= 1"
   ]
  },
  {
   "cell_type": "code",
   "execution_count": 52,
   "id": "46ecb702",
   "metadata": {},
   "outputs": [
    {
     "name": "stdout",
     "output_type": "stream",
     "text": [
      "입력 : 75254\n",
      "[70000]\n",
      "[5000]\n",
      "[200]\n",
      "[50]\n",
      "[4]\n"
     ]
    }
   ],
   "source": [
    "c = input('입력 : ')\n",
    "d = len(c) - 1\n",
    "for i in range(len(c)) :\n",
    "    print([int(c[i]+ '0'*d)])\n",
    "    d -= 1"
   ]
  }
 ],
 "metadata": {
  "kernelspec": {
   "display_name": "Python 3 (ipykernel)",
   "language": "python",
   "name": "python3"
  },
  "language_info": {
   "codemirror_mode": {
    "name": "ipython",
    "version": 3
   },
   "file_extension": ".py",
   "mimetype": "text/x-python",
   "name": "python",
   "nbconvert_exporter": "python",
   "pygments_lexer": "ipython3",
   "version": "3.9.7"
  }
 },
 "nbformat": 4,
 "nbformat_minor": 5
}
