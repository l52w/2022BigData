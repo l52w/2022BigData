{
 "cells": [
  {
   "cell_type": "markdown",
   "id": "c1d168e4",
   "metadata": {},
   "source": [
    "# 문제4\n",
    "무작위로 입력된 점수 리스트에서 70점 이상인 번호와 값 출력하기\n",
    "\n",
    "> 1. 랜덤함수 라이브러리 사용하기\n",
    "> 2. 빈리스트 선언하기\n",
    "> 3. for문을 이용해 리스트 데이터 채우기\n",
    "> 4. if문을 이용해 70점 이상 찾기\n",
    "> 5. 70점 이상 출력하기\n",
    "\n",
    "출력형태\n",
    "```\n",
    "> 랜덤 숫자 : [79,15,9,67,10,85,43,81,5,85,14,44,88,45,35,55,84,35,21,37,40,35,81,8]\n",
    "> 리스트에서 점수가 70점 이상인 번호와 값 출력<\n",
    "> 1번째 숫자 19\n",
    "> 6번째 숫자 85\n",
    "> 8번째 숫자 81\n",
    "> 6번째 숫자 85\n",
    "> 13번째 숫자 88\n",
    "> 17번째 숫자 84\n",
    "> 8번째 숫자 81\n",
    "```"
   ]
  },
  {
   "cell_type": "code",
   "execution_count": 34,
   "id": "3755e499",
   "metadata": {},
   "outputs": [
    {
     "name": "stdout",
     "output_type": "stream",
     "text": [
      "> 랜덤 숫자 : [88, 34, 17, 54, 36, 56, 94, 99, 93, 79, 41, 85, 89, 15, 6, 70, 42, 9, 41, 98, 47, 76, 79, 68, 23]\n",
      "> 리스트에서 점수가 70점 이상인 번호와 값 출력 <\n",
      "> 1번째 숫자 88\n",
      "> 7번째 숫자 94\n",
      "> 8번째 숫자 99\n",
      "> 9번째 숫자 93\n",
      "> 10번째 숫자 79\n",
      "> 12번째 숫자 85\n",
      "> 13번째 숫자 89\n",
      "> 16번째 숫자 70\n",
      "> 20번째 숫자 98\n",
      "> 22번째 숫자 76\n",
      "> 10번째 숫자 79\n"
     ]
    }
   ],
   "source": [
    "import random    # random 함수 가져오기\n",
    "score = []    # 빈 리스트 만들기\n",
    "for i in range(25) :\n",
    "    score.append(random.randint(0,100))\n",
    "print('> 랜덤 숫자 : {}'.format(score))\n",
    "print('> 리스트에서 점수가 70점 이상인 번호와 값 출력 <')\n",
    "for j in score :\n",
    "    if j >= 70 :\n",
    "        print('> {}번째 숫자 {}'.format(score.index(j)+1, j))"
   ]
  },
  {
   "cell_type": "code",
   "execution_count": 35,
   "id": "1dc2cef8",
   "metadata": {},
   "outputs": [
    {
     "name": "stdout",
     "output_type": "stream",
     "text": [
      "> 랜덤 숫자 : [22, 94, 25, 6, 40, 64, 98, 95, 25, 45, 95, 100, 83, 33, 57, 67, 46, 87, 41, 98, 34, 71, 15, 31, 62]\n",
      "> 리스트에서 점수가 70점 이상인 번호와 값 출력 <\n",
      "> 2번째 숫자 94\n",
      "> 7번째 숫자 98\n",
      "> 8번째 숫자 95\n",
      "> 8번째 숫자 95\n",
      "> 12번째 숫자 100\n",
      "> 13번째 숫자 83\n",
      "> 18번째 숫자 87\n",
      "> 7번째 숫자 98\n",
      "> 22번째 숫자 71\n"
     ]
    }
   ],
   "source": [
    "import random\n",
    "score = []\n",
    "for i in range(25) :\n",
    "    score.append(random.randint(0,100))\n",
    "print('> 랜덤 숫자 : {}'.format(score))\n",
    "print('> 리스트에서 점수가 70점 이상인 번호와 값 출력 <')\n",
    "for j in score :\n",
    "    if j >= 70 :\n",
    "        print('> {}번째 숫자 {}'.format(score.index(j)+1, j))"
   ]
  }
 ],
 "metadata": {
  "kernelspec": {
   "display_name": "Python 3 (ipykernel)",
   "language": "python",
   "name": "python3"
  },
  "language_info": {
   "codemirror_mode": {
    "name": "ipython",
    "version": 3
   },
   "file_extension": ".py",
   "mimetype": "text/x-python",
   "name": "python",
   "nbconvert_exporter": "python",
   "pygments_lexer": "ipython3",
   "version": "3.9.7"
  }
 },
 "nbformat": 4,
 "nbformat_minor": 5
}
