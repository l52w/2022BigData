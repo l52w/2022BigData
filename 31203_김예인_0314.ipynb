{
 "cells": [
  {
   "cell_type": "markdown",
   "id": "a7562cff",
   "metadata": {},
   "source": [
    "# 31203_김예인_0314"
   ]
  },
  {
   "cell_type": "code",
   "execution_count": 1,
   "id": "218392ec",
   "metadata": {},
   "outputs": [
    {
     "name": "stdout",
     "output_type": "stream",
     "text": [
      "31203\n"
     ]
    }
   ],
   "source": [
    "# 숫자출력 학번\n",
    "# print(출력할 내용)\n",
    "\n",
    "print(31203)"
   ]
  },
  {
   "cell_type": "code",
   "execution_count": 4,
   "id": "ca262de1",
   "metadata": {},
   "outputs": [
    {
     "name": "stdout",
     "output_type": "stream",
     "text": [
      "2022년 3월 14일\n"
     ]
    }
   ],
   "source": [
    "# 문자열 출력\n",
    "# 오늘날짜 출력 2022년 3월 14일\n",
    "\n",
    "print('2022년 3월 14일')"
   ]
  },
  {
   "cell_type": "code",
   "execution_count": 5,
   "id": "bcb51ced",
   "metadata": {},
   "outputs": [
    {
     "name": "stdout",
     "output_type": "stream",
     "text": [
      "성일정보고등학교\n"
     ]
    }
   ],
   "source": [
    "# 성일정보고등학교 출력\n",
    "\n",
    "print('성일정보고등학교')"
   ]
  },
  {
   "cell_type": "code",
   "execution_count": 6,
   "id": "6c46af96",
   "metadata": {},
   "outputs": [
    {
     "name": "stdout",
     "output_type": "stream",
     "text": [
      "46\n",
      "-22\n",
      "408\n",
      "0.35294117647058826\n"
     ]
    }
   ],
   "source": [
    "# 연산하여 출력하기\n",
    "\n",
    "print(12+34)\n",
    "print(12-34)\n",
    "print(12*34)\n",
    "print(12/34)"
   ]
  },
  {
   "cell_type": "code",
   "execution_count": null,
   "id": "66ae4489",
   "metadata": {},
   "outputs": [],
   "source": []
  }
 ],
 "metadata": {
  "kernelspec": {
   "display_name": "Python 3 (ipykernel)",
   "language": "python",
   "name": "python3"
  },
  "language_info": {
   "codemirror_mode": {
    "name": "ipython",
    "version": 3
   },
   "file_extension": ".py",
   "mimetype": "text/x-python",
   "name": "python",
   "nbconvert_exporter": "python",
   "pygments_lexer": "ipython3",
   "version": "3.9.7"
  }
 },
 "nbformat": 4,
 "nbformat_minor": 5
}
