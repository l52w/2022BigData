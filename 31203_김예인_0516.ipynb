{
 "cells": [
  {
   "cell_type": "markdown",
   "metadata": {
    "id": "KEuW3lsXlAvI"
   },
   "source": [
    "---\n",
    "## **1. 기초-출력**\n",
    "---\n"
   ]
  },
  {
   "cell_type": "markdown",
   "metadata": {
    "id": "FqgTYwXQhnRt"
   },
   "source": [
    "**[1]**  \n",
    "Hello  \n",
    "출력하기"
   ]
  },
  {
   "cell_type": "code",
   "execution_count": 1,
   "metadata": {
    "colab": {
     "base_uri": "https://localhost:8080/",
     "height": 34
    },
    "id": "9GpIrQSQhTyb",
    "outputId": "8b3906cc-902d-4164-a3a8-39418c5f7c4a"
   },
   "outputs": [
    {
     "name": "stdout",
     "output_type": "stream",
     "text": [
      "Hello\n"
     ]
    }
   ],
   "source": [
    "print('Hello')"
   ]
  },
  {
   "cell_type": "markdown",
   "metadata": {
    "id": "NsuBIi8Eh7V7"
   },
   "source": [
    "**[2]**  \n",
    "Hello World  \n",
    "출력하기"
   ]
  },
  {
   "cell_type": "code",
   "execution_count": 2,
   "metadata": {
    "colab": {
     "base_uri": "https://localhost:8080/",
     "height": 33
    },
    "id": "4nXAHJSHh3If",
    "outputId": "b203c3f5-7ac4-4899-cdf0-dbadfccac50c"
   },
   "outputs": [
    {
     "name": "stdout",
     "output_type": "stream",
     "text": [
      "Hello World\n"
     ]
    }
   ],
   "source": [
    "print('Hello World')"
   ]
  },
  {
   "cell_type": "code",
   "execution_count": 13,
   "metadata": {
    "colab": {
     "base_uri": "https://localhost:8080/",
     "height": 66
    },
    "id": "ivEoW8xqiXEK",
    "outputId": "6747e4a8-d8fd-44b6-a507-86a00f00e5df"
   },
   "outputs": [
    {
     "name": "stdout",
     "output_type": "stream",
     "text": [
      "Hello\n",
      "World\n",
      "Hello\n",
      "World\n"
     ]
    }
   ],
   "source": [
    "print('Hello')\n",
    "print('World')\n",
    "print('''\\\n",
    "Hello\n",
    "World''')"
   ]
  },
  {
   "cell_type": "markdown",
   "metadata": {
    "id": "8StbiDgAjMPB"
   },
   "source": [
    "**[4]**  \n",
    "'Hello'  \n",
    "(단, 작은 따옴표도 함께 출력한다.)"
   ]
  },
  {
   "cell_type": "code",
   "execution_count": 4,
   "metadata": {
    "colab": {
     "base_uri": "https://localhost:8080/",
     "height": 33
    },
    "id": "0lEfkXXPi9jE",
    "outputId": "d9cb0cac-24b0-41d2-b7f1-c6160add5203"
   },
   "outputs": [
    {
     "name": "stdout",
     "output_type": "stream",
     "text": [
      "'Hello'\n"
     ]
    }
   ],
   "source": [
    "print(\"'Hello'\")"
   ]
  },
  {
   "cell_type": "markdown",
   "metadata": {
    "id": "_lbUrk4Ojsi0"
   },
   "source": [
    "**[5]**  \n",
    "\"Hello World\"  \n",
    "(단, 큰따옴표도 함께 출력한다.)"
   ]
  },
  {
   "cell_type": "code",
   "execution_count": 5,
   "metadata": {
    "colab": {
     "base_uri": "https://localhost:8080/",
     "height": 33
    },
    "id": "1Rv9F-X4je8K",
    "outputId": "c0a94d5e-1128-4e3d-ce6a-a4ccfc924852"
   },
   "outputs": [
    {
     "name": "stdout",
     "output_type": "stream",
     "text": [
      "\"Hello World\"\n"
     ]
    }
   ],
   "source": [
    "print('\"Hello World\"')"
   ]
  },
  {
   "cell_type": "markdown",
   "metadata": {
    "id": "Th3e176XkLD2"
   },
   "source": [
    "**[6]**  \n",
    "\"!@#$%^&*()\"  \n",
    "(단, 큰따옴표도 함께 출력한다.)"
   ]
  },
  {
   "cell_type": "code",
   "execution_count": 6,
   "metadata": {
    "colab": {
     "base_uri": "https://localhost:8080/",
     "height": 33
    },
    "id": "6d9s0yLWj1Fw",
    "outputId": "634b0b23-5746-4d75-bde0-6275f65270b6"
   },
   "outputs": [
    {
     "name": "stdout",
     "output_type": "stream",
     "text": [
      "\"!@#$%^&*()\"\n"
     ]
    }
   ],
   "source": [
    "print('\"!@#$%^&*()\"')"
   ]
  },
  {
   "cell_type": "markdown",
   "metadata": {
    "id": "BHan1UsykY7z"
   },
   "source": [
    "**[7]**  \n",
    "\"C:\\Download\\hello.cpp\"  \n",
    "(단, 큰따옴표도 함께 출력한다.)"
   ]
  },
  {
   "cell_type": "code",
   "execution_count": 7,
   "metadata": {},
   "outputs": [
    {
     "name": "stdout",
     "output_type": "stream",
     "text": [
      "\"C:\\Download\\hello.cpp\"\n"
     ]
    }
   ],
   "source": [
    "print('\"C:\\Download\\hello.cpp\"')"
   ]
  },
  {
   "cell_type": "markdown",
   "metadata": {
    "id": "4Qq2ZM8yko55"
   },
   "source": [
    "**[8]**  \n",
    "┌┬┐  \n",
    "├┼┤  \n",
    "└┴┘  \n",
    "출력하기"
   ]
  },
  {
   "cell_type": "code",
   "execution_count": 14,
   "metadata": {
    "id": "_W9DbxCYLDPU"
   },
   "outputs": [
    {
     "name": "stdout",
     "output_type": "stream",
     "text": [
      "┌┬┐\n",
      "├┼┤\n",
      "└┴┘\n",
      "┌┬┐\n",
      "├┼┤\n",
      "└┴┘\n",
      "\n"
     ]
    }
   ],
   "source": [
    "print('┌┬┐')\n",
    "print('├┼┤')\n",
    "print('└┴┘')\n",
    "\n",
    "print('''\\\n",
    "┌┬┐\n",
    "├┼┤\n",
    "└┴┘\n",
    "''')"
   ]
  }
 ],
 "metadata": {
  "colab": {
   "collapsed_sections": [
    "KEuW3lsXlAvI",
    "-jtrIP03lj53",
    "Vyl4z9z9AwE4",
    "hwsiwCQxFQQw",
    "FPQrJBk9W4Jh",
    "s1IXJymFirBS",
    "9db6rqW5ZwSE",
    "xdlXE_dxeRIF",
    "YB-57bflptJv",
    "elSXiV8H51ee",
    "4BKdap6XHuxK",
    "ePavep7znzSD",
    "uPIdWVNCCFYv",
    "ocX16iOY_1_2",
    "nMaBTu95g5wF",
    "5DdcNdD-cITg",
    "h1iaQRUMhAVD",
    "MZF8GfAfhIJ6",
    "ZkPjMD-7hNdi",
    "uvdMH1I9hQH-",
    "wj2SjfuwKlLv",
    "p-pP3M7xlgv_",
    "oLtvD3QlzfQx",
    "RxJOpHYwiQx3",
    "IC4SCd6xiUTs",
    "sBFSTuAJiaUH",
    "htmM83xuicvD",
    "PSaQ9GDCih0_",
    "W2Zr-ZPdijJJ",
    "hCC2CIZ8imeU",
    "42fnnP7minyJ"
   ],
   "name": "코드업 기초 100제",
   "provenance": []
  },
  "kernelspec": {
   "display_name": "Python 3 (ipykernel)",
   "language": "python",
   "name": "python3"
  },
  "language_info": {
   "codemirror_mode": {
    "name": "ipython",
    "version": 3
   },
   "file_extension": ".py",
   "mimetype": "text/x-python",
   "name": "python",
   "nbconvert_exporter": "python",
   "pygments_lexer": "ipython3",
   "version": "3.9.7"
  }
 },
 "nbformat": 4,
 "nbformat_minor": 4
}
