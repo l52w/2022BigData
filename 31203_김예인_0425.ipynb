{
 "cells": [
  {
   "cell_type": "markdown",
   "id": "8d06cb06",
   "metadata": {},
   "source": [
    "# 31203_김예인_0425"
   ]
  },
  {
   "cell_type": "markdown",
   "id": "4eae65fa",
   "metadata": {},
   "source": [
    "### 리스트란\n",
    "리스트 : 여러개의 데이터를 묶어서 변수 하나에 담아 표현하는 데이터 타입\n",
    "\n",
    "> 형식 <br>\n",
    "리스트명 = [데이터1, 데이터2]<br>\n",
    "요소 또는 원소 : 리스트 안에 넣은 데이터<br>\n",
    "각 요소는 콤마(,)로 구분"
   ]
  },
  {
   "cell_type": "code",
   "execution_count": 1,
   "id": "0d681f35",
   "metadata": {},
   "outputs": [
    {
     "name": "stdout",
     "output_type": "stream",
     "text": [
      "<class 'list'> [1, 2, 3, 4, 5]\n"
     ]
    }
   ],
   "source": [
    "# 리스트의 데이터 타입 확인하기\n",
    "abc = [1,2,3,4,5]\n",
    "print(type(abc), abc)"
   ]
  },
  {
   "cell_type": "markdown",
   "id": "f017283f",
   "metadata": {},
   "source": [
    "### len()으로 리스트 길이 알아내기\n",
    "-. len() : 리스트 길이를 알려주는 명령어<br>\n",
    "-. 괄호 안에 길이를 알고 싶은 리스트 넣기"
   ]
  },
  {
   "cell_type": "code",
   "execution_count": 4,
   "id": "28ece246",
   "metadata": {},
   "outputs": [
    {
     "name": "stdout",
     "output_type": "stream",
     "text": [
      "5\n"
     ]
    }
   ],
   "source": [
    "print(len(abc))"
   ]
  },
  {
   "cell_type": "code",
   "execution_count": 11,
   "id": "e146462e",
   "metadata": {},
   "outputs": [
    {
     "name": "stdout",
     "output_type": "stream",
     "text": [
      "a\n",
      "b\n",
      "c\n",
      "d\n",
      "e\n",
      "------\n",
      "a\n",
      "b\n",
      "c\n",
      "d\n",
      "e\n",
      "------\n",
      "a\n"
     ]
    }
   ],
   "source": [
    "# 인덱스 : 리스트에서 요소의 위치를 알려주는 숫자\n",
    "# 인덱스는 별 조치가 없다면 무조건 0부터 시작함\n",
    "# 반복문을 통한 리스트 출력\n",
    "\n",
    "abc = ['a', 'b', 'c', 'd', 'e']\n",
    "\n",
    "for i in range(5) :\n",
    "    print(abc[i])\n",
    "print('------')\n",
    "for i in abc :\n",
    "    print(i)\n",
    "print('------')\n",
    "print(abc[0])"
   ]
  },
  {
   "cell_type": "markdown",
   "id": "8f148fc5",
   "metadata": {},
   "source": [
    "### 리스트에서 필요한 요소만 꺼내기\n",
    "\n",
    "> 리스트 슬라이싱 : 리스트에서 원하는 부분만 골라내는 것"
   ]
  },
  {
   "cell_type": "code",
   "execution_count": 18,
   "id": "cdd7d6c4",
   "metadata": {},
   "outputs": [
    {
     "name": "stdout",
     "output_type": "stream",
     "text": [
      "['피자', '치킨', '떡볶이']\n",
      "['피자', '치킨', '떡볶이']\n",
      "['라면', '햄버거']\n"
     ]
    }
   ],
   "source": [
    "# food = [] 빈 리스트 만드는 방법\n",
    "food = ['피자', '치킨', '떡볶이', '라면', '햄버거']\n",
    "\n",
    "# 피자, 치킨, 떡볶이\n",
    "print(food[0:3])\n",
    "print(food[:3]) # 0은 생략 가능\n",
    "\n",
    "# 라면, 햄버거 출력, 인버스인 인덱스 이용\n",
    "print(food[-2:])"
   ]
  },
  {
   "cell_type": "markdown",
   "id": "7398f69e",
   "metadata": {},
   "source": [
    "### split()으로 문자열 나누기\n",
    "\n",
    "-. split() : 지정한 글자를 기준으로 문자를 좌우로 나눔<br>\n",
    "-. 문자열.split()"
   ]
  },
  {
   "cell_type": "code",
   "execution_count": 22,
   "id": "64288f88",
   "metadata": {},
   "outputs": [
    {
     "name": "stdout",
     "output_type": "stream",
     "text": [
      "['나는', '성일정보', '고등학교', '학생', '입니다']\n"
     ]
    }
   ],
   "source": [
    "# 공백을 이용한 split(' ')\n",
    "a = '나는 성일정보 고등학교 학생 입니다'\n",
    "print(a.split())"
   ]
  },
  {
   "cell_type": "code",
   "execution_count": 24,
   "id": "dc168a7a",
   "metadata": {},
   "outputs": [
    {
     "name": "stdout",
     "output_type": "stream",
     "text": [
      "['2022', '04', '25']\n"
     ]
    }
   ],
   "source": [
    "# -를 이용한 split('-')\n",
    "date = '2022-04-25'\n",
    "print(date.split('-'))"
   ]
  },
  {
   "cell_type": "markdown",
   "id": "1083dd6c",
   "metadata": {},
   "source": [
    "### 다양한 리스트 명령어 사용하기\n",
    "\n",
    "-. 정렬하기 리스트명.sort()<br>\n",
    "-. 최댓값 구하기 max(리스트명)<br>\n",
    "-. 최솟값 구하기 min(리스트명)<br>\n",
    "-. 합계 구하기 sum(리스트명)<br>\n",
    "-. 인덱스 찾기 리스트명.index()<br>"
   ]
  },
  {
   "cell_type": "code",
   "execution_count": 32,
   "id": "300bd87a",
   "metadata": {},
   "outputs": [
    {
     "name": "stdout",
     "output_type": "stream",
     "text": [
      "[50, 30, 25, 40, 10]\n",
      "[10, 25, 30, 40, 50]\n",
      "50\n",
      "10\n",
      "155\n",
      "0\n"
     ]
    }
   ],
   "source": [
    "b = [50, 30, 25, 40, 10]\n",
    "print(b)\n",
    "b.sort()\n",
    "print(b)\n",
    "\n",
    "print(max(b))\n",
    "\n",
    "print(min(b))\n",
    "\n",
    "print(sum(b))\n",
    "\n",
    "print(b.index(10))"
   ]
  }
 ],
 "metadata": {
  "kernelspec": {
   "display_name": "Python 3 (ipykernel)",
   "language": "python",
   "name": "python3"
  },
  "language_info": {
   "codemirror_mode": {
    "name": "ipython",
    "version": 3
   },
   "file_extension": ".py",
   "mimetype": "text/x-python",
   "name": "python",
   "nbconvert_exporter": "python",
   "pygments_lexer": "ipython3",
   "version": "3.9.7"
  }
 },
 "nbformat": 4,
 "nbformat_minor": 5
}
