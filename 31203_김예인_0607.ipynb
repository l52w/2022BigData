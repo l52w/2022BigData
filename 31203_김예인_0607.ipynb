{
 "cells": [
  {
   "cell_type": "markdown",
   "id": "d9a89802",
   "metadata": {},
   "source": [
    "**[35]**<br>\n",
    "16진수로 입력된 정수 1개를 **8진수**로 바꾸어 출력해보자.<br>\n",
    "**Tip::**\n",
    "1. 16진수 >> 10진수 >> 8진수 순서대로 변환 (hex>>int>>oct)"
   ]
  },
  {
   "cell_type": "code",
   "execution_count": 31,
   "id": "7a6d1985",
   "metadata": {},
   "outputs": [
    {
     "name": "stdout",
     "output_type": "stream",
     "text": [
      "입력 : 10\n",
      "10진수 : 16\n",
      "8진수 : 20\n"
     ]
    }
   ],
   "source": [
    "a = '0x'+input('입력 : ')    # 16진수 입력    \n",
    "b = int(a, 16)    # 입력받은 16진수 10진수로 변환\n",
    "print('10진수 :', b)\n",
    "c = oct(b)[2:]    # 10진수를 8진수로 변환, 앞 두자리 잘라내기\n",
    "print('8진수 :', c)"
   ]
  },
  {
   "cell_type": "markdown",
   "id": "6c3ed95c",
   "metadata": {},
   "source": [
    "**[36]**<br>\n",
    "영문자 1개를 입력받아 아스키 코드표의 10진수 값으로 출력해보자.<br>\n",
    "**아스키 코드란?**\n",
    "- 문자를 2진수의 7비트로 표현한 것\n",
    "- 예 ) A => 1100001<br>\n",
    "\n",
    "**Tip::**\n",
    "1. 문자열에 대응되는 아스키코드를 반환해주는 함수 ord()를 이용하면 된다."
   ]
  },
  {
   "cell_type": "code",
   "execution_count": 49,
   "id": "a52d7eb2",
   "metadata": {},
   "outputs": [
    {
     "name": "stdout",
     "output_type": "stream",
     "text": [
      "입력 : A\n",
      "아스키코드 출력 : 65\n"
     ]
    }
   ],
   "source": [
    "d = ord(input('입력 : '))    # 입력되는 문자를 아스키코드로 변환하여 저장\n",
    "print('아스키코드 출력 :', d)"
   ]
  },
  {
   "cell_type": "markdown",
   "id": "bcb6e178",
   "metadata": {},
   "source": [
    "**[37]**<br>\n",
    "10진 정수 1개를 입력받아 아스키 문자로 출력해보자.\n",
    "1. 아스키코드를 문자열로 반환해주는 함수 chr()를 이용하면 된다."
   ]
  },
  {
   "cell_type": "code",
   "execution_count": 70,
   "id": "f14a1a58",
   "metadata": {},
   "outputs": [
    {
     "name": "stdout",
     "output_type": "stream",
     "text": [
      "입력 : 97\n",
      "아스키코드 출력 : a\n"
     ]
    }
   ],
   "source": [
    "e = chr(int(input('입력 : ')))    # 입력되는 숫자를 아스키코드로 변환하여 저장\n",
    "print('아스키코드 출력 :', e)"
   ]
  }
 ],
 "metadata": {
  "kernelspec": {
   "display_name": "Python 3 (ipykernel)",
   "language": "python",
   "name": "python3"
  },
  "language_info": {
   "codemirror_mode": {
    "name": "ipython",
    "version": 3
   },
   "file_extension": ".py",
   "mimetype": "text/x-python",
   "name": "python",
   "nbconvert_exporter": "python",
   "pygments_lexer": "ipython3",
   "version": "3.9.7"
  }
 },
 "nbformat": 4,
 "nbformat_minor": 5
}
