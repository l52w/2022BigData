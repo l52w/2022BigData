{
 "cells": [
  {
   "cell_type": "markdown",
   "id": "a769e931",
   "metadata": {},
   "source": [
    "# 31203_김예인_0324"
   ]
  },
  {
   "cell_type": "markdown",
   "id": "b00f45b2",
   "metadata": {},
   "source": [
    "무인계산기 프로그램\n",
    "\n",
    "```\n",
    "목욕탕에서 무인계산기를 설치했다.\n",
    "성인 요금은 15000원, 미성년자 요금은 6000원이다.\n",
    "나이를 입력받아 성인이면 price(요금을 저장하는 변수)에 15000을, 미성년자라면 6000을 저장하기\n",
    "```"
   ]
  },
  {
   "cell_type": "code",
   "execution_count": 5,
   "id": "bda17a28",
   "metadata": {},
   "outputs": [
    {
     "name": "stdout",
     "output_type": "stream",
     "text": [
      "나이 입력 : 20\n",
      "15000원이다.\n"
     ]
    }
   ],
   "source": [
    "price = int(input('나이 입력 : '))\n",
    "if price < 20 :\n",
    "    print('6000원이다.')\n",
    "else :\n",
    "    print('15000원이다.')"
   ]
  },
  {
   "cell_type": "code",
   "execution_count": 8,
   "id": "4e0326cc",
   "metadata": {},
   "outputs": [
    {
     "name": "stdout",
     "output_type": "stream",
     "text": [
      "나이가 어떻게 되세요? : 20\n",
      "성인이시네요  15000 원 입니다.\n"
     ]
    }
   ],
   "source": [
    "age = int(input('나이가 어떻게 되세요? : '))\n",
    "price = 6000\n",
    "\n",
    "if age >= 20 :\n",
    "    price += 9000\n",
    "    print('성인이시네요 ',price,'원 입니다.')\n",
    "else :\n",
    "    print('미성년이시네요 ',price,'원 입니다.')"
   ]
  },
  {
   "cell_type": "markdown",
   "id": "4f84a7e7",
   "metadata": {},
   "source": [
    "# 4. elif 조건문\n",
    "\n",
    "```\n",
    "if 조건 1 :\n",
    "    명령어 1\n",
    "elif 조건 2 :\n",
    "    명령어 2\n",
    "else :\n",
    "    명령어 3\n",
    "```"
   ]
  },
  {
   "cell_type": "markdown",
   "id": "adeefaab",
   "metadata": {},
   "source": [
    "최저 주문금액이 있는 새벽배송\n",
    "\n",
    "```\n",
    "- 최저 구매금액이 2만 원\n",
    "- 5만 원 미만은 배송비 2500원 추가\n",
    "- 5만 원 이상 이면 무료배송\n",
    "\n",
    "구매금액을 입력받아 조건 별로\n",
    "- '새벽배송이 불가합니다.'\n",
    "- '배송비 2500원이 추가됩니다.'\n",
    "- '무료배송됩니다.'\n",
    "중 하나를 출력하기\n",
    "```"
   ]
  },
  {
   "cell_type": "code",
   "execution_count": 20,
   "id": "45f7ebe1",
   "metadata": {},
   "outputs": [
    {
     "name": "stdout",
     "output_type": "stream",
     "text": [
      "가격 입력 : 32000\n",
      "배송비 2500원이 추가됩니다. 구매금액은 34500 원 입니다.\n"
     ]
    }
   ],
   "source": [
    "price = int(input('가격 입력 : '))\n",
    "\n",
    "if price < 20000 :\n",
    "    print('새벽배송이 불가합니다.')\n",
    "elif price < 50000 :\n",
    "    print('배송비 2500원이 추가됩니다. 구매금액은',price+2500,'원 입니다.')\n",
    "else :\n",
    "    print('무료배송됩니다. 구매금액은', price,'원 입니다.')\n",
    "          "
   ]
  },
  {
   "cell_type": "code",
   "execution_count": null,
   "id": "010ba81b",
   "metadata": {},
   "outputs": [],
   "source": []
  }
 ],
 "metadata": {
  "kernelspec": {
   "display_name": "Python 3 (ipykernel)",
   "language": "python",
   "name": "python3"
  },
  "language_info": {
   "codemirror_mode": {
    "name": "ipython",
    "version": 3
   },
   "file_extension": ".py",
   "mimetype": "text/x-python",
   "name": "python",
   "nbconvert_exporter": "python",
   "pygments_lexer": "ipython3",
   "version": "3.9.7"
  }
 },
 "nbformat": 4,
 "nbformat_minor": 5
}
