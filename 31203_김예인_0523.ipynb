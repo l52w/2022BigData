{
 "cells": [
  {
   "cell_type": "markdown",
   "id": "a312d496",
   "metadata": {},
   "source": [
    "**[10]**<br>\n",
    "정수형(int)으로 변수를 선언하고, 변수에 정수값을 저장한 후 변수에 저장되어 있는 값을 그대로 출력해보자.\n",
    "* 입력합수 이용 input <br>\n",
    "* 변수를 이용<br>\n",
    "* 정수형 int<br>"
   ]
  },
  {
   "cell_type": "code",
   "execution_count": 15,
   "id": "2e04de40",
   "metadata": {},
   "outputs": [
    {
     "name": "stdout",
     "output_type": "stream",
     "text": [
      "입력 : 11\n",
      "출력 : 11\n"
     ]
    },
    {
     "data": {
      "text/plain": [
       "int"
      ]
     },
     "execution_count": 15,
     "metadata": {},
     "output_type": "execute_result"
    }
   ],
   "source": [
    "a = int(input('입력 : '))\n",
    "print('출력 : {}'.format(a))\n",
    "type(a)"
   ]
  },
  {
   "cell_type": "markdown",
   "id": "9b073723",
   "metadata": {},
   "source": [
    "**[11]**<br>\n",
    "문자형(char)으로 변수를 하나 선언하고, 변수에 문자를 저장한 후 변수에 저장되어 있는 문자를 그대로 출력해보자.<br>\n",
    "**Tip::**\n",
    "1. input()의 반환값은 기본으로 문자열로 정의된다."
   ]
  },
  {
   "cell_type": "code",
   "execution_count": 4,
   "id": "abf0dabe",
   "metadata": {},
   "outputs": [
    {
     "name": "stdout",
     "output_type": "stream",
     "text": [
      "입력 : aa\n",
      "출력 : aa\n"
     ]
    },
    {
     "data": {
      "text/plain": [
       "str"
      ]
     },
     "execution_count": 4,
     "metadata": {},
     "output_type": "execute_result"
    }
   ],
   "source": [
    "b = input('입력 : ')\n",
    "print('출력 :', b)\n",
    "type(b)"
   ]
  },
  {
   "cell_type": "markdown",
   "id": "07f64ce0",
   "metadata": {},
   "source": [
    "**[12]**<br>\n",
    "실수형(float)로 변수를 선언하고 그 변수에 실수값을 저장한 후 저장되어 있는 실수값을 출력해보자."
   ]
  },
  {
   "cell_type": "code",
   "execution_count": 12,
   "id": "d4323131",
   "metadata": {},
   "outputs": [
    {
     "name": "stdout",
     "output_type": "stream",
     "text": [
      "입력 : 5\n",
      "출력 : 5.0\n"
     ]
    },
    {
     "data": {
      "text/plain": [
       "float"
      ]
     },
     "execution_count": 12,
     "metadata": {},
     "output_type": "execute_result"
    }
   ],
   "source": [
    "c = float(input('입력 : '))\n",
    "print('출력 :',c)\n",
    "type(c)"
   ]
  },
  {
   "cell_type": "markdown",
   "id": "387e5cda",
   "metadata": {},
   "source": [
    "**[13]**<br>\n",
    "정수(int)2개를 입력받아 그대로 출력해보자. (단, 띄어쓰기를 기준으로 입력한다.)"
   ]
  },
  {
   "cell_type": "code",
   "execution_count": 21,
   "id": "03c3b096",
   "metadata": {},
   "outputs": [
    {
     "name": "stdout",
     "output_type": "stream",
     "text": [
      "입력 : 1 5\n",
      "출력 : 1 5\n"
     ]
    },
    {
     "data": {
      "text/plain": [
       "list"
      ]
     },
     "execution_count": 21,
     "metadata": {},
     "output_type": "execute_result"
    }
   ],
   "source": [
    "d = list(map(int, input('입력 : ').split()))\n",
    "print('출력 : {} {}'.format(d[0], d[1]))\n",
    "type(d)"
   ]
  },
  {
   "cell_type": "markdown",
   "id": "f9518c07",
   "metadata": {},
   "source": [
    "**[14]**<br>\n",
    "2개의 문자(ASCII CODE)를 입력받아서 순서를 바꿔 출력해보자.<br>\n",
    "**아스키 코드란?**\n",
    "* 컴퓨터가 문자를 읽을 수 있도록 문자에 대응하는 숫자들이 존재한다.\n",
    "* 예) A => 1100001\n",
    "* 이때의 문자가 '아스키 문자'이며, 숫자가 '아스키 코드'이다."
   ]
  },
  {
   "cell_type": "code",
   "execution_count": 22,
   "id": "9e569a4f",
   "metadata": {},
   "outputs": [
    {
     "name": "stdout",
     "output_type": "stream",
     "text": [
      "입력 : a B\n",
      "출력 : B a\n"
     ]
    },
    {
     "data": {
      "text/plain": [
       "list"
      ]
     },
     "execution_count": 22,
     "metadata": {},
     "output_type": "execute_result"
    }
   ],
   "source": [
    "e = input('입력 : ').split()\n",
    "print('출력 :', e[1], e[0])\n",
    "type(e)"
   ]
  },
  {
   "cell_type": "markdown",
   "id": "a0c7ec79",
   "metadata": {},
   "source": [
    "**[15]**<br>\n",
    "실수(float) 1개를 입력받아 저장한 후, 저장되어 있는 값을 소수점 셋 째 자리에서 반올림하여 소수점 이하 둘 째 자리까지 출력하시오.<br>\n",
    "**Tip::**\n",
    "1. 반올림 함수 round()를 사용한다."
   ]
  },
  {
   "cell_type": "code",
   "execution_count": 28,
   "id": "f8a3a6fb",
   "metadata": {},
   "outputs": [
    {
     "name": "stdout",
     "output_type": "stream",
     "text": [
      "입력 : 3.14159265358972323\n",
      "출력 : 3.14\n"
     ]
    }
   ],
   "source": [
    "f = float(input('입력 : '))\n",
    "print('출력 :', round(f,2))"
   ]
  }
 ],
 "metadata": {
  "kernelspec": {
   "display_name": "Python 3 (ipykernel)",
   "language": "python",
   "name": "python3"
  },
  "language_info": {
   "codemirror_mode": {
    "name": "ipython",
    "version": 3
   },
   "file_extension": ".py",
   "mimetype": "text/x-python",
   "name": "python",
   "nbconvert_exporter": "python",
   "pygments_lexer": "ipython3",
   "version": "3.9.7"
  }
 },
 "nbformat": 4,
 "nbformat_minor": 5
}
