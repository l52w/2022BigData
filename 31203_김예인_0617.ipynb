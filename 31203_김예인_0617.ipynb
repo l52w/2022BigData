{
 "cells": [
  {
   "cell_type": "markdown",
   "id": "d40a3ec1",
   "metadata": {},
   "source": [
    "# 문제3\n",
    "월 별로 수입액 관리 프로그램\n",
    "\n",
    "> 1. 변수 선언을 정확히 실시한다.\n",
    "> 2. 반복문을 이용하여 수입액을 입력받는다.\n",
    "> 3. 수입액은 리스트에 저장을 시킨다.\n",
    "> 4. 상반기 월 수입액에 대한 안내 문구를 출력한다.\n",
    "> 5. 연산자와 변수를 이용하여 상반기 월 수입액 총합을 구한다.\n",
    "> 6. 연산자와 변수를 이용하여 상반기 월 수입액 평균을 구한다.\n",
    "> 7. 오탈자를 확인하여 데이터를 정확하게 출력한다.\n",
    "> 8. 기타 사항은 <출력형태>와 같이 출력되도록 프로그래밍을 실시한다.\n",
    "출력형태\n",
    "```\n",
    "월 별로 수입액을 입력시켜 주세요!!\n",
    "1 월의 수입액을 입력시켜 주세요 :\n",
    "200\n",
    "2 월의 수입액을 입력시켜 주세요 :\n",
    "300\n",
    "......\n",
    "11 월의 수입액을 입력시켜 주세요 :\n",
    "400\n",
    "12 월의 수입액을 입력시켜 주세요 :\n",
    "250\n",
    "상반기 월별 수입액 입니다.\n",
    "1 월: 200\n",
    "2 월: 300\n",
    "3 월: 250\n",
    "4 월: 400\n",
    "5 월: 300\n",
    "6 월: 200\n",
    "상반기 월 수입액의 총액은 1650 만원 입니다.\n",
    "상반기 월 수입액의 평균은 275 만원 입니다.\n",
    "```"
   ]
  },
  {
   "cell_type": "code",
   "execution_count": 17,
   "id": "3035b94e",
   "metadata": {},
   "outputs": [
    {
     "name": "stdout",
     "output_type": "stream",
     "text": [
      "월 별로 수입액을 입력시켜 주세요!!\n",
      "1 월의 수입액을 입력시켜 주세요 :\n",
      "1\n"
     ]
    },
    {
     "ename": "TypeError",
     "evalue": "list expected at most 1 argument, got 2",
     "output_type": "error",
     "traceback": [
      "\u001b[1;31m---------------------------------------------------------------------------\u001b[0m",
      "\u001b[1;31mTypeError\u001b[0m                                 Traceback (most recent call last)",
      "\u001b[1;32m~\\AppData\\Local\\Temp/ipykernel_9700/1575506283.py\u001b[0m in \u001b[0;36m<module>\u001b[1;34m\u001b[0m\n\u001b[0;32m      4\u001b[0m \u001b[1;32mfor\u001b[0m \u001b[0mi\u001b[0m \u001b[1;32min\u001b[0m \u001b[0mrange\u001b[0m\u001b[1;33m(\u001b[0m\u001b[1;36m1\u001b[0m\u001b[1;33m,\u001b[0m\u001b[1;36m13\u001b[0m\u001b[1;33m)\u001b[0m\u001b[1;33m:\u001b[0m\u001b[1;33m\u001b[0m\u001b[1;33m\u001b[0m\u001b[0m\n\u001b[0;32m      5\u001b[0m     \u001b[0mprint\u001b[0m\u001b[1;33m(\u001b[0m\u001b[0mi\u001b[0m\u001b[1;33m,\u001b[0m\u001b[1;34m'월의 수입액을 입력시켜 주세요 :'\u001b[0m\u001b[1;33m)\u001b[0m\u001b[1;33m\u001b[0m\u001b[1;33m\u001b[0m\u001b[0m\n\u001b[1;32m----> 6\u001b[1;33m     \u001b[0mi\u001b[0m \u001b[1;33m=\u001b[0m \u001b[0mlist\u001b[0m\u001b[1;33m(\u001b[0m\u001b[0mint\u001b[0m\u001b[1;33m,\u001b[0m\u001b[0minput\u001b[0m\u001b[1;33m(\u001b[0m\u001b[1;33m)\u001b[0m\u001b[1;33m)\u001b[0m\u001b[1;33m\u001b[0m\u001b[1;33m\u001b[0m\u001b[0m\n\u001b[0m\u001b[0;32m      7\u001b[0m     \u001b[0msum\u001b[0m \u001b[1;33m+=\u001b[0m \u001b[0mi\u001b[0m\u001b[1;33m[\u001b[0m\u001b[1;36m0\u001b[0m\u001b[1;33m,\u001b[0m\u001b[1;36m5\u001b[0m\u001b[1;33m]\u001b[0m\u001b[1;33m\u001b[0m\u001b[1;33m\u001b[0m\u001b[0m\n\u001b[0;32m      8\u001b[0m \u001b[0mprint\u001b[0m\u001b[1;33m(\u001b[0m\u001b[1;34m'상반기 월별 수입액 입니다.'\u001b[0m\u001b[1;33m)\u001b[0m\u001b[1;33m\u001b[0m\u001b[1;33m\u001b[0m\u001b[0m\n",
      "\u001b[1;31mTypeError\u001b[0m: list expected at most 1 argument, got 2"
     ]
    }
   ],
   "source": [
    "print('월 별로 수입액을 입력시켜 주세요!!')\n",
    "sum = 0\n",
    "avg = 0\n",
    "for i in range(1,13):\n",
    "    print(i,'월의 수입액을 입력시켜 주세요 :')\n",
    "    i = \n",
    "    sum += i[0,5]\n",
    "print('상반기 월별 수입액 입니다.')\n",
    "\n",
    "print('상반기 월 수입액의 총액은', sum, '만원 입니다.')\n",
    "avg = sum/6\n",
    "print('상반기 월 수입액의 평균은', int(avg), '만원 입니다.')"
   ]
  },
  {
   "cell_type": "code",
   "execution_count": 28,
   "id": "587345a9",
   "metadata": {},
   "outputs": [
    {
     "name": "stdout",
     "output_type": "stream",
     "text": [
      "1월의 수입액을 입력시켜 주세요 :1\n",
      "2월의 수입액을 입력시켜 주세요 :1\n",
      "3월의 수입액을 입력시켜 주세요 :1\n",
      "4월의 수입액을 입력시켜 주세요 :1\n",
      "5월의 수입액을 입력시켜 주세요 :1\n",
      "6월의 수입액을 입력시켜 주세요 :1\n",
      "7월의 수입액을 입력시켜 주세요 :1\n",
      "8월의 수입액을 입력시켜 주세요 :1\n",
      "9월의 수입액을 입력시켜 주세요 :1\n",
      "10월의 수입액을 입력시켜 주세요 :1\n",
      "11월의 수입액을 입력시켜 주세요 :1\n",
      "12월의 수입액을 입력시켜 주세요 :1\n",
      "상반기 월별 수입액 입니다.\n",
      "1월 : 1\n",
      "2월 : 1\n",
      "3월 : 1\n",
      "4월 : 1\n",
      "5월 : 1\n",
      "6월 : 1\n",
      "상반기 월 수입액의 총액은 6만원 입니다.\n",
      "상반기 월 수입액의 평균은 1.0만원 입니다.\n"
     ]
    }
   ],
   "source": [
    "# 빈리스트 선언\n",
    "money = []\n",
    "for i in range(0,12) :\n",
    "#     print('{}월의 수입액을 입력시켜 주세요 :'.format(i+1))\n",
    "    money.append(int(input('{}월의 수입액을 입력시켜 주세요 :'.format(i+1))))\n",
    "j = 0\n",
    "sum= 0\n",
    "print('상반기 월별 수입액 입니다.')\n",
    "while j < 6 :\n",
    "    print('{}월 : {}'.format(j+1, money[j]))\n",
    "    sum += money[j]\n",
    "    j += 1\n",
    "print('상반기 월 수입액의 총액은 {}만원 입니다.'.format(sum))\n",
    "print('상반기 월 수입액의 평균은 {}만원 입니다.'.format(sum/6))"
   ]
  },
  {
   "cell_type": "code",
   "execution_count": 30,
   "id": "8f48149d",
   "metadata": {},
   "outputs": [
    {
     "name": "stdout",
     "output_type": "stream",
     "text": [
      "1월의 수입액을 입력시켜 주세요 : 201\n",
      "2월의 수입액을 입력시켜 주세요 : 202\n",
      "3월의 수입액을 입력시켜 주세요 : 203\n",
      "4월의 수입액을 입력시켜 주세요 : 204\n",
      "5월의 수입액을 입력시켜 주세요 : 205\n",
      "6월의 수입액을 입력시켜 주세요 : 206\n",
      "7월의 수입액을 입력시켜 주세요 : 207\n",
      "8월의 수입액을 입력시켜 주세요 : 208\n",
      "9월의 수입액을 입력시켜 주세요 : 209\n",
      "10월의 수입액을 입력시켜 주세요 : 210\n",
      "11월의 수입액을 입력시켜 주세요 : 211\n",
      "12월의 수입액을 입력시켜 주세요 : 212\n",
      "상반기 월별 수입액 입니다.\n",
      "1월 : 201\n",
      "2월 : 202\n",
      "3월 : 203\n",
      "4월 : 204\n",
      "5월 : 205\n",
      "6월 : 206\n",
      "상반기 월 수입액의 총액은 1221만원 입니다.\n",
      "상반기 월 수입액의 평균은 203.5만원 입니다.\n"
     ]
    }
   ],
   "source": [
    "money = []\n",
    "for i in range(0,12) :\n",
    "    money.append(int(input('{}월의 수입액을 입력시켜 주세요 : '.format(i+1))))\n",
    "j = 0\n",
    "sum = 0\n",
    "print('상반기 월별 수입액 입니다.')\n",
    "while j < 6 :\n",
    "    print('{}월 : {}'.format(j+1, money[j]))\n",
    "    sum += money[j]\n",
    "    j += 1\n",
    "print('상반기 월 수입액의 총액은 {}만원 입니다.'.format(sum))\n",
    "print('상반기 월 수입액의 평균은 {}만원 입니다.'.format(sum/6))"
   ]
  }
 ],
 "metadata": {
  "kernelspec": {
   "display_name": "Python 3 (ipykernel)",
   "language": "python",
   "name": "python3"
  },
  "language_info": {
   "codemirror_mode": {
    "name": "ipython",
    "version": 3
   },
   "file_extension": ".py",
   "mimetype": "text/x-python",
   "name": "python",
   "nbconvert_exporter": "python",
   "pygments_lexer": "ipython3",
   "version": "3.9.7"
  }
 },
 "nbformat": 4,
 "nbformat_minor": 5
}
