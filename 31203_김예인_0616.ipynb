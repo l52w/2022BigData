{
 "cells": [
  {
   "cell_type": "markdown",
   "id": "9680bfc9",
   "metadata": {},
   "source": [
    "# 문제2\n",
    "\n",
    "구구단을 외자 게임\n",
    "> 1. 랜덤함수 사용\n",
    "> 2. 5번의 게임진행 for문 사용\n",
    "> 3. 출력 format형식 사용\n",
    "> 4. 맞추면 정답, 틀리면 틀렸어요 출력\n",
    "> 5. 맞춘횟수 틀린횟수 출력\n",
    "> 6. 면수명 잘 사용\n",
    "\n",
    "[출력예시]\n",
    "```\n",
    "문제2 : 구구단을 외자! 구구단을 외자!\n",
    "문제 : 4x6 = ?\n",
    "  답 : 5\n",
    "틀렸어요!\n",
    "문제 : 3x6 = ?\n",
    "  답 : 5\n",
    "틀렸어요!\n",
    "문제 : 2x7 = ?\n",
    "  답 : 5\n",
    "틀렸어요!\n",
    "문제 : 4x9 = ?\n",
    "  답 : 5\n",
    "틀렸어요!\n",
    "맞춘 횟수 : 0, 틀린 횟수 : 5\n",
    "```"
   ]
  },
  {
   "cell_type": "code",
   "execution_count": 16,
   "id": "61f6e3e4",
   "metadata": {},
   "outputs": [
    {
     "name": "stdout",
     "output_type": "stream",
     "text": [
      "문제2 : 구구단을 외자! 구구단을 외자!\n",
      "문제 : 2 x 5 = ?\n",
      "  답 : 5\n",
      "틀렸어요!\n",
      "문제 : 2 x 1 = ?\n",
      "  답 : 5\n",
      "틀렸어요!\n",
      "문제 : 9 x 8 = ?\n",
      "  답 : 5\n",
      "틀렸어요!\n",
      "문제 : 1 x 4 = ?\n",
      "  답 : 5\n",
      "틀렸어요!\n",
      "문제 : 2 x 1 = ?\n",
      "  답 : 5\n",
      "틀렸어요!\n",
      "맞춘 횟수 : 0 틀린 횟수 : 5\n"
     ]
    }
   ],
   "source": [
    "print('문제2 : 구구단을 외자! 구구단을 외자!')\n",
    "import random\n",
    "currect = 0;\n",
    "not_currect = 0;\n",
    "\n",
    "for i in range(5) :\n",
    "    a = random.randint(1,9)\n",
    "    b = random.randint(1,9)\n",
    "    print('문제 :', a, \"x\", b, \"= ?\")\n",
    "    c = int(input('  답 : '))\n",
    "\n",
    "    if a*b==c:\n",
    "        print('정답')\n",
    "        currect += 1\n",
    "    else:\n",
    "        print('틀렸어요!')\n",
    "        not_currect += 1\n",
    "print('맞춘 횟수 :', currect, '틀린 횟수 :', not_currect)"
   ]
  },
  {
   "cell_type": "code",
   "execution_count": 19,
   "id": "9da972c5",
   "metadata": {},
   "outputs": [
    {
     "name": "stdout",
     "output_type": "stream",
     "text": [
      "문제2 : 구구단을 외자! 구구단을 외자!\n",
      "문제 : 7x9 = ?\n",
      "  답 : 63\n",
      "정답!\n",
      "문제 : 5x2 = ?\n",
      "  답 : 10\n",
      "정답!\n",
      "문제 : 3x5 = ?\n",
      "  답 : 15\n",
      "정답!\n",
      "문제 : 9x7 = ?\n",
      "  답 : 63\n",
      "정답!\n",
      "문제 : 3x6 = ?\n",
      "  답 : 18\n",
      "정답!\n",
      "맞춘 횟수 : 5, 틀린 횟수 : 0\n"
     ]
    }
   ],
   "source": [
    "# 임의 숫자를 만들어 주는 함수\n",
    "import random\n",
    "print('문제2 : 구구단을 외자! 구구단을 외자!')\n",
    "t_cnt = 0\n",
    "f_cnt = 0\n",
    "for i in range(5):\n",
    "    aa = random.randint(2,9)\n",
    "    bb = random.randint(1,9)\n",
    "    print('문제 : {}x{} = ?'.format(aa,bb))\n",
    "    cc = int(input('  답 : '))\n",
    "    if aa*bb == cc:\n",
    "        print('정답!')\n",
    "        t_cnt += 1\n",
    "    else :\n",
    "        print('틀렸어요!')\n",
    "        f_cnt += 1\n",
    "print('맞춘 횟수 : {}, 틀린 횟수 : {}'.format(t_cnt,f_cnt))"
   ]
  },
  {
   "cell_type": "code",
   "execution_count": 20,
   "id": "a27ee57b",
   "metadata": {},
   "outputs": [
    {
     "name": "stdout",
     "output_type": "stream",
     "text": [
      "문제2 : 구구단을 외자! 구구단을 외자!\n",
      "문제 : 6 x 7 = ?\n",
      "  답 : 5\n",
      "틀렸어요!\n",
      "문제 : 3 x 7 = ?\n",
      "  답 : 5\n",
      "틀렸어요!\n",
      "문제 : 7 x 8 = ?\n",
      "  답 : 5\n",
      "틀렸어요!\n",
      "문제 : 4 x 3 = ?\n",
      "  답 : 5\n",
      "틀렸어요!\n",
      "문제 : 5 x 4 = ?\n",
      "  답 : 5\n",
      "틀렸어요!\n",
      "맞은 횟수 : 0, 틀린 횟수 : 5\n"
     ]
    }
   ],
   "source": [
    "print('문제2 : 구구단을 외자! 구구단을 외자!')\n",
    "import random\n",
    "t_cnt = 0\n",
    "f_cnt = 0\n",
    "\n",
    "for i in range(5):\n",
    "    a = random.randint(2,9)\n",
    "    b = random.randint(1,9)\n",
    "    print('문제 : {} x {} = ?'.format(a,b))\n",
    "    c = int(input('  답 : '))\n",
    "    if a*b == c:\n",
    "        print('정답!')\n",
    "        t_cnt += 1\n",
    "    else:\n",
    "        print('틀렸어요!')\n",
    "        f_cnt += 1\n",
    "print('맞은 횟수 : {}, 틀린 횟수 : {}'.format(t_cnt, f_cnt))"
   ]
  }
 ],
 "metadata": {
  "kernelspec": {
   "display_name": "Python 3 (ipykernel)",
   "language": "python",
   "name": "python3"
  },
  "language_info": {
   "codemirror_mode": {
    "name": "ipython",
    "version": 3
   },
   "file_extension": ".py",
   "mimetype": "text/x-python",
   "name": "python",
   "nbconvert_exporter": "python",
   "pygments_lexer": "ipython3",
   "version": "3.9.7"
  }
 },
 "nbformat": 4,
 "nbformat_minor": 5
}
