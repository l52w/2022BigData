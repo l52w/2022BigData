{
 "cells": [
  {
   "cell_type": "markdown",
   "id": "5b523fc1",
   "metadata": {},
   "source": [
    "# 31203_김예인_0330"
   ]
  },
  {
   "cell_type": "code",
   "execution_count": 2,
   "id": "efbd9d5f",
   "metadata": {},
   "outputs": [
    {
     "name": "stdout",
     "output_type": "stream",
     "text": [
      "4 x 1 = 4\n",
      "4 x 2 = 8\n",
      "4 x 3 = 12\n",
      "4 x 4 = 16\n",
      "4 x 5 = 20\n",
      "4 x 6 = 24\n",
      "4 x 7 = 28\n",
      "4 x 8 = 32\n",
      "4 x 9 = 36\n"
     ]
    }
   ],
   "source": [
    "# 구구단을 외자\n",
    "\n",
    "#  4단\n",
    "\n",
    "for i in range(1,10) :\n",
    "    print ('4 x',i,'=',4*i)"
   ]
  },
  {
   "cell_type": "code",
   "execution_count": 3,
   "id": "6a6bf1d1",
   "metadata": {},
   "outputs": [
    {
     "name": "stdout",
     "output_type": "stream",
     "text": [
      "몇 단을 외워 볼까요? : 4\n",
      "4 x 1 = 4\n",
      "4 x 2 = 8\n",
      "4 x 3 = 12\n",
      "4 x 4 = 16\n",
      "4 x 5 = 20\n",
      "4 x 6 = 24\n",
      "4 x 7 = 28\n",
      "4 x 8 = 32\n",
      "4 x 9 = 36\n"
     ]
    }
   ],
   "source": [
    "# input 입력을 받아서 구구단을 출력\n",
    "\n",
    "num = int(input('몇 단을 외워 볼까요? : '))\n",
    "\n",
    "for i in range(1,10) :\n",
    "    print(num,'x',i,'=',num*i)"
   ]
  },
  {
   "cell_type": "code",
   "execution_count": 9,
   "id": "b4a50973",
   "metadata": {},
   "outputs": [
    {
     "data": {
      "text/plain": [
       "9"
      ]
     },
     "execution_count": 9,
     "metadata": {},
     "output_type": "execute_result"
    }
   ],
   "source": [
    "# random 합수를 사용하려면 import합수를 이용하여 불러와야 한다.\n",
    "\n",
    "import random \n",
    "\n",
    "random.randint(1,10)"
   ]
  },
  {
   "cell_type": "markdown",
   "id": "a09c4423",
   "metadata": {},
   "source": [
    "구구단 게임 형식\n",
    "\n",
    "```\n",
    "구구단을 외자! 구구단을 외자!\n",
    "7 x 9 ? 63\n",
    "3 x 7 ? 21\n",
    "...\n",
    "```"
   ]
  },
  {
   "cell_type": "code",
   "execution_count": 18,
   "id": "29d5b4a0",
   "metadata": {},
   "outputs": [
    {
     "name": "stdout",
     "output_type": "stream",
     "text": [
      "7 x 2 = 14\n",
      "6 x 2 = 12\n",
      "7 x 6 = 42\n",
      "5 x 1 = 5\n",
      "3 x 7 = 21\n",
      "4 x 9 = 36\n",
      "7 x 2 = 14\n",
      "3 x 7 = 21\n",
      "7 x 4 = 28\n"
     ]
    }
   ],
   "source": [
    "import random\n",
    "\n",
    "for i in range(9):\n",
    "    num1 = random.randint(2,9)\n",
    "    num2 = random.randint(1,9)\n",
    "    print(num1,'x',num2,'=',num1*num2)"
   ]
  },
  {
   "cell_type": "code",
   "execution_count": null,
   "id": "c6cb7f2d",
   "metadata": {},
   "outputs": [],
   "source": []
  }
 ],
 "metadata": {
  "kernelspec": {
   "display_name": "Python 3 (ipykernel)",
   "language": "python",
   "name": "python3"
  },
  "language_info": {
   "codemirror_mode": {
    "name": "ipython",
    "version": 3
   },
   "file_extension": ".py",
   "mimetype": "text/x-python",
   "name": "python",
   "nbconvert_exporter": "python",
   "pygments_lexer": "ipython3",
   "version": "3.9.7"
  }
 },
 "nbformat": 4,
 "nbformat_minor": 5
}
