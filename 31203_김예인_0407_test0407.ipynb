{
 "cells": [
  {
   "cell_type": "markdown",
   "id": "9f90cb6e",
   "metadata": {},
   "source": [
    "# 31203_김예인_0407_test0407"
   ]
  },
  {
   "cell_type": "code",
   "execution_count": 13,
   "id": "8ee01bdf",
   "metadata": {},
   "outputs": [],
   "source": [
    "apple = 1200\n",
    "banana = 800\n",
    "kiwi = 1700"
   ]
  },
  {
   "cell_type": "code",
   "execution_count": 14,
   "id": "29e82909",
   "metadata": {},
   "outputs": [
    {
     "name": "stdout",
     "output_type": "stream",
     "text": [
      "7800\n"
     ]
    }
   ],
   "source": [
    "# 사과 3개, 바나나1개, 키위2개 구매한 가격은?\n",
    "print(apple*3 + banana*1 + kiwi*2)"
   ]
  },
  {
   "cell_type": "code",
   "execution_count": 16,
   "id": "6f85b319",
   "metadata": {},
   "outputs": [
    {
     "name": "stdout",
     "output_type": "stream",
     "text": [
      "7800\n"
     ]
    }
   ],
   "source": [
    "price = apple*3 + banana*1 + kiwi*2\n",
    "print(price)"
   ]
  },
  {
   "cell_type": "markdown",
   "id": "8e0a5dcd",
   "metadata": {},
   "source": [
    "vip는 20% 할인된다. 동일한 물건을 구매했을 때 vip가 내는 가격을 새로운 변수에 저장하여 출력하기\n",
    "\n",
    "출력예시\n",
    "> vip가 되시면 ???원을 ???원에 구매 가능합니다."
   ]
  },
  {
   "cell_type": "code",
   "execution_count": 20,
   "id": "8e4e164d",
   "metadata": {},
   "outputs": [
    {
     "name": "stdout",
     "output_type": "stream",
     "text": [
      "vip가 되시면  7800 원을 6240.0 원에 구매 가능합니다.\n"
     ]
    }
   ],
   "source": [
    "vip_price = price * 0.8\n",
    "print('vip가 되시면 ', price, '원을', vip_price, '원에 구매 가능합니다.')"
   ]
  },
  {
   "cell_type": "markdown",
   "id": "ac3383e1",
   "metadata": {},
   "source": [
    "2) 1년마다 키가 10cm씩 자라는 농구선수가 있다.\n",
    "\n",
    "* 2017년 - 175.5 cm\n",
    "* 2018년 - 185.5 cm\n",
    "* 2019년 - 195.5 cm\n",
    "* 2020년 - 205.5 cm\n",
    "\n",
    "년도별 농구선의 키를 출력해 보자"
   ]
  },
  {
   "cell_type": "code",
   "execution_count": 28,
   "id": "2e790af8",
   "metadata": {},
   "outputs": [
    {
     "name": "stdout",
     "output_type": "stream",
     "text": [
      "2017 년 - 175.5 cm\n",
      "2018 년 - 185.5 cm\n",
      "2019 년 - 195.5 cm\n",
      "2020 년 - 205.5 cm\n"
     ]
    }
   ],
   "source": [
    "year = 2017\n",
    "height = 175.5\n",
    "print(year, '년 -', height, 'cm')\n",
    "\n",
    "year += 1\n",
    "height += 10\n",
    "print(year, '년 -', height, 'cm')\n",
    "\n",
    "year += 1\n",
    "height += 10\n",
    "print(year, '년 -', height, 'cm')\n",
    "\n",
    "year += 1\n",
    "height += 10\n",
    "print(year, '년 -', height, 'cm')\n"
   ]
  }
 ],
 "metadata": {
  "kernelspec": {
   "display_name": "Python 3 (ipykernel)",
   "language": "python",
   "name": "python3"
  },
  "language_info": {
   "codemirror_mode": {
    "name": "ipython",
    "version": 3
   },
   "file_extension": ".py",
   "mimetype": "text/x-python",
   "name": "python",
   "nbconvert_exporter": "python",
   "pygments_lexer": "ipython3",
   "version": "3.9.7"
  }
 },
 "nbformat": 4,
 "nbformat_minor": 5
}
