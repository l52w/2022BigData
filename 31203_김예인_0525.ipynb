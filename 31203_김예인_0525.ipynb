{
 "cells": [
  {
   "cell_type": "markdown",
   "id": "5b8d6f3d",
   "metadata": {},
   "source": [
    "**[23]**<br>\n",
    "실수 1개를 입력받아 정수 부분과 실수 부분으로 나누어 출력한다.<br>\n",
    "입력 : <br>1.435867<br><br>\n",
    "출력 : <br>1<br>435867"
   ]
  },
  {
   "cell_type": "code",
   "execution_count": 19,
   "id": "59779341",
   "metadata": {},
   "outputs": [
    {
     "name": "stdout",
     "output_type": "stream",
     "text": [
      "입력 : 1.435867\n",
      "출력 : \n",
      "정수 : 1\n",
      "소수 : 435867\n",
      "\n"
     ]
    }
   ],
   "source": [
    "a = list(map(int, input('입력 : ').split('.')))\n",
    "print('''\\\n",
    "출력 : \n",
    "정수 : {}\n",
    "소수 : {}\n",
    "'''.format(a[0],a[1]))"
   ]
  },
  {
   "cell_type": "markdown",
   "id": "c9e306e6",
   "metadata": {},
   "source": [
    "**[24]**<br>\n",
    "단어를 1개 입력받는다.<br>\n",
    "입력받은 단어(영어)의 각 문자를 한줄에 한 문자씩 분리해 출력한다.<br>\n",
    "(단, 단어의 문자(영어)를 하나씩 나누어 한 줄에 한 개씩 ''로 묶어서 출력한다.)<br>\n",
    "입력 : 'Boy'<br>\n",
    "출력 :<br>\n",
    "'B'<br>\n",
    "'o'<br>\n",
    "'y'<br><br>\n",
    "**Tip::**\n",
    "1. str도 list와 동일하게 배열과 같은 형식으로 접근가능하다. 문자열도 리스트와 같이 iterable 객체이기 때문이다.\n",
    "- *ex) '문자열'[0]>>'문'\n",
    "2. 반복문 for()를 이용하여 문자열의 길이만큼 반복한다."
   ]
  },
  {
   "cell_type": "code",
   "execution_count": 27,
   "id": "c4cceb47",
   "metadata": {},
   "outputs": [
    {
     "name": "stdout",
     "output_type": "stream",
     "text": [
      "입력 : boy\n",
      "'b'\n",
      "'o'\n",
      "'y'\n"
     ]
    }
   ],
   "source": [
    "b = input('입력 : ')\n",
    "for i in range(len(b)) :\n",
    "    print(\"'{}'\".format(b[i]))"
   ]
  },
  {
   "cell_type": "markdown",
   "id": "11815436",
   "metadata": {},
   "source": [
    "**[25]**<br>\n",
    "다섯 자리의 정수 1개를 입력받아 각 자리별로 나누어 출력한다.<br>\n",
    "입력 : 75254<br>\n",
    "출력 : <br>\n",
    "[70000]<br>\n",
    "[5000]<br>\n",
    "[200]<br>\n",
    "[50]<br>\n",
    "[4]<br>\n",
    "<br>\n",
    "**Tip::**\n",
    "1. 문자열 연산이 가능함을 잊지말자.\n",
    "- ex) '문자'*5 >> '문자문자문자문자문자'"
   ]
  },
  {
   "cell_type": "code",
   "execution_count": 61,
   "id": "11595539",
   "metadata": {},
   "outputs": [
    {
     "name": "stdout",
     "output_type": "stream",
     "text": [
      "입력 :75254\n",
      "[70000]\n",
      "[5000]\n",
      "[200]\n",
      "[50]\n",
      "[4]\n"
     ]
    }
   ],
   "source": [
    "c = input('입력 :')\n",
    "count = len(c) - 1\n",
    "for i in range(len(c)) :\n",
    "    print([int(c[i] + '0'*count)])\n",
    "    count -= 1"
   ]
  }
 ],
 "metadata": {
  "kernelspec": {
   "display_name": "Python 3 (ipykernel)",
   "language": "python",
   "name": "python3"
  },
  "language_info": {
   "codemirror_mode": {
    "name": "ipython",
    "version": 3
   },
   "file_extension": ".py",
   "mimetype": "text/x-python",
   "name": "python",
   "nbconvert_exporter": "python",
   "pygments_lexer": "ipython3",
   "version": "3.9.7"
  }
 },
 "nbformat": 4,
 "nbformat_minor": 5
}
