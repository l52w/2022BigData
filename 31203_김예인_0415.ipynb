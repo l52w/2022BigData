{
 "cells": [
  {
   "cell_type": "markdown",
   "id": "dbc5c914",
   "metadata": {},
   "source": [
    "# 31203_김예인_0415"
   ]
  },
  {
   "cell_type": "markdown",
   "id": "9169e404",
   "metadata": {},
   "source": [
    "### 구구단 연습"
   ]
  },
  {
   "cell_type": "code",
   "execution_count": 3,
   "id": "977e7f50",
   "metadata": {},
   "outputs": [
    {
     "name": "stdout",
     "output_type": "stream",
     "text": [
      "2 x 1 = 2\n",
      "2 x 1 = 2\n"
     ]
    }
   ],
   "source": [
    "# 문제1 2x1 = 2 출력하기\n",
    "# 단, 변수 이용하기\n",
    "a = 2\n",
    "b = 1\n",
    "print(a, 'x', b, '=', a*b)\n",
    "print('%d x %d = %d' % (a,b,a*b))"
   ]
  },
  {
   "cell_type": "code",
   "execution_count": null,
   "id": "eee7c084",
   "metadata": {},
   "outputs": [],
   "source": [
    "# 문제2 구구단 세로 출력\n",
    "# 단별로 '-------' 출력\n",
    "\n",
    "for a in range(2,10):\n",
    "    for b in range(1,10):\n",
    "        print('%d x %d = %d' % (a,b,a*b))\n",
    "        if(b == 9):\n",
    "            print('----------')"
   ]
  },
  {
   "cell_type": "code",
   "execution_count": 13,
   "id": "f43ad17f",
   "metadata": {},
   "outputs": [
    {
     "name": "stdout",
     "output_type": "stream",
     "text": [
      "구구단 출력\n",
      "----[2]----\n",
      "2 x 1 = 2\n",
      "2 x 2 = 4\n",
      "2 x 3 = 6\n",
      "2 x 4 = 8\n",
      "2 x 5 = 10\n",
      "2 x 6 = 12\n",
      "2 x 7 = 14\n",
      "2 x 8 = 16\n",
      "2 x 9 = 18\n",
      "----[3]----\n",
      "3 x 1 = 3\n",
      "3 x 2 = 6\n",
      "3 x 3 = 9\n",
      "3 x 4 = 12\n",
      "3 x 5 = 15\n",
      "3 x 6 = 18\n",
      "3 x 7 = 21\n",
      "3 x 8 = 24\n",
      "3 x 9 = 27\n",
      "----[4]----\n",
      "4 x 1 = 4\n",
      "4 x 2 = 8\n",
      "4 x 3 = 12\n",
      "4 x 4 = 16\n",
      "4 x 5 = 20\n",
      "4 x 6 = 24\n",
      "4 x 7 = 28\n",
      "4 x 8 = 32\n",
      "4 x 9 = 36\n",
      "----[5]----\n",
      "5 x 1 = 5\n",
      "5 x 2 = 10\n",
      "5 x 3 = 15\n",
      "5 x 4 = 20\n",
      "5 x 5 = 25\n",
      "5 x 6 = 30\n",
      "5 x 7 = 35\n",
      "5 x 8 = 40\n",
      "5 x 9 = 45\n",
      "----[6]----\n",
      "6 x 1 = 6\n",
      "6 x 2 = 12\n",
      "6 x 3 = 18\n",
      "6 x 4 = 24\n",
      "6 x 5 = 30\n",
      "6 x 6 = 36\n",
      "6 x 7 = 42\n",
      "6 x 8 = 48\n",
      "6 x 9 = 54\n",
      "----[7]----\n",
      "7 x 1 = 7\n",
      "7 x 2 = 14\n",
      "7 x 3 = 21\n",
      "7 x 4 = 28\n",
      "7 x 5 = 35\n",
      "7 x 6 = 42\n",
      "7 x 7 = 49\n",
      "7 x 8 = 56\n",
      "7 x 9 = 63\n",
      "----[8]----\n",
      "8 x 1 = 8\n",
      "8 x 2 = 16\n",
      "8 x 3 = 24\n",
      "8 x 4 = 32\n",
      "8 x 5 = 40\n",
      "8 x 6 = 48\n",
      "8 x 7 = 56\n",
      "8 x 8 = 64\n",
      "8 x 9 = 72\n",
      "----[9]----\n",
      "9 x 1 = 9\n",
      "9 x 2 = 18\n",
      "9 x 3 = 27\n",
      "9 x 4 = 36\n",
      "9 x 5 = 45\n",
      "9 x 6 = 54\n",
      "9 x 7 = 63\n",
      "9 x 8 = 72\n",
      "9 x 9 = 81\n"
     ]
    }
   ],
   "source": [
    "# 문제3 구구단 세로출력\n",
    "# ----[2]----\n",
    "\n",
    "print('구구단 출력')\n",
    "for a in range(2,10):\n",
    "    print('----[%d]----' % a)\n",
    "    for b in range(1,10):\n",
    "        print('%d x %d = %d' % (a,b,a*b))"
   ]
  },
  {
   "cell_type": "code",
   "execution_count": null,
   "id": "b506bfd8",
   "metadata": {},
   "outputs": [],
   "source": []
  }
 ],
 "metadata": {
  "kernelspec": {
   "display_name": "Python 3 (ipykernel)",
   "language": "python",
   "name": "python3"
  },
  "language_info": {
   "codemirror_mode": {
    "name": "ipython",
    "version": 3
   },
   "file_extension": ".py",
   "mimetype": "text/x-python",
   "name": "python",
   "nbconvert_exporter": "python",
   "pygments_lexer": "ipython3",
   "version": "3.9.7"
  }
 },
 "nbformat": 4,
 "nbformat_minor": 5
}
