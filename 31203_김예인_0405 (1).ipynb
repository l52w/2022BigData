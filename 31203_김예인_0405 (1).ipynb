{
 "cells": [
  {
   "cell_type": "markdown",
   "id": "73533710",
   "metadata": {},
   "source": [
    "# 31203_김예인_0405"
   ]
  },
  {
   "cell_type": "code",
   "execution_count": 1,
   "id": "3afd2220",
   "metadata": {},
   "outputs": [
    {
     "name": "stdout",
     "output_type": "stream",
     "text": [
      "9\n",
      "6\n",
      "3\n",
      "5\n",
      "1\n",
      "2\n",
      "2\n",
      "3\n",
      "5\n",
      "9\n",
      "0\n",
      "0\n",
      "3\n",
      "8\n",
      "8\n",
      "0\n",
      "6\n",
      "8\n",
      "0\n",
      "7\n"
     ]
    }
   ],
   "source": [
    "# 1부터 10 사이 정수무작위 출력\n",
    "\n",
    "import random\n",
    "for i in range(20):\n",
    "    print(random.randint(0,10))"
   ]
  },
  {
   "cell_type": "code",
   "execution_count": 2,
   "id": "1b5b0587",
   "metadata": {},
   "outputs": [
    {
     "name": "stdout",
     "output_type": "stream",
     "text": [
      "구구단을 외자! 구구단을 외자!\n",
      "3 x 9 ? 27\n",
      "9 x 6 ? 54\n",
      "4 x 3 ? 12\n",
      "6 x 4 ? 24\n",
      "9 x 1 ? 9\n",
      "3 x 8 ? 24\n",
      "9 x 9 ? 81\n",
      "6 x 5 ? 30\n",
      "6 x 5 ? 30\n",
      "6 x 4 ? 24\n"
     ]
    }
   ],
   "source": [
    "import random\n",
    "print('구구단을 외자! 구구단을 외자!')\n",
    "for i in range(10):\n",
    "    a = random.randint(2, 9)\n",
    "    b = random.randint(1, 9)\n",
    "    print(a, 'x', b, '?', a*b)"
   ]
  },
  {
   "cell_type": "code",
   "execution_count": 17,
   "id": "6beb3561",
   "metadata": {},
   "outputs": [
    {
     "name": "stdout",
     "output_type": "stream",
     "text": [
      "구구단을 외자! 구구단을 외자!\n",
      "3 x 9 ? 27\n",
      "9 x 3 ? 27\n",
      "7 x 2 ? 14\n",
      "8 x 9 ? 72\n",
      "2 x 9 ? 18\n",
      "4 x 3 ? 12\n",
      "3 x 8 ? 24\n",
      "6 x 4 ? 24\n",
      "7 x 4 ? 28\n",
      "4 x 7 ? 28\n"
     ]
    }
   ],
   "source": [
    "import random\n",
    "print('구구단을 외자! 구구단을 외자!')\n",
    "for i in range(10):\n",
    "    a,b = random.randint(2, 9), random.randint(1,9)\n",
    "    print(a, 'x', b, '?', a*b)"
   ]
  },
  {
   "cell_type": "markdown",
   "id": "104c0ecd",
   "metadata": {},
   "source": [
    "프로그램 흐름을 보니 입력받은 답을 다시 조건문에서 사용합니다. 따라서 입력받은 답을 저장하는 변수가 하나 더 있어야 합니다. 답을 입력받는 코드를 변수 answer에 저장합니다. 조건문은 입력받은 값 answer와 실제 정답 a * b 가 다르면(같지 않으면) '틀렸습니다.'를 출력합니다. input() 명령어로 입력받은 answer의 값은 문자열로 인식되므로 정수형으로 변경하는 것도 잊지 말아야 합니다."
   ]
  },
  {
   "cell_type": "code",
   "execution_count": 28,
   "id": "01c3e19a",
   "metadata": {},
   "outputs": [
    {
     "name": "stdout",
     "output_type": "stream",
     "text": [
      "구구단을 외자! 구구단을 외자!\n",
      "6x1?6\n",
      "3x7?21\n",
      "3x6?18\n",
      "8x1?8\n",
      "6x4?24\n",
      "5x5?25\n",
      "9x1?9\n",
      "4x7?28\n",
      "9x6?54\n",
      "2x2?4\n"
     ]
    }
   ],
   "source": [
    "import random\n",
    "print('구구단을 외자! 구구단을 외자!')\n",
    "for i in range(10):\n",
    "    a, b = random.randint(2, 9), random.randint(1, 9)\n",
    "    question = str(a) + 'x' + str(b) + '?'\n",
    "    answer = input(question)\n",
    "    answer = int(answer)\n",
    "    if answer != a*b:\n",
    "        print('틀렸습니다!')"
   ]
  },
  {
   "cell_type": "code",
   "execution_count": null,
   "id": "ca1b2f81",
   "metadata": {},
   "outputs": [],
   "source": []
  }
 ],
 "metadata": {
  "kernelspec": {
   "display_name": "Python 3 (ipykernel)",
   "language": "python",
   "name": "python3"
  },
  "language_info": {
   "codemirror_mode": {
    "name": "ipython",
    "version": 3
   },
   "file_extension": ".py",
   "mimetype": "text/x-python",
   "name": "python",
   "nbconvert_exporter": "python",
   "pygments_lexer": "ipython3",
   "version": "3.9.7"
  }
 },
 "nbformat": 4,
 "nbformat_minor": 5
}
