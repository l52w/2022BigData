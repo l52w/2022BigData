{
 "cells": [
  {
   "cell_type": "markdown",
   "id": "a63d1be3",
   "metadata": {},
   "source": [
    "### 31203_김예인_0310"
   ]
  },
  {
   "cell_type": "code",
   "execution_count": 1,
   "id": "6bfd3ca0",
   "metadata": {},
   "outputs": [
    {
     "name": "stdout",
     "output_type": "stream",
     "text": [
      "안녕하세요 저는 김예인\n"
     ]
    }
   ],
   "source": [
    "print(\"안녕하세요 저는 김예인\")"
   ]
  },
  {
   "cell_type": "markdown",
   "id": "6f3484c6",
   "metadata": {},
   "source": [
    "1. 파이썬에서 +는 문자열 연결자"
   ]
  },
  {
   "cell_type": "code",
   "execution_count": 2,
   "id": "c5070150",
   "metadata": {},
   "outputs": [
    {
     "name": "stdout",
     "output_type": "stream",
     "text": [
      "안녕하세요 저는 김예인입니다.\n"
     ]
    }
   ],
   "source": [
    "a = \"안녕하세요\"\n",
    "b = \" 저는 김예인입니다.\"\n",
    "print (a+b)"
   ]
  },
  {
   "cell_type": "code",
   "execution_count": null,
   "id": "13acf624",
   "metadata": {},
   "outputs": [],
   "source": []
  }
 ],
 "metadata": {
  "kernelspec": {
   "display_name": "Python 3 (ipykernel)",
   "language": "python",
   "name": "python3"
  },
  "language_info": {
   "codemirror_mode": {
    "name": "ipython",
    "version": 3
   },
   "file_extension": ".py",
   "mimetype": "text/x-python",
   "name": "python",
   "nbconvert_exporter": "python",
   "pygments_lexer": "ipython3",
   "version": "3.9.7"
  }
 },
 "nbformat": 4,
 "nbformat_minor": 5
}
