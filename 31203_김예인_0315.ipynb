{
 "cells": [
  {
   "cell_type": "markdown",
   "id": "d25344ac",
   "metadata": {},
   "source": [
    "# 31203_김예인_0315"
   ]
  },
  {
   "cell_type": "code",
   "execution_count": 4,
   "id": "96993e35",
   "metadata": {},
   "outputs": [
    {
     "name": "stdout",
     "output_type": "stream",
     "text": [
      "46\n",
      "12+34\n"
     ]
    }
   ],
   "source": [
    "# 숫자? 문자?\n",
    "print(12+34)\n",
    "print('12+34')"
   ]
  },
  {
   "cell_type": "code",
   "execution_count": 6,
   "id": "fd0cfd64",
   "metadata": {},
   "outputs": [
    {
     "name": "stdout",
     "output_type": "stream",
     "text": [
      "25\n",
      "25\n",
      "125\n",
      "125\n"
     ]
    }
   ],
   "source": [
    "# 제곱\n",
    "# 5의 제곱\n",
    "print(5*5)\n",
    "print(5**2)\n",
    "print(5*5*5)\n",
    "print(5**3)"
   ]
  },
  {
   "cell_type": "code",
   "execution_count": 7,
   "id": "cb8df4eb",
   "metadata": {},
   "outputs": [
    {
     "name": "stdout",
     "output_type": "stream",
     "text": [
      "김예인김예인김예인김예인김예인\n"
     ]
    }
   ],
   "source": [
    "print('김예인'*5)"
   ]
  },
  {
   "cell_type": "code",
   "execution_count": 9,
   "id": "6ab3992b",
   "metadata": {},
   "outputs": [
    {
     "name": "stdout",
     "output_type": "stream",
     "text": [
      "2\n"
     ]
    }
   ],
   "source": [
    "# 몫 //\n",
    "print(5//2)"
   ]
  },
  {
   "cell_type": "code",
   "execution_count": 11,
   "id": "23b9e386",
   "metadata": {},
   "outputs": [
    {
     "name": "stdout",
     "output_type": "stream",
     "text": [
      "1\n"
     ]
    }
   ],
   "source": [
    "# 나눈 나머지 %\n",
    "print(5%2)"
   ]
  },
  {
   "cell_type": "code",
   "execution_count": 13,
   "id": "a143bafe",
   "metadata": {},
   "outputs": [
    {
     "name": "stdout",
     "output_type": "stream",
     "text": [
      "파이썬 안녕!\n"
     ]
    }
   ],
   "source": [
    "# 연결하여 출력하기\n",
    "# print(,) print(+)\n",
    "print('파이썬','안녕!')"
   ]
  },
  {
   "cell_type": "code",
   "execution_count": 14,
   "id": "b3a5f245",
   "metadata": {},
   "outputs": [
    {
     "name": "stdout",
     "output_type": "stream",
     "text": [
      "파이썬안녕!\n"
     ]
    }
   ],
   "source": [
    "print('파이썬'+'안녕!')"
   ]
  },
  {
   "cell_type": "code",
   "execution_count": 15,
   "id": "3f8c5ef3",
   "metadata": {},
   "outputs": [
    {
     "name": "stdout",
     "output_type": "stream",
     "text": [
      "파이썬 408\n"
     ]
    }
   ],
   "source": [
    "print('파이썬',12*34)"
   ]
  },
  {
   "cell_type": "code",
   "execution_count": 17,
   "id": "c2d142a2",
   "metadata": {},
   "outputs": [
    {
     "name": "stdout",
     "output_type": "stream",
     "text": [
      "파이썬12*34\n"
     ]
    }
   ],
   "source": [
    "print('파이썬'+ '12*34')"
   ]
  },
  {
   "cell_type": "code",
   "execution_count": null,
   "id": "79ab070e",
   "metadata": {},
   "outputs": [],
   "source": []
  }
 ],
 "metadata": {
  "kernelspec": {
   "display_name": "Python 3 (ipykernel)",
   "language": "python",
   "name": "python3"
  },
  "language_info": {
   "codemirror_mode": {
    "name": "ipython",
    "version": 3
   },
   "file_extension": ".py",
   "mimetype": "text/x-python",
   "name": "python",
   "nbconvert_exporter": "python",
   "pygments_lexer": "ipython3",
   "version": "3.9.7"
  }
 },
 "nbformat": 4,
 "nbformat_minor": 5
}
