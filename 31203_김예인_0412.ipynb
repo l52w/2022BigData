{
 "cells": [
  {
   "cell_type": "markdown",
   "id": "01554b46",
   "metadata": {},
   "source": [
    "# 31203_김예인_0412"
   ]
  },
  {
   "cell_type": "markdown",
   "id": "feff90c0",
   "metadata": {},
   "source": [
    "# 반복 멈추기\n",
    "\n",
    "> 파이썬에서 반복문을 멈출 때 : break 사용"
   ]
  },
  {
   "cell_type": "code",
   "execution_count": 11,
   "id": "bc9eb8e0",
   "metadata": {},
   "outputs": [
    {
     "name": "stdout",
     "output_type": "stream",
     "text": [
      "1\n"
     ]
    }
   ],
   "source": [
    "# 1~10까지 중 break를 만나면 중지\n",
    "for i in range(1,11,2):\n",
    "#     if i%2 == 1:\n",
    "    print(i)\n",
    "    break "
   ]
  },
  {
   "cell_type": "code",
   "execution_count": 14,
   "id": "86e31068",
   "metadata": {},
   "outputs": [
    {
     "name": "stdout",
     "output_type": "stream",
     "text": [
      "0\n",
      "1\n",
      "2\n"
     ]
    }
   ],
   "source": [
    "#  반복중 i가 2를 만나면 중지\n",
    "for i in range(10):\n",
    "    print(i)\n",
    "    if i == 2:\n",
    "        break"
   ]
  },
  {
   "cell_type": "code",
   "execution_count": 16,
   "id": "95e29c96",
   "metadata": {},
   "outputs": [
    {
     "name": "stdout",
     "output_type": "stream",
     "text": [
      "구구단을 외자!\n",
      "3x1=0\n",
      "땡! 정답은  3\n"
     ]
    }
   ],
   "source": [
    "# 구구단 게임 (오답을 입력하면 중지)\n",
    "\n",
    "import random\n",
    "print('구구단을 외자!')\n",
    "for i in range(10):\n",
    "    a,b = random.randint(2,9), random.randint(1,9)\n",
    "    answer = input(str(a) + 'x' + str(b) + '=')\n",
    "    answer = int(answer)\n",
    "    if answer != a*b:\n",
    "        print('땡! 정답은 ', a*b)\n",
    "        break"
   ]
  },
  {
   "cell_type": "markdown",
   "id": "6e3f667d",
   "metadata": {},
   "source": [
    "# 조건을 충족할 때 반복하는 명령문 while\n",
    "\n",
    "while 조건 : <br>\n",
    "    명령어\n",
    "```\n",
    " num = 0\n",
    " while num < 10:\n",
    "     num = int(input('숫자 입력 : '))\n",
    "```"
   ]
  },
  {
   "cell_type": "code",
   "execution_count": 18,
   "id": "87e5627e",
   "metadata": {},
   "outputs": [
    {
     "name": "stdout",
     "output_type": "stream",
     "text": [
      "숫자 입력 : 1\n",
      "숫자 입력 : 5\n",
      "숫자 입력 : 10\n"
     ]
    }
   ],
   "source": [
    "num = 0\n",
    "while num < 10:\n",
    "     num = int(input('숫자 입력 : '))"
   ]
  },
  {
   "cell_type": "code",
   "execution_count": null,
   "id": "3764a0a7",
   "metadata": {},
   "outputs": [],
   "source": []
  }
 ],
 "metadata": {
  "kernelspec": {
   "display_name": "Python 3 (ipykernel)",
   "language": "python",
   "name": "python3"
  },
  "language_info": {
   "codemirror_mode": {
    "name": "ipython",
    "version": 3
   },
   "file_extension": ".py",
   "mimetype": "text/x-python",
   "name": "python",
   "nbconvert_exporter": "python",
   "pygments_lexer": "ipython3",
   "version": "3.9.7"
  }
 },
 "nbformat": 4,
 "nbformat_minor": 5
}
