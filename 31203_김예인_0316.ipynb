{
 "cells": [
  {
   "cell_type": "markdown",
   "id": "927d2cfb",
   "metadata": {},
   "source": [
    "# 31203_김예인_0316"
   ]
  },
  {
   "cell_type": "markdown",
   "id": "8f45f065",
   "metadata": {},
   "source": [
    "# 3. 입력명령어\n",
    "### 입력명령어 형식\n",
    "> input('입력안내문')"
   ]
  },
  {
   "cell_type": "code",
   "execution_count": 2,
   "id": "4482d2ef",
   "metadata": {},
   "outputs": [
    {
     "name": "stdout",
     "output_type": "stream",
     "text": [
      "1234\n"
     ]
    },
    {
     "data": {
      "text/plain": [
       "'1234'"
      ]
     },
     "execution_count": 2,
     "metadata": {},
     "output_type": "execute_result"
    }
   ],
   "source": [
    "input()"
   ]
  },
  {
   "cell_type": "code",
   "execution_count": 4,
   "id": "c4c50220",
   "metadata": {},
   "outputs": [
    {
     "name": "stdout",
     "output_type": "stream",
     "text": [
      "생일 : 6월 11일\n"
     ]
    },
    {
     "data": {
      "text/plain": [
       "'6월 11일'"
      ]
     },
     "execution_count": 4,
     "metadata": {},
     "output_type": "execute_result"
    }
   ],
   "source": [
    "input('생일 : ')"
   ]
  },
  {
   "cell_type": "code",
   "execution_count": 1,
   "id": "f74c9d03",
   "metadata": {},
   "outputs": [
    {
     "name": "stdout",
     "output_type": "stream",
     "text": [
      "아이디 : 1234\n",
      "비밀번호 : 1234\n"
     ]
    },
    {
     "data": {
      "text/plain": [
       "'1234'"
      ]
     },
     "execution_count": 1,
     "metadata": {},
     "output_type": "execute_result"
    }
   ],
   "source": [
    "input('아이디 : ')\n",
    "input('비밀번호 : ')"
   ]
  },
  {
   "cell_type": "code",
   "execution_count": 2,
   "id": "3c174dd7",
   "metadata": {},
   "outputs": [
    {
     "name": "stdout",
     "output_type": "stream",
     "text": [
      "--- 3-12 회원가입 ---\n",
      "아이디 : 1234\n",
      "3-12 가입을 환영합니다.\n"
     ]
    }
   ],
   "source": [
    "print('--- 3-12 회원가입 ---')\n",
    "input('아이디 : ')\n",
    "print('3-12 가입을 환영합니다.')"
   ]
  },
  {
   "cell_type": "markdown",
   "id": "33d257af",
   "metadata": {},
   "source": [
    "# 4. 변수\n",
    "\n",
    "> 변수 "
   ]
  },
  {
   "cell_type": "code",
   "execution_count": 3,
   "id": "d841c333",
   "metadata": {},
   "outputs": [
    {
     "name": "stdout",
     "output_type": "stream",
     "text": [
      "김예인\n",
      "김예인\n"
     ]
    }
   ],
   "source": [
    "a = '김예인'\n",
    "print('김예인')\n",
    "print(a)"
   ]
  },
  {
   "cell_type": "code",
   "execution_count": 4,
   "id": "3a58b346",
   "metadata": {},
   "outputs": [
    {
     "name": "stdout",
     "output_type": "stream",
     "text": [
      "김예인\n"
     ]
    }
   ],
   "source": [
    "print(a)"
   ]
  },
  {
   "cell_type": "code",
   "execution_count": 5,
   "id": "05afccdc",
   "metadata": {},
   "outputs": [
    {
     "name": "stdout",
     "output_type": "stream",
     "text": [
      "성일정보고교\n"
     ]
    }
   ],
   "source": [
    "b = '성일'\n",
    "c = '정보'\n",
    "d = '고교'\n",
    "print(b+c+d)"
   ]
  },
  {
   "cell_type": "markdown",
   "id": "6bd34d94",
   "metadata": {},
   "source": [
    "### 변수를 활용하여 연산하기\n",
    "1) 과일 가격 계산하기"
   ]
  },
  {
   "cell_type": "code",
   "execution_count": 6,
   "id": "25a15b60",
   "metadata": {},
   "outputs": [],
   "source": [
    "apple = 1200\n",
    "banana = 800\n",
    "kiwi = 1700"
   ]
  },
  {
   "cell_type": "code",
   "execution_count": 9,
   "id": "84efe61c",
   "metadata": {},
   "outputs": [
    {
     "data": {
      "text/plain": [
       "7800"
      ]
     },
     "execution_count": 9,
     "metadata": {},
     "output_type": "execute_result"
    }
   ],
   "source": [
    "# 문제. 사과3개 바나나1개 키위2개 구매 가격은?\n",
    "apple*3 + banana*1 + kiwi*2"
   ]
  },
  {
   "cell_type": "code",
   "execution_count": 10,
   "id": "4a98e036",
   "metadata": {},
   "outputs": [
    {
     "name": "stdout",
     "output_type": "stream",
     "text": [
      "7800\n"
     ]
    }
   ],
   "source": [
    "price = apple*3 + banana*1 + kiwi*2\n",
    "print(price)"
   ]
  }
 ],
 "metadata": {
  "kernelspec": {
   "display_name": "Python 3 (ipykernel)",
   "language": "python",
   "name": "python3"
  },
  "language_info": {
   "codemirror_mode": {
    "name": "ipython",
    "version": 3
   },
   "file_extension": ".py",
   "mimetype": "text/x-python",
   "name": "python",
   "nbconvert_exporter": "python",
   "pygments_lexer": "ipython3",
   "version": "3.9.7"
  }
 },
 "nbformat": 4,
 "nbformat_minor": 5
}
