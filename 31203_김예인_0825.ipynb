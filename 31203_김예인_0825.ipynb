{
 "cells": [
  {
   "cell_type": "markdown",
   "id": "7dfe2cb4",
   "metadata": {},
   "source": [
    "문제1. a부터 b까지 정수의 합을 구하여라"
   ]
  },
  {
   "cell_type": "code",
   "execution_count": 12,
   "id": "19f6328e",
   "metadata": {},
   "outputs": [
    {
     "name": "stdout",
     "output_type": "stream",
     "text": [
      "입력 : 10 1\n",
      "1부터 10까지의 합은 55입니다.\n"
     ]
    }
   ],
   "source": [
    "a,b = input('입력 : ').split()\n",
    "a=int(a)\n",
    "b=int(b)\n",
    "if a>b :\n",
    "    a,b=b,a    # a와 b를 오름차순으로 정렬\n",
    "\n",
    "sum=0\n",
    "for i in range(a,b+1):\n",
    "    sum += i\n",
    "\n",
    "print(f'{a}부터 {b}까지의 합은 {sum}입니다.')"
   ]
  },
  {
   "cell_type": "code",
   "execution_count": 16,
   "id": "ad236683",
   "metadata": {},
   "outputs": [
    {
     "name": "stdout",
     "output_type": "stream",
     "text": [
      "a 값 입력 :20\n",
      "b 값 입력 :10\n",
      "10 +11 +12 +13 +14 +15 +16 +17 +18 +19 +20 = 165\n"
     ]
    }
   ],
   "source": [
    "a = int(input('a 값 입력 :'))\n",
    "b = int(input('b 값 입력 :'))\n",
    "\n",
    "if a > b :\n",
    "    a , b = b, a\n",
    "\n",
    "sum = 0\n",
    "for i in range(a, b):\n",
    "    print(f'{i} +' , end='')\n",
    "    sum += i\n",
    "\n",
    "print(f'{b} = ', end='')\n",
    "sum += b\n",
    "print(sum)"
   ]
  },
  {
   "cell_type": "code",
   "execution_count": 20,
   "id": "d48db777",
   "metadata": {},
   "outputs": [
    {
     "name": "stdout",
     "output_type": "stream",
     "text": [
      "정수 a 입력 : 20\n",
      "정수 b 입력 : 10\n",
      "10 +11 +12 +13 +14 +15 +16 +17 +18 +19 +20 =165\n"
     ]
    }
   ],
   "source": [
    "a = int(input('정수 a 입력 : '))\n",
    "b = int(input('정수 b 입력 : '))\n",
    "\n",
    "if a > b:\n",
    "    a, b = b, a\n",
    "\n",
    "sum = 0\n",
    "for i in range(a, b+1) :\n",
    "    if i < b :\n",
    "        print(f'{i} +', end = '')\n",
    "    else :\n",
    "        print(f'{i} =', end = '')\n",
    "    sum += i\n",
    "print(sum)"
   ]
  }
 ],
 "metadata": {
  "kernelspec": {
   "display_name": "Python 3 (ipykernel)",
   "language": "python",
   "name": "python3"
  },
  "language_info": {
   "codemirror_mode": {
    "name": "ipython",
    "version": 3
   },
   "file_extension": ".py",
   "mimetype": "text/x-python",
   "name": "python",
   "nbconvert_exporter": "python",
   "pygments_lexer": "ipython3",
   "version": "3.9.7"
  }
 },
 "nbformat": 4,
 "nbformat_minor": 5
}
