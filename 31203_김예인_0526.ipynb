{
 "cells": [
  {
   "cell_type": "markdown",
   "id": "d1b82e70",
   "metadata": {},
   "source": [
    "**[24]**<br>\n",
    "단어를 1개 입력받는다.<br>\n",
    "입력받은 단어(영어)의 각 문자를 한줄에 한 문자씩 분리해 출력한다.<br>\n",
    "(단, 단어의 문자(영어)를 하나씩 나누어 한 줄에 한 개씩 ''로 묶어서 출력한다.)<br><br>\n",
    "입력 : <br>\n",
    "'Boy'<br>\n",
    "출력 :<br>\n",
    "'B'<br>\n",
    "'o'<br>\n",
    "'y'"
   ]
  },
  {
   "cell_type": "code",
   "execution_count": 17,
   "id": "9027905f",
   "metadata": {},
   "outputs": [
    {
     "name": "stdout",
     "output_type": "stream",
     "text": [
      "입력 : sungil\n",
      "'s'\n",
      "'u'\n",
      "'n'\n",
      "'g'\n",
      "'i'\n",
      "'l'\n"
     ]
    }
   ],
   "source": [
    "a = input('입력 : ')\n",
    "count = len(a)\n",
    "for i in range(count) :\n",
    "    print(\"'{}'\".format(a[i]))"
   ]
  },
  {
   "cell_type": "code",
   "execution_count": 18,
   "id": "c0137265",
   "metadata": {},
   "outputs": [
    {
     "name": "stdout",
     "output_type": "stream",
     "text": [
      "입력 : sungil\n",
      "'s'\n",
      "'u'\n",
      "'n'\n",
      "'g'\n",
      "'i'\n",
      "'l'\n"
     ]
    }
   ],
   "source": [
    "a = input('입력 : ')\n",
    "for i in range(len(a)) :\n",
    "    print(\"'{}'\".format(a[i]))"
   ]
  },
  {
   "cell_type": "markdown",
   "id": "0cb96e1c",
   "metadata": {},
   "source": [
    "**[25]**<br>\n",
    "다섯 자리의 정수 1개를 입력받아 각 자리별로 나누어 출력한다.<br>\n",
    "입력 : 75254<br>\n",
    "출력 : <br>\n",
    "[70000]<br>\n",
    "[5000]<br>\n",
    "[200]<br>\n",
    "[50]<br>\n",
    "[4]"
   ]
  },
  {
   "cell_type": "code",
   "execution_count": 38,
   "id": "8c6b1888",
   "metadata": {},
   "outputs": [
    {
     "name": "stdout",
     "output_type": "stream",
     "text": [
      "입력 : 75254\n",
      "출력 :\n",
      "[70000]\n",
      "[5000]\n",
      "[200]\n",
      "[50]\n",
      "[4]\n"
     ]
    }
   ],
   "source": [
    "b = input('입력 : ')\n",
    "count = len(b)-1\n",
    "print('출력 :')\n",
    "for i in range(len(b)):\n",
    "    print([int(b[i] + '0'*count)])\n",
    "    count -= 1"
   ]
  },
  {
   "cell_type": "markdown",
   "id": "04a57dfa",
   "metadata": {},
   "source": [
    "**[26]**<br>\n",
    "입력되는 시:분:초 에서 분만 출력해보자."
   ]
  },
  {
   "cell_type": "code",
   "execution_count": 40,
   "id": "f6540e13",
   "metadata": {},
   "outputs": [
    {
     "name": "stdout",
     "output_type": "stream",
     "text": [
      "입력 : 16:20:00\n",
      "출력 : 20\n"
     ]
    }
   ],
   "source": [
    "c = input('입력 : ').split(':')\n",
    "print('출력 :', c[1])"
   ]
  },
  {
   "cell_type": "code",
   "execution_count": 41,
   "id": "8e091997",
   "metadata": {},
   "outputs": [
    {
     "name": "stdout",
     "output_type": "stream",
     "text": [
      "입력 : 16:22:30\n",
      "출력 : 22\n"
     ]
    }
   ],
   "source": [
    "h,m,s = input('입력 : ').split(':')\n",
    "print('출력 : {}'.format(m))"
   ]
  },
  {
   "cell_type": "markdown",
   "id": "fcf1dca0",
   "metadata": {},
   "source": [
    "**[27]**<br>\n",
    "년월일을 출력하는 방법은 나라마다, 형식마다 조금씩 다르다.<br>\n",
    "년월일(yyyy.mm.dd)를 입력받아,<br>\n",
    "일월년(dd-mm-yyyy)로 출력해보자.<br>\n",
    "(단, 한 자리 일/월은 0을 붙여 두자리로 출력한다.)"
   ]
  },
  {
   "cell_type": "code",
   "execution_count": 48,
   "id": "257810a9",
   "metadata": {},
   "outputs": [
    {
     "name": "stdout",
     "output_type": "stream",
     "text": [
      "입력 : 2022.5.5\n",
      "출력 : 2022-05-05\n"
     ]
    }
   ],
   "source": [
    "y, m, d = input('입력 : ').split('.')\n",
    "m = '0'+m if len(m) == 1 else m\n",
    "d = '0'+d if len(d) == 1 else d\n",
    "print('출력 : {}-{}-{}'.format(y,m,d))"
   ]
  }
 ],
 "metadata": {
  "kernelspec": {
   "display_name": "Python 3 (ipykernel)",
   "language": "python",
   "name": "python3"
  },
  "language_info": {
   "codemirror_mode": {
    "name": "ipython",
    "version": 3
   },
   "file_extension": ".py",
   "mimetype": "text/x-python",
   "name": "python",
   "nbconvert_exporter": "python",
   "pygments_lexer": "ipython3",
   "version": "3.9.7"
  }
 },
 "nbformat": 4,
 "nbformat_minor": 5
}
