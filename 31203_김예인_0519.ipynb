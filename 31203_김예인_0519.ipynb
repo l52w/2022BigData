{
 "cells": [
  {
   "cell_type": "markdown",
   "metadata": {
    "id": "-jtrIP03lj53"
   },
   "source": [
    "---\n",
    "## **2. 기초-입출력**\n",
    "---\n"
   ]
  },
  {
   "cell_type": "markdown",
   "metadata": {
    "id": "KmY2624hln4M"
   },
   "source": [
    "**[10]**  \n",
    "정수형(int)으로 변수를 선언하고, 변수에 정수값을 저장한 후\n",
    "변수에 저장되어 있는 값을 그대로 출력해보자.<br>\n",
    "- 입력함수 이용 input\n",
    "- 변수를 이용\n",
    "- 정수형 int"
   ]
  },
  {
   "cell_type": "code",
   "execution_count": 4,
   "metadata": {
    "colab": {
     "base_uri": "https://localhost:8080/",
     "height": 50
    },
    "id": "K0qWFX5wkxBM",
    "outputId": "b6178068-3ba5-47c3-e846-dc114505cfc2"
   },
   "outputs": [
    {
     "name": "stdout",
     "output_type": "stream",
     "text": [
      "입력 : 11\n",
      "출력 : 11\n"
     ]
    }
   ],
   "source": [
    "a = int(input('입력 : '))\n",
    "print('출력 :',a)"
   ]
  },
  {
   "cell_type": "markdown",
   "metadata": {
    "id": "eJPgRQfKmjp8"
   },
   "source": [
    "**[11]**  \n",
    "문자형(char)으로 변수를 하나 선언하고, 변수에 문자를 저장한 후\n",
    "변수에 저장되어 있는 문자를 그대로 출력해보자.  \n",
    "\n",
    "**Tip::**  \n",
    "1. input()의 반환값은 기본으로 문자열로 정의된다."
   ]
  },
  {
   "cell_type": "code",
   "execution_count": 6,
   "metadata": {
    "colab": {
     "base_uri": "https://localhost:8080/",
     "height": 50
    },
    "id": "Om3ypjr7mUUU",
    "outputId": "c76facea-fca6-4559-f5d0-9aa2092377ba"
   },
   "outputs": [
    {
     "name": "stdout",
     "output_type": "stream",
     "text": [
      "입력 : aa\n",
      "출력 : aa\n"
     ]
    }
   ],
   "source": [
    "b = input('입력 : ')\n",
    "print('출력 :', b)"
   ]
  },
  {
   "cell_type": "markdown",
   "metadata": {
    "id": "UYLGuS0Em-8S"
   },
   "source": [
    "**[12]**  \n",
    "실수형(float)로 변수를 선언하고 그 변수에 실수값을 저장한 후\n",
    "저장되어 있는 실수값을 출력해보자."
   ]
  },
  {
   "cell_type": "code",
   "execution_count": 11,
   "metadata": {},
   "outputs": [
    {
     "name": "stdout",
     "output_type": "stream",
     "text": [
      "입력 : 5\n",
      "출력 : 5.0\n"
     ]
    },
    {
     "data": {
      "text/plain": [
       "float"
      ]
     },
     "execution_count": 11,
     "metadata": {},
     "output_type": "execute_result"
    }
   ],
   "source": [
    "c = float(input('입력 : '))\n",
    "print('출력 :', c)\n",
    "type(c)"
   ]
  },
  {
   "cell_type": "markdown",
   "metadata": {
    "id": "JzaL0x9end7X"
   },
   "source": [
    "**[13]**  \n",
    "정수(int) 2개를 입력받아 그대로 출력해보자.\n",
    "(단, 띄어쓰기를 기준으로 입력한다.)  \n",
    "입력 : 1 5  \n",
    "출력 : 1 5"
   ]
  },
  {
   "cell_type": "code",
   "execution_count": 36,
   "metadata": {},
   "outputs": [
    {
     "name": "stdout",
     "output_type": "stream",
     "text": [
      "입력 : 10 20\n",
      "출력 : 10 20\n"
     ]
    },
    {
     "data": {
      "text/plain": [
       "list"
      ]
     },
     "execution_count": 36,
     "metadata": {},
     "output_type": "execute_result"
    }
   ],
   "source": [
    "d = list(map(int, input('입력 : ').split()))\n",
    "print('출력 :', d[0], d[1])\n",
    "type(d)"
   ]
  },
  {
   "cell_type": "markdown",
   "metadata": {
    "id": "GzzjHYY-oQf0"
   },
   "source": [
    "**[14]**  \n",
    "2개의 문자(ASCII CODE)를 입력받아서 순서를 바꿔 출력해보자.\n",
    "\n",
    "**아스키 코드란?**\n",
    "- 컴퓨터가 문자를 읽을 수 있도록 문자에 대응하는 숫자들이 존재한다.\n",
    "- 예 ) A => 1100001\n",
    "- 이때의 문자가 '아스키 문자'이며, 숫자가 '아스키 코드'이다."
   ]
  },
  {
   "cell_type": "code",
   "execution_count": 21,
   "metadata": {
    "colab": {
     "base_uri": "https://localhost:8080/",
     "height": 50
    },
    "id": "j8DAXCugn_28",
    "outputId": "daae7e2b-7dc8-48f2-9c6d-d7cb8c3b3c85"
   },
   "outputs": [
    {
     "name": "stdout",
     "output_type": "stream",
     "text": [
      "입력 : a B\n",
      "출력 : B a\n"
     ]
    },
    {
     "data": {
      "text/plain": [
       "list"
      ]
     },
     "execution_count": 21,
     "metadata": {},
     "output_type": "execute_result"
    }
   ],
   "source": [
    "e = input('입력 : ').split()\n",
    "print('출력 :', e[1], e[0])\n",
    "type(e)"
   ]
  },
  {
   "cell_type": "markdown",
   "metadata": {
    "id": "MEiMpF7_qoZB"
   },
   "source": [
    "**[15]**  \n",
    "실수(float) 1개를 입력받아 저장한 후,\n",
    "저장되어 있는 값을 소수점 셋 째 자리에서 반올림하여\n",
    "소수점 이하 둘 째 자리까지 출력하시오.  \n",
    "\n",
    "**Tip::**  \n",
    "1. 반올림 함수 round()를 이용하면 된다."
   ]
  },
  {
   "cell_type": "code",
   "execution_count": 38,
   "metadata": {
    "colab": {
     "base_uri": "https://localhost:8080/",
     "height": 50
    },
    "id": "Ytc63MLkqTph",
    "outputId": "eb62fc5d-0e29-4f0e-ba7f-939885a008bd"
   },
   "outputs": [
    {
     "name": "stdout",
     "output_type": "stream",
     "text": [
      "입력 : 3.141592\n",
      "출력 : 3.14\n"
     ]
    }
   ],
   "source": [
    "f = float(input('입력 : '))\n",
    "print('출력 :', round(f , 2))"
   ]
  },
  {
   "cell_type": "markdown",
   "metadata": {
    "id": "GUFlZrFDvaWa"
   },
   "source": [
    "**[16]**  \n",
    "int형 정수 1개를 입력받아 공백을 사이에 두고 3번 출력해보자."
   ]
  },
  {
   "cell_type": "code",
   "execution_count": 29,
   "metadata": {
    "colab": {
     "base_uri": "https://localhost:8080/",
     "height": 50
    },
    "id": "tmSF6UjVuHGo",
    "outputId": "a7e51e0f-8769-4716-bd20-ac6b7e91ff92"
   },
   "outputs": [
    {
     "name": "stdout",
     "output_type": "stream",
     "text": [
      "입력 : 55\n",
      "출력 : 55 55 55\n"
     ]
    }
   ],
   "source": [
    "g = int(input('입력 : '))\n",
    "print('출력 :',g,g,g)"
   ]
  },
  {
   "cell_type": "markdown",
   "metadata": {
    "id": "Lun8at8fv5qq"
   },
   "source": [
    "**[17]**  \n",
    "어떤 형식에 맞추어 시간이 입력될 때, 그대로 출력하는 연습을 해보자.  \n",
    "콜론(:) 기호를 기준으로 두 수가 각 변수에 저장된다.  \n",
    "\n",
    "입력 : 3:15  \n",
    "출력 : 3:15  \n",
    "\n",
    "**Tip::**  \n",
    "1. split()의 매개변수로 문자열을 분할하기 위한 기준을 정의할 수 있다.\n",
    "2. 문자열의 메소드(함수)인 format()을 이용하면 문자열 내부에 변수값을 대입할 수 있다."
   ]
  },
  {
   "cell_type": "code",
   "execution_count": 35,
   "metadata": {
    "colab": {
     "base_uri": "https://localhost:8080/",
     "height": 50
    },
    "id": "FQN0gYyPvlKj",
    "outputId": "1bce814f-ac18-4c48-8eae-7ba5e360f630"
   },
   "outputs": [
    {
     "name": "stdout",
     "output_type": "stream",
     "text": [
      "입력 : 3 : 15\n",
      "출력 : 3 : 15\n"
     ]
    }
   ],
   "source": [
    "h,m = input('입력 : ').split(':')\n",
    "print('출력 :', '{}:{}'.format(h,m))"
   ]
  }
 ],
 "metadata": {
  "colab": {
   "collapsed_sections": [
    "KEuW3lsXlAvI",
    "-jtrIP03lj53",
    "Vyl4z9z9AwE4",
    "hwsiwCQxFQQw",
    "FPQrJBk9W4Jh",
    "s1IXJymFirBS",
    "9db6rqW5ZwSE",
    "xdlXE_dxeRIF",
    "YB-57bflptJv",
    "elSXiV8H51ee",
    "4BKdap6XHuxK",
    "ePavep7znzSD",
    "uPIdWVNCCFYv",
    "ocX16iOY_1_2",
    "nMaBTu95g5wF",
    "5DdcNdD-cITg",
    "h1iaQRUMhAVD",
    "MZF8GfAfhIJ6",
    "ZkPjMD-7hNdi",
    "uvdMH1I9hQH-",
    "wj2SjfuwKlLv",
    "p-pP3M7xlgv_",
    "oLtvD3QlzfQx",
    "RxJOpHYwiQx3",
    "IC4SCd6xiUTs",
    "sBFSTuAJiaUH",
    "htmM83xuicvD",
    "PSaQ9GDCih0_",
    "W2Zr-ZPdijJJ",
    "hCC2CIZ8imeU",
    "42fnnP7minyJ"
   ],
   "name": "코드업 기초 100제",
   "provenance": []
  },
  "kernelspec": {
   "display_name": "Python 3 (ipykernel)",
   "language": "python",
   "name": "python3"
  },
  "language_info": {
   "codemirror_mode": {
    "name": "ipython",
    "version": 3
   },
   "file_extension": ".py",
   "mimetype": "text/x-python",
   "name": "python",
   "nbconvert_exporter": "python",
   "pygments_lexer": "ipython3",
   "version": "3.9.7"
  }
 },
 "nbformat": 4,
 "nbformat_minor": 4
}
