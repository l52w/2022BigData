{
 "cells": [
  {
   "cell_type": "markdown",
   "id": "608aa06b",
   "metadata": {},
   "source": [
    "# 31203_김예인_0503"
   ]
  },
  {
   "cell_type": "code",
   "execution_count": 2,
   "id": "461f179b",
   "metadata": {},
   "outputs": [],
   "source": [
    "data = [\n",
    "    [1,'미국',46,37,38,121],\n",
    "    [2,'영국',27,23,17,67],\n",
    "    [3,'중국',26,18,26,70],\n",
    "    [4,'러시아',19,18,19,56],\n",
    "    [5,'독일',17,10,15,42],\n",
    "    [6,'일본',12,8,21,41],\n",
    "    [7,'프랑스',10,18,14,42],\n",
    "    [8,'대한민국',9,3,9,21]\n",
    "]"
   ]
  },
  {
   "cell_type": "code",
   "execution_count": 3,
   "id": "c30a1b78",
   "metadata": {},
   "outputs": [
    {
     "name": "stdout",
     "output_type": "stream",
     "text": [
      "미국\n",
      "영국\n",
      "중국\n",
      "러시아\n",
      "독일\n",
      "일본\n",
      "프랑스\n",
      "대한민국\n"
     ]
    }
   ],
   "source": [
    "# 순위권에 든 모든 국가 이름 출력\n",
    "\n",
    "for i in data :\n",
    "    print(i[1])"
   ]
  },
  {
   "cell_type": "code",
   "execution_count": 4,
   "id": "94f0605f",
   "metadata": {},
   "outputs": [
    {
     "name": "stdout",
     "output_type": "stream",
     "text": [
      "프랑스 금메달- 10 은메달- 18\n"
     ]
    }
   ],
   "source": [
    "# 금메달보다 은메달 개수가 많은 나라 출력\n",
    "\n",
    "for i in data :\n",
    "    if i[2] < i[3] :\n",
    "        print(i[1], '금메달-', i[2], '은메달-', i[3])"
   ]
  },
  {
   "cell_type": "code",
   "execution_count": 6,
   "id": "dc1ac9c1",
   "metadata": {},
   "outputs": [
    {
     "name": "stdout",
     "output_type": "stream",
     "text": [
      "일본 금메달- 12 동메달- 21\n",
      "프랑스 금메달- 10 동메달- 14\n"
     ]
    }
   ],
   "source": [
    "# 금메달보다 동메달 개수가 많은 나라 출력\n",
    "\n",
    "for i in data :\n",
    "    if i[2] < i[4] :\n",
    "        print(i[1], '금메달-', i[2], '동메달-',\n",
    "              i[4])"
   ]
  },
  {
   "cell_type": "code",
   "execution_count": 7,
   "id": "b9fd7ccb",
   "metadata": {},
   "outputs": [
    {
     "name": "stdout",
     "output_type": "stream",
     "text": [
      "총 금메달 개수는 166\n"
     ]
    }
   ],
   "source": [
    "# 모든 나라 금메달 합\n",
    "\n",
    "gold = 0\n",
    "\n",
    "for i in data :\n",
    "    gold += i[2]\n",
    "print('총 금메달 개수는', gold)"
   ]
  }
 ],
 "metadata": {
  "kernelspec": {
   "display_name": "Python 3 (ipykernel)",
   "language": "python",
   "name": "python3"
  },
  "language_info": {
   "codemirror_mode": {
    "name": "ipython",
    "version": 3
   },
   "file_extension": ".py",
   "mimetype": "text/x-python",
   "name": "python",
   "nbconvert_exporter": "python",
   "pygments_lexer": "ipython3",
   "version": "3.9.7"
  }
 },
 "nbformat": 4,
 "nbformat_minor": 5
}
