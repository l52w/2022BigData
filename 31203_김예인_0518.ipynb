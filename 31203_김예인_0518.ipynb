{
 "cells": [
  {
   "cell_type": "markdown",
   "id": "b0015d26",
   "metadata": {},
   "source": [
    "# 31203_김예인_0518"
   ]
  },
  {
   "cell_type": "markdown",
   "id": "79898a48",
   "metadata": {},
   "source": [
    "**[13]**<br>\n",
    "정수(int) 2개를 입력받아 그대로 출력해보자.(단, 띄어쓰기를 기준으로 입력한다.)<br>\n",
    "입력 : 1 5<br>\n",
    "출력 : 1 5"
   ]
  },
  {
   "cell_type": "code",
   "execution_count": 14,
   "id": "ba4ee4d7",
   "metadata": {},
   "outputs": [
    {
     "name": "stdout",
     "output_type": "stream",
     "text": [
      "입력 : 1 5\n",
      "출력 : 1 5\n"
     ]
    }
   ],
   "source": [
    "a = list(map(int, input('입력 : ').split()))\n",
    "print('출력 :',a[0], a[1])"
   ]
  },
  {
   "cell_type": "markdown",
   "id": "48089a7c",
   "metadata": {},
   "source": [
    "**[14]**<br>\n",
    "2개의 문자(ASCII CODE)를 입력받아서 순서를 바꿔 출력해보자.<br>\n",
    "**아스키코드란?**<br>\n",
    "- 컴퓨터가 문자를 읽을 수 있도록 문자에 대응하는 숫자들이 존재한다.\n",
    "- 예) A => 1100001\n",
    "- 이때의 문자가 '아스키 문자'이며, 숫자가 '아스키 코드'이다. "
   ]
  },
  {
   "cell_type": "code",
   "execution_count": 18,
   "id": "5bd0662b",
   "metadata": {},
   "outputs": [
    {
     "name": "stdout",
     "output_type": "stream",
     "text": [
      "입력 : a B\n",
      "출력 : B a\n"
     ]
    }
   ],
   "source": [
    "b = input('입력 : ').split()\n",
    "print('출력 :',b[1], b[0])"
   ]
  },
  {
   "cell_type": "markdown",
   "id": "6805b8aa",
   "metadata": {},
   "source": [
    "**[15]**<br>\n",
    "실수(float) 1개를 입력받아 저장한 후, 저장되어 있는 값을 소수점 셋 째 자리에서 반올림하여 소수점 이하 둘 째 자리까지 출력하시오.<br>\n",
    "**Tip::**\n",
    "1. 반올림 함수 round()를 이용하면 된다."
   ]
  },
  {
   "cell_type": "code",
   "execution_count": 25,
   "id": "63d7ee65",
   "metadata": {},
   "outputs": [
    {
     "name": "stdout",
     "output_type": "stream",
     "text": [
      "입력 : 3.14159265358972323\n",
      "출력 : 3.14\n"
     ]
    }
   ],
   "source": [
    "c = float(input('입력 : '))\n",
    "print('출력 :',round(c,2))"
   ]
  },
  {
   "cell_type": "code",
   "execution_count": 28,
   "id": "693e2061",
   "metadata": {},
   "outputs": [
    {
     "name": "stdout",
     "output_type": "stream",
     "text": [
      "입력 : 3.14159265358972323\n",
      "출력 : 3\n"
     ]
    }
   ],
   "source": [
    "c = round(float(input('입력 : ')))\n",
    "print('출력 :', c)"
   ]
  },
  {
   "cell_type": "markdown",
   "id": "7802ced6",
   "metadata": {},
   "source": [
    "**[16]**<br>\n",
    "int형 정수 1개를 입력받아 공백을 사이에 두고 3번 출력해보자."
   ]
  },
  {
   "cell_type": "code",
   "execution_count": 29,
   "id": "ee7a5337",
   "metadata": {},
   "outputs": [
    {
     "name": "stdout",
     "output_type": "stream",
     "text": [
      "입력 : 1\n",
      "1 1 1\n"
     ]
    }
   ],
   "source": [
    "d = int(input('입력 : '))\n",
    "print(d,d,d)"
   ]
  },
  {
   "cell_type": "markdown",
   "id": "14d4c056",
   "metadata": {},
   "source": [
    "**[17]**<br>\n",
    "어떤 형식에 맞추어 시간이 입력될 때, 그대로 출력하는 연습을 해보자.\n",
    "콜론(:) 기호를 기준으로 두 수가 각 변수에 저장된다.<br>\n",
    "입력 : 3:15<br>\n",
    "출력 : 3:15<br>\n",
    "**Tip::**\n",
    "1. split()의 매개변수로 문자열을 분할하기 위한 기준을 정의할 수 있다.\n",
    "2. 문자열의 메소드(함수)인 format()을 이용하면 문자열 내부에  변수값을 대입할 수 있다."
   ]
  },
  {
   "cell_type": "code",
   "execution_count": 39,
   "id": "cd887280",
   "metadata": {},
   "outputs": [
    {
     "name": "stdout",
     "output_type": "stream",
     "text": [
      "입력 : 3:15\n",
      "출력 : 3:15\n"
     ]
    }
   ],
   "source": [
    "h, m = input('입력 : ').split(':')\n",
    "# print('출력 : '+h+':'+m)\n",
    "print('출력 :','{}:{}'.format(h,m))"
   ]
  }
 ],
 "metadata": {
  "kernelspec": {
   "display_name": "Python 3 (ipykernel)",
   "language": "python",
   "name": "python3"
  },
  "language_info": {
   "codemirror_mode": {
    "name": "ipython",
    "version": 3
   },
   "file_extension": ".py",
   "mimetype": "text/x-python",
   "name": "python",
   "nbconvert_exporter": "python",
   "pygments_lexer": "ipython3",
   "version": "3.9.7"
  }
 },
 "nbformat": 4,
 "nbformat_minor": 5
}
