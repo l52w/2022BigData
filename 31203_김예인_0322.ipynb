{
 "cells": [
  {
   "cell_type": "markdown",
   "id": "0bef31c0",
   "metadata": {},
   "source": [
    "# 31203_김예인_0322"
   ]
  },
  {
   "cell_type": "markdown",
   "id": "9195f01d",
   "metadata": {},
   "source": [
    "# 1. 조건문 if\n",
    "\n",
    "**조건문 : 조건을 충족할 때에만 선택적으로 실행되는 명령어**\n",
    "<br>\n",
    "**=선택구조**\n",
    "<br>\n",
    "\n",
    "```\n",
    "조건 A를 충족할 때에만 \n",
    "B해라\n",
    "\n",
    "if 조건 a :\n",
    "   명령문 b\n",
    "\n",
    "if a :\n",
    "   b\n",
    "```"
   ]
  },
  {
   "cell_type": "code",
   "execution_count": 7,
   "id": "5b1df66b",
   "metadata": {},
   "outputs": [
    {
     "name": "stdout",
     "output_type": "stream",
     "text": [
      "나이를 입력하세요19\n",
      "술을 구매할 수 없다.\n"
     ]
    }
   ],
   "source": [
    "# 만약에 미성년자라면 술을 구매할 수 없다고 출력\n",
    "\n",
    "age = int(input('나이를 입력하세요'))\n",
    "\n",
    "if age < 20 :\n",
    "    print('술을 구매할 수 없다.')"
   ]
  },
  {
   "cell_type": "markdown",
   "id": "6e3c5253",
   "metadata": {},
   "source": [
    "물건 금액을 입력받고 물건이 50000원 미만일 경우 배송비 2500원을 더해 결제금액으로 안내하세요"
   ]
  },
  {
   "cell_type": "code",
   "execution_count": 11,
   "id": "d540ddc1",
   "metadata": {},
   "outputs": [
    {
     "name": "stdout",
     "output_type": "stream",
     "text": [
      "가격을 입력하세요30000\n",
      "총 결제금액은 32500\n"
     ]
    }
   ],
   "source": [
    "# 변수 price\n",
    "price = int(input('가격을 입력하세요'))\n",
    "if price < 50000 :\n",
    "    price += 2500\n",
    "    \n",
    "print('총 결제금액은', price)"
   ]
  },
  {
   "cell_type": "code",
   "execution_count": null,
   "id": "a86dc7a1",
   "metadata": {},
   "outputs": [],
   "source": []
  }
 ],
 "metadata": {
  "kernelspec": {
   "display_name": "Python 3 (ipykernel)",
   "language": "python",
   "name": "python3"
  },
  "language_info": {
   "codemirror_mode": {
    "name": "ipython",
    "version": 3
   },
   "file_extension": ".py",
   "mimetype": "text/x-python",
   "name": "python",
   "nbconvert_exporter": "python",
   "pygments_lexer": "ipython3",
   "version": "3.9.7"
  }
 },
 "nbformat": 4,
 "nbformat_minor": 5
}
