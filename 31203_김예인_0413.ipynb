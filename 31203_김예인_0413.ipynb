{
 "cells": [
  {
   "cell_type": "markdown",
   "id": "b9ef5ef6",
   "metadata": {},
   "source": [
    "# 31203_김예인_0413"
   ]
  },
  {
   "cell_type": "markdown",
   "id": "b23566bc",
   "metadata": {},
   "source": [
    "# 1. 리스트\n",
    "\n",
    "```\n",
    "리스트 여러 데이터를 한번에 묶어서 표현\n",
    "형식 : 리스트이름 = [데이터1, 데이터2, ...... ,데이터n]\n",
    "```\n"
   ]
  },
  {
   "cell_type": "code",
   "execution_count": 21,
   "id": "4ecaee1d",
   "metadata": {},
   "outputs": [
    {
     "name": "stdout",
     "output_type": "stream",
     "text": [
      "[25, 36, 8, 53, 24, 56]\n"
     ]
    }
   ],
   "source": [
    "# 1월 지출부터 6월 지출까지 리스트로 만들기\n",
    "spending = [25, 36, 8, 53, 24, 56]\n",
    "\n",
    "print(spending)"
   ]
  },
  {
   "cell_type": "code",
   "execution_count": 2,
   "id": "f8cdaa48",
   "metadata": {},
   "outputs": [
    {
     "data": {
      "text/plain": [
       "list"
      ]
     },
     "execution_count": 2,
     "metadata": {},
     "output_type": "execute_result"
    }
   ],
   "source": [
    "type(spending)"
   ]
  },
  {
   "cell_type": "code",
   "execution_count": 22,
   "id": "b87955c3",
   "metadata": {},
   "outputs": [
    {
     "name": "stdout",
     "output_type": "stream",
     "text": [
      "25\n",
      "56\n"
     ]
    }
   ],
   "source": [
    "# 1월 지출은?\n",
    "print(spending[0])\n",
    "\n",
    "# 6월 지출은?\n",
    "print(spending[5])"
   ]
  },
  {
   "cell_type": "code",
   "execution_count": 23,
   "id": "e38a5b4e",
   "metadata": {},
   "outputs": [
    {
     "name": "stdout",
     "output_type": "stream",
     "text": [
      "변경 전 :  [25, 36, 8, 53, 24, 56]\n",
      "변경 후 :  [25, 36, 8, 63, 24, 56]\n"
     ]
    }
   ],
   "source": [
    "# 알고보니 4월 지출이 10 낮게 기록되었다. 4월 지출에 10을 더하시오.\n",
    "print('변경 전 : ' ,spending)\n",
    "spending[3] += 10 # spending[3] = spending[3] + 10\n",
    "print('변경 후 : ' ,spending)"
   ]
  },
  {
   "cell_type": "code",
   "execution_count": 24,
   "id": "bc066851",
   "metadata": {},
   "outputs": [
    {
     "name": "stdout",
     "output_type": "stream",
     "text": [
      "[25, 36, 8, 63, 24, 56]\n"
     ]
    }
   ],
   "source": [
    "print(spending)"
   ]
  },
  {
   "cell_type": "code",
   "execution_count": 25,
   "id": "803f4ee3",
   "metadata": {},
   "outputs": [
    {
     "name": "stdout",
     "output_type": "stream",
     "text": [
      "변경 전 :  [25, 36, 8, 63, 24, 56]\n",
      "변경 후 :  [25, 36, 8, 63, 12.0, 56]\n"
     ]
    }
   ],
   "source": [
    "# 5월 지출을 2로 나누세요\n",
    "print('변경 전 : ' ,spending)\n",
    "spending[4] /= 2\n",
    "print('변경 후 : ' ,spending)"
   ]
  },
  {
   "cell_type": "code",
   "execution_count": 26,
   "id": "49bf0338",
   "metadata": {},
   "outputs": [
    {
     "name": "stdout",
     "output_type": "stream",
     "text": [
      "[25, 36, 8, 63, 12.0, 56]\n"
     ]
    }
   ],
   "source": [
    "print(spending)"
   ]
  },
  {
   "cell_type": "code",
   "execution_count": 28,
   "id": "b67eb543",
   "metadata": {},
   "outputs": [
    {
     "name": "stdout",
     "output_type": "stream",
     "text": [
      "12.0\n",
      "12.0\n"
     ]
    }
   ],
   "source": [
    "print(spending[4])\n",
    "print(spending[-2])"
   ]
  }
 ],
 "metadata": {
  "kernelspec": {
   "display_name": "Python 3 (ipykernel)",
   "language": "python",
   "name": "python3"
  },
  "language_info": {
   "codemirror_mode": {
    "name": "ipython",
    "version": 3
   },
   "file_extension": ".py",
   "mimetype": "text/x-python",
   "name": "python",
   "nbconvert_exporter": "python",
   "pygments_lexer": "ipython3",
   "version": "3.9.7"
  }
 },
 "nbformat": 4,
 "nbformat_minor": 5
}
