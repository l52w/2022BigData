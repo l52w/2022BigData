{
 "cells": [
  {
   "cell_type": "markdown",
   "id": "f91f21b1",
   "metadata": {},
   "source": [
    "**[28]**<br>\n",
    "정수 1개를 입력받아 그대로 출력해보자.\n",
    "```\n",
    "파이썬에서의 int() 데이터형의 크기는 4바이트(32비트)로 지정되어있다.\n",
    "이보다 큰 범위를 지정하고자 할 때는 long 데이터 형을 이용하면 된다.\n",
    "파이썬에서는 4가지의 데이터형을 제공한다.\n",
    "```\n",
    "**파이썬에서 제공하는 데이터형**<br>\n",
    "int (plain intergers) : 정수 <br>\n",
    "long (long intergers) : int보다 범위가 큰 정수(메모리 한계까지 저장 가능, 사실상 무제한)<br>\n",
    "float (floating point numbers) : 실수<br>\n",
    "complex (complex bumbers) : 복소수"
   ]
  },
  {
   "cell_type": "code",
   "execution_count": 12,
   "id": "f3711e1a",
   "metadata": {},
   "outputs": [
    {
     "name": "stdout",
     "output_type": "stream",
     "text": [
      "입력 : 10\n",
      "출력 : 10\n"
     ]
    },
    {
     "data": {
      "text/plain": [
       "str"
      ]
     },
     "execution_count": 12,
     "metadata": {},
     "output_type": "execute_result"
    }
   ],
   "source": [
    "a = input('입력 : ')\n",
    "print('출력 : {}'.format(int(a)))\n",
    "type(a)"
   ]
  },
  {
   "cell_type": "markdown",
   "id": "6532753f",
   "metadata": {},
   "source": [
    "**[29]**<br>\n",
    "실수 1개를 입력받아 그대로 출력해보자."
   ]
  },
  {
   "cell_type": "code",
   "execution_count": 10,
   "id": "fbd1c2d7",
   "metadata": {},
   "outputs": [
    {
     "name": "stdout",
     "output_type": "stream",
     "text": [
      "입력 : 40\n",
      "출력 : 40.0\n"
     ]
    },
    {
     "data": {
      "text/plain": [
       "float"
      ]
     },
     "execution_count": 10,
     "metadata": {},
     "output_type": "execute_result"
    }
   ],
   "source": [
    "b = float(input('입력 : '))\n",
    "print('출력 : {}'.format(b))\n",
    "type(b)"
   ]
  },
  {
   "cell_type": "markdown",
   "id": "620a2883",
   "metadata": {},
   "source": [
    "**[30]**<br>\n",
    "정수 1개를 입력받아 그대로 출력해보자."
   ]
  },
  {
   "cell_type": "code",
   "execution_count": 13,
   "id": "d941d480",
   "metadata": {},
   "outputs": [
    {
     "name": "stdout",
     "output_type": "stream",
     "text": [
      "입력 : -234234818\n",
      "출력 : -234234818\n"
     ]
    },
    {
     "data": {
      "text/plain": [
       "int"
      ]
     },
     "execution_count": 13,
     "metadata": {},
     "output_type": "execute_result"
    }
   ],
   "source": [
    "c = int(input('입력 : '))\n",
    "print('출력 : {}'.format(c))\n",
    "type(c)"
   ]
  },
  {
   "cell_type": "markdown",
   "id": "8b912dea",
   "metadata": {},
   "source": [
    "**[31]**<br>\n",
    "10진수(정수)를 입력받아 8진수(octal)로 출력해보자<br>\n",
    "**Tip::**\n",
    "1. 8진수는 '0o12'처럼 숫자 앞에 '0o'를 붙여준다. 이것으로 '12'가 8진수의 '12'임을 인지한다.\n",
    "2. 10진수를 8진수로 변환하는 함수는 oct()이며, '0o12'와 같이 출력되므로 앞 두자리를 생략하고 출력하면 된다. 따라서 '0o12'[2:]를 해주면 되는 것."
   ]
  },
  {
   "cell_type": "code",
   "execution_count": 21,
   "id": "0da8da1a",
   "metadata": {},
   "outputs": [
    {
     "name": "stdout",
     "output_type": "stream",
     "text": [
      "입력 : 10\n",
      "출력 : 12\n"
     ]
    }
   ],
   "source": [
    "d = int(input('입력 : '))\n",
    "print('출력 :', oct(d)[2:])"
   ]
  },
  {
   "cell_type": "markdown",
   "id": "a5b23e8a",
   "metadata": {},
   "source": [
    "**[32]**<br>\n",
    "10진수를 입력받아 16진수(hexadecimal)로 출력해보자.<br>\n",
    "**Tip::**\n",
    "1. 16진수는 '0xa'처럼 숫자 앞에 '0x'를 붙여준다. 이것으로 'a'가 16진수의 'a'임을 인지한다.\n",
    "2. 10진수를 16진수로 변환하는 함수는 hex()이며, '0xa'와 같이 출력되므로 앞 두자리를 생략하고 출력하면 된다. 따라서 '0xa'[2:]를 해주면 되는 것"
   ]
  },
  {
   "cell_type": "code",
   "execution_count": 33,
   "id": "941315e5",
   "metadata": {},
   "outputs": [
    {
     "name": "stdout",
     "output_type": "stream",
     "text": [
      "입력 : 10\n",
      "출력 : a\n"
     ]
    }
   ],
   "source": [
    "e = int(input('입력 : '))\n",
    "print('출력 :', hex(e)[2:])"
   ]
  },
  {
   "cell_type": "markdown",
   "id": "30395f0b",
   "metadata": {},
   "source": [
    "**[33]**<br>\n",
    "10진수를 입력받아 16진수(hexadecimal)로 출력해보자.<br>\n",
    "16진수(대문자)로 출력한다.<br>\n",
    "**Tip::**<br>\n",
    "1. 소문자를 대문자로 변환하려면 문자열의 메소드(함수)인 .upper()를 이용하면 된다."
   ]
  },
  {
   "cell_type": "code",
   "execution_count": 32,
   "id": "841e54be",
   "metadata": {},
   "outputs": [
    {
     "name": "stdout",
     "output_type": "stream",
     "text": [
      "입력 : 10\n",
      "출력 : A\n"
     ]
    }
   ],
   "source": [
    "f = int(input('입력 : '))\n",
    "g = hex(f)[2:]\n",
    "print('출력 :', g.upper())"
   ]
  }
 ],
 "metadata": {
  "kernelspec": {
   "display_name": "Python 3 (ipykernel)",
   "language": "python",
   "name": "python3"
  },
  "language_info": {
   "codemirror_mode": {
    "name": "ipython",
    "version": 3
   },
   "file_extension": ".py",
   "mimetype": "text/x-python",
   "name": "python",
   "nbconvert_exporter": "python",
   "pygments_lexer": "ipython3",
   "version": "3.9.7"
  }
 },
 "nbformat": 4,
 "nbformat_minor": 5
}
