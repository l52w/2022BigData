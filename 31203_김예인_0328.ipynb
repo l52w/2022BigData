{
 "cells": [
  {
   "cell_type": "markdown",
   "id": "e4971e91",
   "metadata": {},
   "source": [
    "# 31203_김예인_0328"
   ]
  },
  {
   "cell_type": "markdown",
   "id": "cef819a3",
   "metadata": {},
   "source": [
    "# 미세먼지 저감 조치를 위한 2부제를 시행합니다.\n",
    "\n",
    "> 홀수 : 홀수차량 통과 짝수차량 대중교통\n",
    "\n",
    "> 짝수 : 짝수차량 통과 홀수차량 대중교통을 출력하는 프로그램 작성"
   ]
  },
  {
   "cell_type": "code",
   "execution_count": 7,
   "id": "6e122570",
   "metadata": {},
   "outputs": [
    {
     "name": "stdout",
     "output_type": "stream",
     "text": [
      "미세먼지 저감 조치를 위한 2부제를 시행합니다.\n",
      "날짜를 입력하세요 : 28\n",
      "짝수차량 통과 홀수차량 대중교통\n"
     ]
    }
   ],
   "source": [
    "print('미세먼지 저감 조치를 위한 2부제를 시행합니다.')\n",
    "\n",
    "date = int(input('날짜를 입력하세요 : '))\n",
    "\n",
    "if date > 31 :\n",
    "    print('날짜를 다시 입력하세요')\n",
    "elif date % 2 == 1 :\n",
    "    print('홀수차량 통과 짝수차량 대중교통')\n",
    "else :\n",
    "    print('짝수차량 통과 홀수차량 대중교통')"
   ]
  },
  {
   "cell_type": "markdown",
   "id": "3815e178",
   "metadata": {},
   "source": [
    "# 목욕탕에 남탕 여탕\n",
    "\n",
    "> 남성 -> 남탕은 오른쪽입니다.\n",
    "\n",
    "> 여성 -> 여탕은 왼쪽입니다.\n",
    "\n",
    "> 다시 입력하세요."
   ]
  },
  {
   "cell_type": "code",
   "execution_count": 13,
   "id": "0e6c996c",
   "metadata": {},
   "outputs": [
    {
     "name": "stdout",
     "output_type": "stream",
     "text": [
      "성일 목욕탕입니다.\n",
      "성별을 입력하세요 : 여성\n",
      "여탕은 왼쪽입니다.\n"
     ]
    }
   ],
   "source": [
    "print('성일 목욕탕입니다.')\n",
    "gender = input('성별을 입력하세요 : ')\n",
    "\n",
    "if  gender == '남성' :\n",
    "    print('남탕은 오른쪽입니다.')\n",
    "elif gender == '여성' :\n",
    "    print('여탕은 왼쪽입니다.')\n",
    "else :\n",
    "    print('다시 입력하세요')"
   ]
  },
  {
   "cell_type": "code",
   "execution_count": null,
   "id": "2532d444",
   "metadata": {},
   "outputs": [],
   "source": []
  }
 ],
 "metadata": {
  "kernelspec": {
   "display_name": "Python 3 (ipykernel)",
   "language": "python",
   "name": "python3"
  },
  "language_info": {
   "codemirror_mode": {
    "name": "ipython",
    "version": 3
   },
   "file_extension": ".py",
   "mimetype": "text/x-python",
   "name": "python",
   "nbconvert_exporter": "python",
   "pygments_lexer": "ipython3",
   "version": "3.9.7"
  }
 },
 "nbformat": 4,
 "nbformat_minor": 5
}
