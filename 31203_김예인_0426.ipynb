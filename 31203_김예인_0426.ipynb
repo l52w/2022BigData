{
 "cells": [
  {
   "cell_type": "markdown",
   "id": "41eb3861",
   "metadata": {},
   "source": [
    "# 31203_김예인_0426"
   ]
  },
  {
   "cell_type": "code",
   "execution_count": 5,
   "id": "0b59a686",
   "metadata": {},
   "outputs": [
    {
     "name": "stdout",
     "output_type": "stream",
     "text": [
      "['치킨', '피자', '떡볶이', '파스타', '햄버거']\n",
      "['떡볶이', '치킨', '파스타', '피자', '햄버거']\n"
     ]
    }
   ],
   "source": [
    "# food 리스트를 만들고 먹고 싶은 음식 5개 넣고\n",
    "# sort하여 출력하기\n",
    "food = ['치킨','피자','떡볶이','파스타','햄버거']\n",
    "print(food)\n",
    "food.sort()\n",
    "print(food)"
   ]
  },
  {
   "cell_type": "markdown",
   "id": "178616e3",
   "metadata": {},
   "source": [
    "### 조건문으로 리스트 다루기\n",
    "\n",
    "> 음식순위 출력하기\n",
    "\n",
    "-. 음식을 좋아하는 순서대로 food 리스트 만들기<br>\n",
    "-. 음식 이름을 입력받아 해당 음식의 '위 입니다.' 순위를 출력하기<br>\n",
    "-. 음식 이름이 없는 것은 '순위에 없습니다' 출력하기\n"
   ]
  },
  {
   "cell_type": "code",
   "execution_count": 9,
   "id": "cd8d7ac6",
   "metadata": {},
   "outputs": [
    {
     "name": "stdout",
     "output_type": "stream",
     "text": [
      "찾는 음식은? : 치킨\n",
      "1 위 입니다.\n"
     ]
    }
   ],
   "source": [
    "food = ['치킨','피자','떡볶이','파스타','햄버거'] # 리스트 선언 부분\n",
    "a = input('찾는 음식은? : ') # 입력받는 부분\n",
    "if a in food : # 존재 여부 판단\n",
    "    print(food.index(a) + 1,'위 입니다.') # 인덱스를 찾는 부분\n",
    "else :\n",
    "    print(a,'은/는 순위에 없습니다.') # '그렇지 않으면' 부분"
   ]
  },
  {
   "cell_type": "markdown",
   "id": "3dce9c50",
   "metadata": {},
   "source": [
    "> 영상 추천 프로그램 만들기\n",
    "\n",
    "-. 시청 내역에 강아지가 있으면 고양이 영상을 추천<br>\n",
    "-. 시청 내역에 댄스가 있으면 음악방송 영상을 추천"
   ]
  },
  {
   "cell_type": "code",
   "execution_count": 10,
   "id": "dfa892c6",
   "metadata": {},
   "outputs": [
    {
     "name": "stdout",
     "output_type": "stream",
     "text": [
      "강아지 영상을 좋아하시면 고양이 영상도 추천합니다\n",
      "댄스 영상을 좋아하시면 음악방송 영상도 추천합니다\n"
     ]
    }
   ],
   "source": [
    "history = ['먹방', '강아지', '요리', '댄스']\n",
    "\n",
    "if '강아지' in history : # history 리스트 요소에 강아지가 있으면\n",
    "    print('강아지 영상을 좋아하시면 고양이 영상도 추천합니다')\n",
    "if '댄스' in history : # history 리스트 요소에 댄스가 있으면\n",
    "    print('댄스 영상을 좋아하시면 음악방송 영상도 추천합니다')"
   ]
  },
  {
   "cell_type": "code",
   "execution_count": 12,
   "id": "45cadeed",
   "metadata": {},
   "outputs": [
    {
     "name": "stdout",
     "output_type": "stream",
     "text": [
      "[[1, 2, 3], [4, 5, 6], [7, 8, 9]]\n"
     ]
    }
   ],
   "source": [
    "abc = [[1,2,3],[4,5,6],[7,8,9]]\n",
    "print(abc)"
   ]
  },
  {
   "cell_type": "code",
   "execution_count": 15,
   "id": "e8f7a923",
   "metadata": {},
   "outputs": [
    {
     "name": "stdout",
     "output_type": "stream",
     "text": [
      "[1, 2, 3]\n",
      "[4, 5, 6]\n",
      "[7, 8, 9]\n"
     ]
    }
   ],
   "source": [
    "print(abc[0])\n",
    "print(abc[1])\n",
    "print(abc[-1])"
   ]
  },
  {
   "cell_type": "code",
   "execution_count": 17,
   "id": "48ddf927",
   "metadata": {},
   "outputs": [],
   "source": [
    "abc = [[1,2,3],[4,5,6],[7,8,9]]"
   ]
  },
  {
   "cell_type": "code",
   "execution_count": 19,
   "id": "5a1510bf",
   "metadata": {},
   "outputs": [
    {
     "name": "stdout",
     "output_type": "stream",
     "text": [
      "1\n"
     ]
    }
   ],
   "source": [
    "# 1 출력하기\n",
    "print(abc[0][0])"
   ]
  },
  {
   "cell_type": "code",
   "execution_count": 20,
   "id": "9e076ad2",
   "metadata": {},
   "outputs": [
    {
     "name": "stdout",
     "output_type": "stream",
     "text": [
      "6\n"
     ]
    }
   ],
   "source": [
    "# 6 출력하기\n",
    "print(abc[1][2])"
   ]
  },
  {
   "cell_type": "code",
   "execution_count": 21,
   "id": "4c01c2c2",
   "metadata": {},
   "outputs": [
    {
     "name": "stdout",
     "output_type": "stream",
     "text": [
      "8\n"
     ]
    }
   ],
   "source": [
    "# 8 출력하기\n",
    "print(abc[2][1])"
   ]
  },
  {
   "cell_type": "code",
   "execution_count": 22,
   "id": "95a5e557",
   "metadata": {},
   "outputs": [
    {
     "name": "stdout",
     "output_type": "stream",
     "text": [
      "[1, 2, 3]\n",
      "[4, 5, 6]\n",
      "[7, 8, 9]\n"
     ]
    }
   ],
   "source": [
    "for row in abc :\n",
    "    print(row)"
   ]
  }
 ],
 "metadata": {
  "kernelspec": {
   "display_name": "Python 3 (ipykernel)",
   "language": "python",
   "name": "python3"
  },
  "language_info": {
   "codemirror_mode": {
    "name": "ipython",
    "version": 3
   },
   "file_extension": ".py",
   "mimetype": "text/x-python",
   "name": "python",
   "nbconvert_exporter": "python",
   "pygments_lexer": "ipython3",
   "version": "3.9.7"
  }
 },
 "nbformat": 4,
 "nbformat_minor": 5
}
