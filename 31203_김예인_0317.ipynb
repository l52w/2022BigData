{
 "cells": [
  {
   "cell_type": "markdown",
   "id": "9a235fca",
   "metadata": {},
   "source": [
    "# 31203_김예인_0317"
   ]
  },
  {
   "cell_type": "code",
   "execution_count": 1,
   "id": "7972a3a1",
   "metadata": {},
   "outputs": [],
   "source": [
    "apple = 1200\n",
    "banana = 800\n",
    "kiwi =1700"
   ]
  },
  {
   "cell_type": "code",
   "execution_count": 4,
   "id": "9147a1aa",
   "metadata": {},
   "outputs": [
    {
     "name": "stdout",
     "output_type": "stream",
     "text": [
      "7800\n"
     ]
    }
   ],
   "source": [
    "# 사과 3개, 바나나1개, 키위2개 구매 가격?\n",
    "price = apple*3 + banana*1 + kiwi*2\n",
    "print(price)"
   ]
  },
  {
   "cell_type": "markdown",
   "id": "df062544",
   "metadata": {},
   "source": [
    "vip는 20% 할인된다. 동일한 물건을 구매했을 때 vip가 내는 가격을 새로운 변수에 저장하여 출력하기"
   ]
  },
  {
   "cell_type": "code",
   "execution_count": 5,
   "id": "ee30817a",
   "metadata": {},
   "outputs": [
    {
     "name": "stdout",
     "output_type": "stream",
     "text": [
      "vip가 되시면 7800 원을 6240.0 원에 구매 가능합니다. !!!\n"
     ]
    }
   ],
   "source": [
    "vip_price = price * 0.8\n",
    "print('vip가 되시면',price,'원을',vip_price,'원에 구매 가능합니다. !!!')"
   ]
  },
  {
   "cell_type": "code",
   "execution_count": 6,
   "id": "000e2f02",
   "metadata": {},
   "outputs": [
    {
     "data": {
      "text/plain": [
       "int"
      ]
     },
     "execution_count": 6,
     "metadata": {},
     "output_type": "execute_result"
    }
   ],
   "source": [
    "type(price)"
   ]
  },
  {
   "cell_type": "code",
   "execution_count": 7,
   "id": "434ce1b1",
   "metadata": {},
   "outputs": [
    {
     "data": {
      "text/plain": [
       "float"
      ]
     },
     "execution_count": 7,
     "metadata": {},
     "output_type": "execute_result"
    }
   ],
   "source": [
    "type(vip_price)"
   ]
  },
  {
   "cell_type": "markdown",
   "id": "cd90c076",
   "metadata": {},
   "source": [
    "2) 1년마다 키가 10cm씩 자라는 농구선수가 있다.\n",
    "\n",
    "* 2017년 - 175.5 cm\n",
    "* 2018년 - 185.5 cm\n",
    "* 2019년 - 195.5 cm\n",
    "* 2020년 - 205.5 cm\n",
    "\n",
    "년도별 농구선수의 키를 출력해 보자"
   ]
  },
  {
   "cell_type": "code",
   "execution_count": 10,
   "id": "8aa59ecf",
   "metadata": {},
   "outputs": [
    {
     "name": "stdout",
     "output_type": "stream",
     "text": [
      "2017 년 - 175.5 cm\n",
      "2018 년 - 185.5 cm\n",
      "2019 년 - 195.5 cm\n",
      "2020 년 - 205.5 cm\n"
     ]
    }
   ],
   "source": [
    "year = 2017\n",
    "height = 175.5\n",
    "print(year,'년 -',height,'cm')\n",
    "\n",
    "year = year + 1\n",
    "height = height + 10\n",
    "print(year,'년 -',height,'cm')\n",
    "\n",
    "year = year + 1\n",
    "height = height + 10\n",
    "print(year,'년 -',height,'cm')\n",
    "\n",
    "year = year + 1\n",
    "height = height + 10\n",
    "print(year,'년 -',height,'cm')"
   ]
  },
  {
   "cell_type": "code",
   "execution_count": 12,
   "id": "1827becc",
   "metadata": {},
   "outputs": [
    {
     "name": "stdout",
     "output_type": "stream",
     "text": [
      "2017 년 - 175.5 cm\n",
      "2018 년 - 185.5 cm\n",
      "2019 년 - 195.5 cm\n",
      "2020 년 - 205.5 cm\n"
     ]
    }
   ],
   "source": [
    "year = 2017\n",
    "height = 175.5\n",
    "print(year,'년 -',height,'cm')\n",
    "\n",
    "#year = year + 1\n",
    "year += 1\n",
    "#height = height + 10\n",
    "height += 10\n",
    "print(year,'년 -',height,'cm')\n",
    "\n",
    "year += 1\n",
    "height += 10\n",
    "print(year,'년 -',height,'cm')\n",
    "\n",
    "year += 1\n",
    "height += 10\n",
    "print(year,'년 -',height,'cm')"
   ]
  },
  {
   "cell_type": "markdown",
   "id": "97811a26",
   "metadata": {},
   "source": [
    "> 동일한 변수를 증가/감소 시킬 때\n",
    "\n",
    "```\n",
    "# a에 3을 더하시오\n",
    "a = a+3\n",
    "# a에 3을 빼시오\n",
    "a = a-3\n",
    "```\n",
    "\n",
    "```\n",
    "# 간략하게 하면\n",
    "a += 3\n",
    "a -= 3\n",
    "```"
   ]
  },
  {
   "cell_type": "code",
   "execution_count": null,
   "id": "e5903213",
   "metadata": {},
   "outputs": [],
   "source": []
  }
 ],
 "metadata": {
  "kernelspec": {
   "display_name": "Python 3 (ipykernel)",
   "language": "python",
   "name": "python3"
  },
  "language_info": {
   "codemirror_mode": {
    "name": "ipython",
    "version": 3
   },
   "file_extension": ".py",
   "mimetype": "text/x-python",
   "name": "python",
   "nbconvert_exporter": "python",
   "pygments_lexer": "ipython3",
   "version": "3.9.7"
  }
 },
 "nbformat": 4,
 "nbformat_minor": 5
}
