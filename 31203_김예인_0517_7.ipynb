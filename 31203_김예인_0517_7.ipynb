{
 "cells": [
  {
   "cell_type": "markdown",
   "id": "39559ac9",
   "metadata": {},
   "source": [
    "# 31203_김예인_0517"
   ]
  },
  {
   "cell_type": "markdown",
   "id": "7bd14ec2",
   "metadata": {},
   "source": [
    "**[10]**<br>\n",
    "정수형(int)로 변수를 선언하고, 변수에 정수값을 저장한 후 변수에 저장되어 있는 값을 그대로 출력해보자.<br>\n",
    "-. 입력함수 이용"
   ]
  },
  {
   "cell_type": "code",
   "execution_count": 1,
   "id": "c7567028",
   "metadata": {},
   "outputs": [
    {
     "name": "stdout",
     "output_type": "stream",
     "text": [
      "변수 : 11\n",
      "11\n",
      "<class 'int'>\n"
     ]
    }
   ],
   "source": [
    "a = int(input('변수 : '))\n",
    "print(a)\n",
    "print(type(a))"
   ]
  },
  {
   "cell_type": "markdown",
   "id": "01d19c26",
   "metadata": {},
   "source": [
    "**[11]**<br>\n",
    "문자형(char)으로 변수를 하나 선언하고, 변수에 문자를 저장한 후 변수에 저장되어 있는 문자를 그대로 출력해보자.<br>\n",
    "**Tip::**<br>\n",
    "1. input()의 반환값은 기본으로 문자열로 정의된다."
   ]
  },
  {
   "cell_type": "code",
   "execution_count": 2,
   "id": "ee934fbf",
   "metadata": {},
   "outputs": [
    {
     "name": "stdout",
     "output_type": "stream",
     "text": [
      "문자열 : Hello\n",
      "Hello\n",
      "<class 'str'>\n"
     ]
    }
   ],
   "source": [
    "b = str(input('문자열 : '))\n",
    "print(b)\n",
    "print(type(b))"
   ]
  },
  {
   "cell_type": "code",
   "execution_count": 4,
   "id": "33437692",
   "metadata": {},
   "outputs": [
    {
     "name": "stdout",
     "output_type": "stream",
     "text": [
      "문자열 :HELLO\n",
      "HELLO\n",
      "<class 'str'>\n"
     ]
    }
   ],
   "source": [
    "b = input('문자열 :')\n",
    "print(b)\n",
    "print(type(b))"
   ]
  },
  {
   "cell_type": "markdown",
   "id": "3207469b",
   "metadata": {},
   "source": [
    "**[12]**<br>\n",
    "실수형(float)로 변수를 선언하고 그 변수에 실수값을 저장한 후 저장되어 있는 실수값을 출력해보자."
   ]
  },
  {
   "cell_type": "code",
   "execution_count": 3,
   "id": "0390dd2f",
   "metadata": {},
   "outputs": [
    {
     "name": "stdout",
     "output_type": "stream",
     "text": [
      "실수 : 4\n",
      "4.0\n",
      "<class 'float'>\n"
     ]
    }
   ],
   "source": [
    "c = float(input('실수 : '))\n",
    "print(c)\n",
    "print(type(c))"
   ]
  },
  {
   "cell_type": "markdown",
   "id": "d0ba1e25",
   "metadata": {},
   "source": [
    "**[13]**<br>\n",
    "정수(int) 2개를 입력받아 그대로 출력해보자. (단, 띄어쓰기를 기준으로 입력한다.)<br>\n",
    "**Tip::**\n",
    "1. 문자열의 메소드(함수)인 split()을 이용하면 문자열을 공백 기준으로 배열(iterable)로 만들어준다.\n",
    "2. 매핑함수인 map()을 이용하면 배열(iterable)의 모든 원소를 첫 번째 매개변수(parameter)로 변환할 수 있다. 정확히 감싸준다는 표현이 맞다.\n",
    "    - *예) map(int, ['1', '2', '3']) >> [1,2,3]*\n",
    "3. 매핑함수 map()의 반환값은 map객체이다. 따라서 육안으로 확인하기 위해서는 list()로 변환시켜줘야 한다."
   ]
  },
  {
   "cell_type": "code",
   "execution_count": 10,
   "id": "6d352697",
   "metadata": {},
   "outputs": [
    {
     "name": "stdout",
     "output_type": "stream",
     "text": [
      "입력 : 1 2\n",
      "출력 : 1 2\n",
      "<class 'list'>\n"
     ]
    }
   ],
   "source": [
    "d = list(map(int, input('입력 : ').split()))\n",
    "print('출력 :',d[0], d[1])\n",
    "print(type(d))"
   ]
  },
  {
   "cell_type": "code",
   "execution_count": null,
   "id": "03ba074e",
   "metadata": {},
   "outputs": [],
   "source": []
  }
 ],
 "metadata": {
  "kernelspec": {
   "display_name": "Python 3 (ipykernel)",
   "language": "python",
   "name": "python3"
  },
  "language_info": {
   "codemirror_mode": {
    "name": "ipython",
    "version": 3
   },
   "file_extension": ".py",
   "mimetype": "text/x-python",
   "name": "python",
   "nbconvert_exporter": "python",
   "pygments_lexer": "ipython3",
   "version": "3.9.7"
  }
 },
 "nbformat": 4,
 "nbformat_minor": 5
}
