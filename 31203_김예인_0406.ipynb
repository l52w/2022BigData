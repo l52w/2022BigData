{
 "cells": [
  {
   "cell_type": "markdown",
   "id": "d8de24d4",
   "metadata": {},
   "source": [
    "# 31203_김예인_0406"
   ]
  },
  {
   "cell_type": "code",
   "execution_count": 11,
   "id": "91ec57b7",
   "metadata": {},
   "outputs": [
    {
     "name": "stdout",
     "output_type": "stream",
     "text": [
      "1\n",
      "3\n",
      "5\n",
      "7\n",
      "9\n",
      "11\n",
      "13\n",
      "15\n",
      "17\n",
      "19\n"
     ]
    }
   ],
   "source": [
    "for a in range(1, 20, 2):\n",
    "    print(a)"
   ]
  },
  {
   "cell_type": "code",
   "execution_count": 12,
   "id": "ab0e49a0",
   "metadata": {},
   "outputs": [
    {
     "name": "stdout",
     "output_type": "stream",
     "text": [
      "1275\n"
     ]
    }
   ],
   "source": [
    "# 1부터 50가지 숫자의 합을 구하는 프로그램\n",
    "result = 0\n",
    "for i in range(1, 51):\n",
    "    result += i\n",
    "print(result)"
   ]
  },
  {
   "cell_type": "code",
   "execution_count": 13,
   "id": "02926a97",
   "metadata": {},
   "outputs": [
    {
     "name": "stdout",
     "output_type": "stream",
     "text": [
      "30414093201713378043612608166064768844377641568960512000000000000\n"
     ]
    }
   ],
   "source": [
    "result = 1\n",
    "for i in range(1, 51):\n",
    "    result *= i\n",
    "print(result)"
   ]
  },
  {
   "cell_type": "code",
   "execution_count": 2,
   "id": "ff76ce4c",
   "metadata": {},
   "outputs": [
    {
     "name": "stdout",
     "output_type": "stream",
     "text": [
      "몇 단을 외울까요?10\n",
      "10 x 1 = 10\n",
      "10 x 2 = 20\n",
      "10 x 3 = 30\n",
      "10 x 4 = 40\n",
      "10 x 5 = 50\n",
      "10 x 6 = 60\n",
      "10 x 7 = 70\n",
      "10 x 8 = 80\n",
      "10 x 9 = 90\n"
     ]
    }
   ],
   "source": [
    "num = int(input('몇 단을 외울까요?'))\n",
    "for i in range(1, 10):\n",
    "    print(num, 'x', i, '=', num*i)"
   ]
  },
  {
   "cell_type": "code",
   "execution_count": 10,
   "id": "28f73725",
   "metadata": {},
   "outputs": [
    {
     "name": "stdout",
     "output_type": "stream",
     "text": [
      "2\n",
      "1\n",
      "3\n",
      "3\n",
      "6\n",
      "4\n",
      "4\n",
      "3\n",
      "2\n",
      "5\n",
      "0\n",
      "0\n",
      "6\n",
      "3\n",
      "2\n",
      "4\n",
      "2\n",
      "6\n",
      "9\n",
      "6\n"
     ]
    }
   ],
   "source": [
    "# 여러개의 무작위 값\n",
    "import random\n",
    "for i in range(20):\n",
    "    print(random.randint(0,10))"
   ]
  },
  {
   "cell_type": "code",
   "execution_count": 8,
   "id": "1e3eef94",
   "metadata": {},
   "outputs": [
    {
     "name": "stdout",
     "output_type": "stream",
     "text": [
      "구구단을 외자! 구구단을 외자!\n",
      "6 x 7 ? 42\n",
      "2 x 4 ? 8\n",
      "5 x 9 ? 45\n",
      "9 x 9 ? 81\n",
      "2 x 6 ? 12\n",
      "6 x 6 ? 36\n",
      "7 x 9 ? 63\n",
      "5 x 8 ? 40\n",
      "6 x 1 ? 6\n",
      "2 x 3 ? 6\n"
     ]
    }
   ],
   "source": [
    "import random\n",
    "print('구구단을 외자! 구구단을 외자!')\n",
    "for i in range(10):\n",
    "    a, b = random.randint(2,9), random.randint(1,9)\n",
    "    print(a, 'x', b, '?', a*b)"
   ]
  },
  {
   "cell_type": "code",
   "execution_count": 6,
   "id": "6118bea4",
   "metadata": {},
   "outputs": [
    {
     "name": "stdout",
     "output_type": "stream",
     "text": [
      "구구단을 외자! 구구단을 외자!\n",
      "2x5?10\n",
      "5x3?15\n",
      "4x7?28\n",
      "6x5?30\n",
      "9x4?36\n",
      "3x8?24\n",
      "5x3?15\n",
      "4x1?4\n",
      "5x3?15\n",
      "4x1?4\n"
     ]
    }
   ],
   "source": [
    "import random\n",
    "print('구구단을 외자! 구구단을 외자!')\n",
    "for i in range(10):\n",
    "    a, b = random.randint(2,9), random.randint(1,9)\n",
    "    question = str(a) + 'x' + str(b) + '?'\n",
    "    answer = input(question)\n",
    "    answer = int(answer)\n",
    "    if answer != a*b:\n",
    "        print('틀렸습니다!')"
   ]
  },
  {
   "cell_type": "code",
   "execution_count": null,
   "id": "1bd3cceb",
   "metadata": {},
   "outputs": [],
   "source": []
  }
 ],
 "metadata": {
  "kernelspec": {
   "display_name": "Python 3 (ipykernel)",
   "language": "python",
   "name": "python3"
  },
  "language_info": {
   "codemirror_mode": {
    "name": "ipython",
    "version": 3
   },
   "file_extension": ".py",
   "mimetype": "text/x-python",
   "name": "python",
   "nbconvert_exporter": "python",
   "pygments_lexer": "ipython3",
   "version": "3.9.7"
  }
 },
 "nbformat": 4,
 "nbformat_minor": 5
}
