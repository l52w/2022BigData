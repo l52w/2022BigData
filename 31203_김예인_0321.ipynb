{
 "cells": [
  {
   "cell_type": "markdown",
   "id": "4896aec6",
   "metadata": {},
   "source": [
    "# 31203_김예인_0321"
   ]
  },
  {
   "cell_type": "code",
   "execution_count": 2,
   "id": "7b9fee63",
   "metadata": {},
   "outputs": [
    {
     "name": "stdout",
     "output_type": "stream",
     "text": [
      "id : 1234\n",
      "입력하신 id :  1234\n"
     ]
    }
   ],
   "source": [
    "id = input('id : ')\n",
    "print('입력하신 id : ',id)"
   ]
  },
  {
   "cell_type": "code",
   "execution_count": 3,
   "id": "3ade3a6b",
   "metadata": {},
   "outputs": [
    {
     "data": {
      "text/plain": [
       "str"
      ]
     },
     "execution_count": 3,
     "metadata": {},
     "output_type": "execute_result"
    }
   ],
   "source": [
    "# 자료형을 알아보는 방법\n",
    "# type() 함수를 이용한다.\n",
    "\n",
    "type(id)"
   ]
  },
  {
   "cell_type": "markdown",
   "id": "87e90d9b",
   "metadata": {},
   "source": [
    "# 2. 데이터 타입\n",
    " \n",
    " > 정수 : int\n",
    " \n",
    " > 실수 : float\n",
    " \n",
    " > 문자 : str"
   ]
  },
  {
   "cell_type": "markdown",
   "id": "65ee0c16",
   "metadata": {},
   "source": [
    "# 2. 데이터 타입 -> 변경가능\n",
    " \n",
    " > 정수 : int\n",
    "   <br> int(변수)\n",
    " \n",
    " > 실수 : float\n",
    "   <br> float(변수)\n",
    " \n",
    " > 문자 : str\n",
    "   <br> str(변수)"
   ]
  },
  {
   "cell_type": "code",
   "execution_count": 7,
   "id": "e026f668",
   "metadata": {},
   "outputs": [
    {
     "name": "stdout",
     "output_type": "stream",
     "text": [
      "사과가격 : 1200\n",
      "사과 가격은  3600\n"
     ]
    }
   ],
   "source": [
    "apple = int(input('사과가격 : '))\n",
    "print('사과 가격은 ',apple*3)"
   ]
  },
  {
   "cell_type": "code",
   "execution_count": 5,
   "id": "b6ddfa0b",
   "metadata": {},
   "outputs": [
    {
     "data": {
      "text/plain": [
       "str"
      ]
     },
     "execution_count": 5,
     "metadata": {},
     "output_type": "execute_result"
    }
   ],
   "source": [
    "type(apple)"
   ]
  },
  {
   "cell_type": "markdown",
   "id": "f3d1b271",
   "metadata": {},
   "source": [
    "# 4. 원의 둘레, 넓이, 구의 겉넓이, 부피\n",
    "\n",
    "> 원의 둘레 : 2 * pi * r\n",
    "\n",
    "> 원의 넓이 : pi * r**2\n",
    "\n",
    "> 구의 겉넓이 : 4 * pi * r**2\n",
    "\n",
    "> 구의 부피 : 4/3 * pi * r**3"
   ]
  },
  {
   "cell_type": "code",
   "execution_count": 13,
   "id": "fd7756d5",
   "metadata": {},
   "outputs": [
    {
     "name": "stdout",
     "output_type": "stream",
     "text": [
      "반지름은? 10\n",
      "원의 둘레는 62.83184\n",
      "원의 넓이는 314.1592\n",
      "구의 겉넓이는 1256.6368\n",
      "구의 부피 4188.789333333333\n"
     ]
    }
   ],
   "source": [
    "r = int(input('반지름은? '))\n",
    "pi = 3.141592\n",
    "\n",
    "# 원의 둘레\n",
    "c_len = 2 * pi * r\n",
    "print('원의 둘레는', c_len)\n",
    "\n",
    "# 원의 넓이\n",
    "c_area = pi * r**2\n",
    "print('원의 넓이는', c_area)\n",
    "\n",
    "# 구의 겉넓이\n",
    "s_area = 4 * pi * r**2\n",
    "print('구의 겉넓이는', s_area)\n",
    "\n",
    "# 구의 부피\n",
    "s_vol = 4/3 * pi * r**3\n",
    "print('구의 부피', s_vol)"
   ]
  },
  {
   "cell_type": "code",
   "execution_count": null,
   "id": "1fae8fc3",
   "metadata": {},
   "outputs": [],
   "source": []
  }
 ],
 "metadata": {
  "kernelspec": {
   "display_name": "Python 3 (ipykernel)",
   "language": "python",
   "name": "python3"
  },
  "language_info": {
   "codemirror_mode": {
    "name": "ipython",
    "version": 3
   },
   "file_extension": ".py",
   "mimetype": "text/x-python",
   "name": "python",
   "nbconvert_exporter": "python",
   "pygments_lexer": "ipython3",
   "version": "3.9.7"
  }
 },
 "nbformat": 4,
 "nbformat_minor": 5
}
