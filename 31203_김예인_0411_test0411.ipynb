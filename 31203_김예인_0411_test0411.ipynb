{
 "cells": [
  {
   "cell_type": "markdown",
   "id": "9f90cb6e",
   "metadata": {},
   "source": [
    "# 31203_김예인_0411_test0411"
   ]
  },
  {
   "cell_type": "code",
   "execution_count": 21,
   "id": "29e82909",
   "metadata": {
    "scrolled": false
   },
   "outputs": [
    {
     "name": "stdout",
     "output_type": "stream",
     "text": [
      "9000 원\n"
     ]
    }
   ],
   "source": [
    "# 먼저 실행합니다. 변수 입력\n",
    "apple = 1500\n",
    "banana = 900\n",
    "kiwi = 1800\n",
    "\n",
    "# 사과 3개, 바나나1개, 키위2개 구매한 가격은?\n",
    "price =  apple*3 + banana*1 + kiwi*2\n",
    "print(price, \"원\")"
   ]
  },
  {
   "cell_type": "markdown",
   "id": "8e0a5dcd",
   "metadata": {},
   "source": [
    "vip는 20% 할인된다. 동일한 물건을 구매했을 때 vip가 내는 가격을 새로운 변수에 저장하여 출력하기\n",
    "\n",
    "출력예시\n",
    "> vip가 되시면 ???원을 ???원에 구매 가능합니다."
   ]
  },
  {
   "cell_type": "code",
   "execution_count": 23,
   "id": "d053a22f",
   "metadata": {},
   "outputs": [
    {
     "name": "stdout",
     "output_type": "stream",
     "text": [
      "vip가 되시면 9000 원을 7200 원에 구매 가능합니다.\n"
     ]
    }
   ],
   "source": [
    "vip_price = price*0.8\n",
    "print('vip가 되시면', price, '원을', int(vip_price), '원에 구매 가능합니다.')"
   ]
  },
  {
   "cell_type": "markdown",
   "id": "ac3383e1",
   "metadata": {},
   "source": [
    "2) 1년마다 키가 10cm씩 자라는 농구선수가 있다.\n",
    "\n",
    "출력예시\n",
    "* 2017년 - 175.5 cm\n",
    "* 2018년 - 185.5 cm\n",
    "* 2019년 - 195.5 cm\n",
    "* 2020년 - 205.5 cm\n",
    "\n",
    "년도별 농구선의 키를 출력해 보자 (for문을 이용합니다.)"
   ]
  },
  {
   "cell_type": "code",
   "execution_count": 19,
   "id": "0b7084ce",
   "metadata": {},
   "outputs": [
    {
     "name": "stdout",
     "output_type": "stream",
     "text": [
      "2017 년 - 175.5 cm\n",
      "2018 년 - 185.5 cm\n",
      "2019 년 - 195.5 cm\n",
      "2020 년 - 205.5 cm\n",
      "2021 년 - 215.5 cm\n"
     ]
    }
   ],
   "source": [
    "year = 2017\n",
    "height = 175.5\n",
    "\n",
    "print(year,'년 -', height,'cm')\n",
    "for i in range(4):\n",
    "    year += 1\n",
    "    height += 10\n",
    "    print(year,'년 -', height,'cm')"
   ]
  },
  {
   "cell_type": "code",
   "execution_count": 24,
   "id": "5073af0a",
   "metadata": {},
   "outputs": [
    {
     "name": "stdout",
     "output_type": "stream",
     "text": [
      "2016 년 - 165.5 cm\n",
      "2017 년 - 175.5 cm\n",
      "2018 년 - 185.5 cm\n",
      "2019 년 - 195.5 cm\n",
      "2020 년 - 205.5 cm\n"
     ]
    }
   ],
   "source": [
    "year = 2016\n",
    "height = 165.5\n",
    "\n",
    "print(year,'년 -', height,'cm')\n",
    "for i in range(4):\n",
    "    year += 1\n",
    "    height += 10\n",
    "    print(year,'년 -', height,'cm')"
   ]
  }
 ],
 "metadata": {
  "kernelspec": {
   "display_name": "Python 3 (ipykernel)",
   "language": "python",
   "name": "python3"
  },
  "language_info": {
   "codemirror_mode": {
    "name": "ipython",
    "version": 3
   },
   "file_extension": ".py",
   "mimetype": "text/x-python",
   "name": "python",
   "nbconvert_exporter": "python",
   "pygments_lexer": "ipython3",
   "version": "3.9.7"
  }
 },
 "nbformat": 4,
 "nbformat_minor": 5
}
