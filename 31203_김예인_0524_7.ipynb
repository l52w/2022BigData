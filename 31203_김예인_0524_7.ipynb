{
 "cells": [
  {
   "cell_type": "markdown",
   "id": "7f4acca0",
   "metadata": {},
   "source": [
    "**[21]**<br>\n",
    "입력받은 전화번호에서 하이픈('-')을 제거하고 출력하세요. <br>\n",
    "```\n",
    "입력 : 010-1111-2222\n",
    "출력 : 010 1111 2222\n",
    "```"
   ]
  },
  {
   "cell_type": "code",
   "execution_count": 2,
   "id": "8a419399",
   "metadata": {},
   "outputs": [
    {
     "name": "stdout",
     "output_type": "stream",
     "text": [
      "입력 : 010-1111-2222\n",
      "출력 : 010 1111 2222\n"
     ]
    }
   ],
   "source": [
    "a,b,c = input('입력 : ').split('-')\n",
    "print('출력 : {} {} {}'.format(a,b,c))"
   ]
  },
  {
   "cell_type": "code",
   "execution_count": 6,
   "id": "076452f4",
   "metadata": {},
   "outputs": [
    {
     "name": "stdout",
     "output_type": "stream",
     "text": [
      "입력 : 010-1111-2222\n",
      "출력 : 010 1111 2222\n"
     ]
    }
   ],
   "source": [
    "a = input('입력 : ').split('-')\n",
    "print('출력 : {} {} {}'.format(a[0],a[1],a[2]))"
   ]
  },
  {
   "cell_type": "code",
   "execution_count": 9,
   "id": "def338e7",
   "metadata": {},
   "outputs": [
    {
     "name": "stdout",
     "output_type": "stream",
     "text": [
      "입력 : 010-1111-2222\n",
      "출력 : 010 1111 2222\n"
     ]
    }
   ],
   "source": [
    "a = input('입력 : ')\n",
    "a = a.replace(\"-\", \" \")\n",
    "print('출력 : {}'.format(a))"
   ]
  },
  {
   "cell_type": "markdown",
   "id": "18749cdf",
   "metadata": {},
   "source": [
    "**[22]**<br>\n",
    "공백이 포함되어 있는 한 문장이 입력된다. 단, 입력되는 문장은 여러 개의 단어로 구성되고, 엔터로 끝난다."
   ]
  },
  {
   "cell_type": "code",
   "execution_count": 11,
   "id": "1523281e",
   "metadata": {},
   "outputs": [
    {
     "name": "stdout",
     "output_type": "stream",
     "text": [
      "입력 : programing is very good\n",
      "출력 : programing is very good\n"
     ]
    }
   ],
   "source": [
    "d,e,f,g = input('입력 : ').split(' ')\n",
    "print('출력 : {} {} {} {}'.format(d,e,f,g))"
   ]
  },
  {
   "cell_type": "markdown",
   "id": "2697ceda",
   "metadata": {},
   "source": [
    "**[23]**<br>\n",
    "실수 1개를 입력받아 정수 부분과 실수 부분으로 나누어 출력한다.<br>\n",
    "입력 : 1.435867<br>\n",
    "출력 : <br> \n",
    "1 <br> 435867"
   ]
  },
  {
   "cell_type": "code",
   "execution_count": 26,
   "id": "335ec623",
   "metadata": {},
   "outputs": [
    {
     "name": "stdout",
     "output_type": "stream",
     "text": [
      "입력 : 1.435867\n",
      "출력 : 정수=1 소수=435867\n"
     ]
    }
   ],
   "source": [
    "h = list(map(int, input('입력 : ').split('.')))\n",
    "print('출력 : 정수={} 소수={}'.format(h[0],h[1]))"
   ]
  },
  {
   "cell_type": "code",
   "execution_count": 28,
   "id": "4630acd7",
   "metadata": {},
   "outputs": [
    {
     "name": "stdout",
     "output_type": "stream",
     "text": [
      "입력 : 3.14159265358979323\n",
      "정수 : 3\n",
      "소수 : 14159265358979323\n",
      "\n"
     ]
    }
   ],
   "source": [
    "i,j = input('입력 : ').split('.')\n",
    "print('''\\\n",
    "정수 : {}\n",
    "소수 : {}\n",
    "'''.format(i,j))"
   ]
  }
 ],
 "metadata": {
  "kernelspec": {
   "display_name": "Python 3 (ipykernel)",
   "language": "python",
   "name": "python3"
  },
  "language_info": {
   "codemirror_mode": {
    "name": "ipython",
    "version": 3
   },
   "file_extension": ".py",
   "mimetype": "text/x-python",
   "name": "python",
   "nbconvert_exporter": "python",
   "pygments_lexer": "ipython3",
   "version": "3.9.7"
  }
 },
 "nbformat": 4,
 "nbformat_minor": 5
}
