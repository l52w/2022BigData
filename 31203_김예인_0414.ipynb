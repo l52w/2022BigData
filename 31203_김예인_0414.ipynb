{
 "cells": [
  {
   "cell_type": "markdown",
   "id": "dcb88b1b",
   "metadata": {},
   "source": [
    "# 31203_김예인_0414"
   ]
  },
  {
   "cell_type": "markdown",
   "id": "ae23c2b2",
   "metadata": {},
   "source": [
    "# for문을 이용한 합계구하기\n",
    "\n",
    "> 형식<br>\n",
    "for 변수 in range(시작값, 끝값+1, 증가값) :<br>\n",
    "    명령문"
   ]
  },
  {
   "cell_type": "code",
   "execution_count": 10,
   "id": "54184bb3",
   "metadata": {},
   "outputs": [
    {
     "name": "stdout",
     "output_type": "stream",
     "text": [
      "0 조금있으면 하교합니다.\n",
      "1 조금있으면 하교합니다.\n",
      "2 조금있으면 하교합니다.\n",
      "-------------\n",
      "1 조금있으면 하교합니다.\n",
      "2 조금있으면 하교합니다.\n",
      "3 조금있으면 하교합니다.\n",
      "-------------\n",
      "4 조금있으면 하교합니다.\n",
      "5 조금있으면 하교합니다.\n",
      "6 조금있으면 하교합니다.\n",
      "-------------\n",
      "딸기는 제가 좋아하는 과일입니다.\n",
      "포도는 제가 좋아하는 과일입니다.\n",
      "키위는 제가 좋아하는 과일입니다.\n"
     ]
    }
   ],
   "source": [
    "# 3번 출력\n",
    "# 조금있으면 하교합니다.\n",
    "# for i in range():\n",
    "\n",
    "for i in range(3):\n",
    "    print(i, '조금있으면 하교합니다.')\n",
    "print('-------------')\n",
    "\n",
    "for i in range(1,4):\n",
    "    print(i, '조금있으면 하교합니다.')\n",
    "print('-------------')\n",
    "\n",
    "for i in [4,5,6]:\n",
    "    print(i, '조금있으면 하교합니다.')\n",
    "print('-------------')\n",
    "\n",
    "for i in ['딸기', '포도', '키위']:\n",
    "    print(i+'는 제가 좋아하는 과일입니다.')"
   ]
  },
  {
   "cell_type": "code",
   "execution_count": 14,
   "id": "1f1b16a2",
   "metadata": {},
   "outputs": [
    {
     "name": "stdout",
     "output_type": "stream",
     "text": [
      "1\n",
      "2\n",
      "3\n",
      "4\n",
      "5\n",
      "-----------\n",
      "1 2 3 4 5 "
     ]
    }
   ],
   "source": [
    "# 1에서 5까지 출력\n",
    "\n",
    "# 세로형\n",
    "for i in range(1,6,1):\n",
    "    print(i)\n",
    "print('-----------')\n",
    "# 가로형\n",
    "for i in range(1,6,1):\n",
    "    print('%d' % i, end = \" \")"
   ]
  },
  {
   "cell_type": "code",
   "execution_count": 20,
   "id": "921664d7",
   "metadata": {},
   "outputs": [
    {
     "name": "stdout",
     "output_type": "stream",
     "text": [
      "1에서 1까지 합은 : 55\n"
     ]
    }
   ],
   "source": [
    "# 1에서 10까지 합을 구해봅시다.\n",
    "\n",
    "# 무식하게 구하기\n",
    "hap = 1+2+3+4+5+6+7+8+9+10\n",
    "print('1에서 1까지 합은 : %d' % hap)"
   ]
  },
  {
   "cell_type": "code",
   "execution_count": 22,
   "id": "1aa2e5c1",
   "metadata": {},
   "outputs": [
    {
     "name": "stdout",
     "output_type": "stream",
     "text": [
      "1에서 1까지 합은 : 55\n"
     ]
    }
   ],
   "source": [
    "# 1에서 10까지 합을 구해봅시다.\n",
    "# 유식하게 구하기\n",
    "i, hap = 0,0\n",
    "\n",
    "for i in range(1,11,1):\n",
    "    hap = hap + i\n",
    "print('1에서 1까지 합은 : %d' % hap)"
   ]
  },
  {
   "cell_type": "code",
   "execution_count": 24,
   "id": "e78d2b07",
   "metadata": {},
   "outputs": [
    {
     "name": "stdout",
     "output_type": "stream",
     "text": [
      "시작값 : 101\n",
      "종료값 : 200\n",
      "증가값 : 2\n",
      "101에서 200까지 2씩 증가한 합은 : 7500\n"
     ]
    }
   ],
   "source": [
    "# 입력받은 시작값에서 종료값+1까지 합을 for문을 이용해 구해라.\n",
    "i, hap, a, b, c = 0,0,0,0,0 #변수의 초기화\n",
    "a = int(input('시작값 : '))\n",
    "b = int(input('종료값 : '))\n",
    "c = int(input('증가값 : '))\n",
    "\n",
    "for i in range(a,b+1,c):\n",
    "    hap += i # 누적합 구하기\n",
    "print('%d에서 %d까지 %d씩 증가한 합은 : %d' % (a,b,c,hap))"
   ]
  },
  {
   "cell_type": "code",
   "execution_count": null,
   "id": "103e3a2c",
   "metadata": {},
   "outputs": [],
   "source": []
  }
 ],
 "metadata": {
  "kernelspec": {
   "display_name": "Python 3 (ipykernel)",
   "language": "python",
   "name": "python3"
  },
  "language_info": {
   "codemirror_mode": {
    "name": "ipython",
    "version": 3
   },
   "file_extension": ".py",
   "mimetype": "text/x-python",
   "name": "python",
   "nbconvert_exporter": "python",
   "pygments_lexer": "ipython3",
   "version": "3.9.7"
  }
 },
 "nbformat": 4,
 "nbformat_minor": 5
}
