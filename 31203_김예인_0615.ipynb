{
 "cells": [
  {
   "cell_type": "markdown",
   "id": "c9e485b4",
   "metadata": {},
   "source": [
    "# 문제1\n",
    "\n",
    "1부터 입력하는 숫자 중에서 2의 배수이거나 3의 배수면 더하는 프로그램\n",
    "> 1. 변수를 적당히 지정한다.\n",
    "> 2. input함수 사용\n",
    "> 3. while문을 사용\n",
    "> 4. if문을 사용\n",
    "> 5. 합계를 출력한다.\n",
    "\n",
    "출력예시\n",
    "```\n",
    "문제 : 1부터 입력하는 숫자중에서 2의 배수이거나 3의 배수이면 더하는 프로그램\n",
    "입력 : 1000\n",
    "합계 : 334167\n",
    "```"
   ]
  },
  {
   "cell_type": "code",
   "execution_count": 11,
   "id": "b3b82a65",
   "metadata": {},
   "outputs": [
    {
     "name": "stdout",
     "output_type": "stream",
     "text": [
      "문제 : 1부터 입력하는 숫자중에서 2의 배수이거나 3의 배수면 더하는 프로그램\n",
      "입력 : 10\n",
      "합계 : 42\n"
     ]
    }
   ],
   "source": [
    "print('문제 : 1부터 입력하는 숫자중에서 2의 배수이거나 3의 배수면 더하는 프로그램')\n",
    "end = int(input('입력 : '))\n",
    "start = 1\n",
    "sum = 0\n",
    "while start <= end :\n",
    "    if start%2==0 or start%3==0:\n",
    "        sum += start\n",
    "    start += 1\n",
    "print('합계 :',sum)"
   ]
  },
  {
   "cell_type": "code",
   "execution_count": 13,
   "id": "e63b8564",
   "metadata": {},
   "outputs": [
    {
     "name": "stdout",
     "output_type": "stream",
     "text": [
      "입력 : 1000\n",
      "출력 : 334167\n"
     ]
    }
   ],
   "source": [
    "end = int(input('입력 : '))\n",
    "start = 1\n",
    "sum = 0\n",
    "while start <= end:\n",
    "    if start%2==0 or start%3==0:\n",
    "        sum += start\n",
    "    start += 1\n",
    "print('출력 :', sum)"
   ]
  },
  {
   "cell_type": "code",
   "execution_count": 16,
   "id": "d13a2d5e",
   "metadata": {},
   "outputs": [
    {
     "name": "stdout",
     "output_type": "stream",
     "text": [
      "문제1 : 1부터 입력하는 숫자중에서 2의배수 이거나 3의 배수를 더하는 프로그램\n",
      "입력 : 100\n",
      "합계 : 3417\n"
     ]
    }
   ],
   "source": [
    "print('문제1 : 1부터 입력하는 숫자중에서 2의배수 이거나 3의 배수를 더하는 프로그램')\n",
    "end = int(input('입력 : '))\n",
    "sum = 0    # 초기화\n",
    "start = 1    # 초기화\n",
    "while start <= end :\n",
    "    if start%2==0 or start%3==0:\n",
    "        sum += start\n",
    "    start += 1\n",
    "print('합계 :', sum)"
   ]
  },
  {
   "cell_type": "code",
   "execution_count": 18,
   "id": "bc330996",
   "metadata": {},
   "outputs": [
    {
     "name": "stdout",
     "output_type": "stream",
     "text": [
      "문제 : 1부터 입력하는 숫자중에서 2의 배수이거나 3의 배수를 더하는 프로그램\n",
      "입력 : 1000\n",
      "출력 : 334167\n"
     ]
    }
   ],
   "source": [
    "print('문제 : 1부터 입력하는 숫자중에서 2의 배수이거나 3의 배수를 더하는 프로그램')\n",
    "end = int(input('입력 : '))\n",
    "start = 1\n",
    "sum = 0\n",
    "while start <= end :\n",
    "    start += 1\n",
    "    if start%2==0 or start%3==0:\n",
    "        sum += start\n",
    "print('출력 :', sum)"
   ]
  },
  {
   "cell_type": "code",
   "execution_count": null,
   "id": "b29988de",
   "metadata": {},
   "outputs": [],
   "source": []
  }
 ],
 "metadata": {
  "kernelspec": {
   "display_name": "Python 3 (ipykernel)",
   "language": "python",
   "name": "python3"
  },
  "language_info": {
   "codemirror_mode": {
    "name": "ipython",
    "version": 3
   },
   "file_extension": ".py",
   "mimetype": "text/x-python",
   "name": "python",
   "nbconvert_exporter": "python",
   "pygments_lexer": "ipython3",
   "version": "3.9.7"
  }
 },
 "nbformat": 4,
 "nbformat_minor": 5
}
